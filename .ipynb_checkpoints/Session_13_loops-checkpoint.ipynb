{
 "cells": [
  {
   "cell_type": "markdown",
   "id": "119182d4-b23c-449b-9e64-16dcbf023c62",
   "metadata": {},
   "source": [
    "- Hii good morning \n",
    "- how are there \n",
    "- i am happy\n",
    "- i hope wiil u happy there"
   ]
  },
  {
   "cell_type": "markdown",
   "id": "f6871f44-5b00-4355-a72e-06ab4f8abb56",
   "metadata": {},
   "source": [
    "# **============== Loops ==============**\n",
    "- loops are used to iterate the code multiple times\n",
    "- function are used to reuse the code block\n",
    "- that code block can be repeated multiple times\n",
    "- whenever you are doing same task multiple time then think about loop\n",
    "- We have two loops\n",
    "    - for loop\n",
    "    - while loop "
   ]
  },
  {
   "cell_type": "markdown",
   "id": "3d0445a4-56ec-4c9f-adac-b0fc17a04a1e",
   "metadata": {},
   "source": [
    "# **============== Loops ==============**\n",
    "- loops are used to iterate the code multiple times\n",
    "- function are used to reuse the code block\n",
    "- that code block can be repeated multiple times\n",
    "- whenever you are doing same task multiple time then think about loop\n",
    "- We have two loops\n",
    "    - for loop\n",
    "    - while loop "
   ]
  },
  {
   "cell_type": "markdown",
   "id": "71c1d2b9-33e5-4c14-ba67-6607661dc14f",
   "metadata": {},
   "source": [
    "- Any loop we need three things\n",
    "    - Initialization(Start point)\n",
    "    - Increment  or decrement\n",
    "    - condition to stop"
   ]
  },
  {
   "cell_type": "markdown",
   "id": "52187255-1077-4c46-9bde-61def86ea152",
   "metadata": {},
   "source": [
    "## **for** loop"
   ]
  },
  {
   "cell_type": "markdown",
   "id": "bb3aabeb-a5f7-48b1-91e1-6a3d0ea84543",
   "metadata": {},
   "source": [
    "#### for <variable> in range (<number>):\n",
    " -   < write your code>"
   ]
  },
  {
   "cell_type": "code",
   "execution_count": 1,
   "id": "85f86dda-3c5c-4406-829e-6556de122948",
   "metadata": {},
   "outputs": [
    {
     "name": "stdout",
     "output_type": "stream",
     "text": [
      "0\n",
      "1\n",
      "2\n",
      "3\n",
      "4\n"
     ]
    }
   ],
   "source": [
    "for i in range(5):\n",
    "    print(i)"
   ]
  },
  {
   "cell_type": "code",
   "execution_count": 2,
   "id": "c5628ea2-06cc-4b02-a329-7c1b2264cee0",
   "metadata": {},
   "outputs": [
    {
     "name": "stdout",
     "output_type": "stream",
     "text": [
      "0\n",
      "1\n",
      "2\n"
     ]
    }
   ],
   "source": [
    "print(0)\n",
    "print(1)\n",
    "print(2)"
   ]
  },
  {
   "cell_type": "code",
   "execution_count": 3,
   "id": "f5e720d9-1ae9-4775-bb01-e7d983480b32",
   "metadata": {},
   "outputs": [
    {
     "name": "stdout",
     "output_type": "stream",
     "text": [
      "0\n",
      "1\n",
      "2\n"
     ]
    }
   ],
   "source": [
    "#print(0)\n",
    "#print(1)\n",
    "#print(2)\n",
    "for i in range(3):\n",
    "    print(i)"
   ]
  },
  {
   "cell_type": "code",
   "execution_count": 4,
   "id": "be898dab-ac6a-42a6-8e8e-ddfbed28bda0",
   "metadata": {},
   "outputs": [
    {
     "name": "stdout",
     "output_type": "stream",
     "text": [
      "0\n",
      "1\n",
      "2\n"
     ]
    }
   ],
   "source": [
    "for trump in range(3):\n",
    "    print(trump)"
   ]
  },
  {
   "cell_type": "code",
   "execution_count": 5,
   "id": "405114ad-ec65-4ac4-9ee7-16cb7779f8ad",
   "metadata": {},
   "outputs": [
    {
     "name": "stdout",
     "output_type": "stream",
     "text": [
      "0 1 2\n"
     ]
    }
   ],
   "source": [
    "print(0, end = \" \")\n",
    "print(1, end = \" \")\n",
    "print(2)"
   ]
  },
  {
   "cell_type": "code",
   "execution_count": 6,
   "id": "638fbec4-2213-4195-becd-12fc982ac62c",
   "metadata": {},
   "outputs": [
    {
     "name": "stdout",
     "output_type": "stream",
     "text": [
      "0 1 2 "
     ]
    }
   ],
   "source": [
    "for i in range(3):\n",
    "    print(i, end = \" \")"
   ]
  },
  {
   "cell_type": "markdown",
   "id": "34a34784-c88f-4237-9b7f-79dff3359f60",
   "metadata": {},
   "source": [
    "### Case-1 : range(stop)\n",
    "- start = 0 by default\n",
    "- increment by 1\n",
    "- last = stop-1"
   ]
  },
  {
   "cell_type": "code",
   "execution_count": 7,
   "id": "fe6229c3-819a-493f-b01a-e873aeed8848",
   "metadata": {},
   "outputs": [
    {
     "name": "stdout",
     "output_type": "stream",
     "text": [
      "0\n",
      "1\n",
      "2\n",
      "3\n",
      "4\n",
      "5\n",
      "6\n",
      "7\n",
      "8\n",
      "9\n"
     ]
    }
   ],
   "source": [
    "for i in range(10):\n",
    "    print(i)"
   ]
  },
  {
   "cell_type": "code",
   "execution_count": 8,
   "id": "e3c31ee9-9f63-4eb8-86a2-9cada8a1eff5",
   "metadata": {},
   "outputs": [
    {
     "name": "stdout",
     "output_type": "stream",
     "text": [
      "0 1 2 3 4 5 6 7 8 9 "
     ]
    }
   ],
   "source": [
    "for i in range(10):\n",
    "    print(i, end = \" \")"
   ]
  },
  {
   "cell_type": "code",
   "execution_count": 9,
   "id": "05dde0db-6d76-4db5-a265-5c6a3cd050af",
   "metadata": {},
   "outputs": [
    {
     "name": "stdout",
     "output_type": "stream",
     "text": [
      "Good night\n",
      "Good night\n",
      "Good night\n"
     ]
    }
   ],
   "source": [
    "print(\"Good night\")\n",
    "print(\"Good night\")\n",
    "print(\"Good night\")"
   ]
  },
  {
   "cell_type": "code",
   "execution_count": 10,
   "id": "f96e767a-212e-4900-8358-ebb9fde6e558",
   "metadata": {},
   "outputs": [
    {
     "name": "stdout",
     "output_type": "stream",
     "text": [
      "Good night\n",
      "Good night\n",
      "Good night\n"
     ]
    }
   ],
   "source": [
    "for i in range(3):\n",
    "    print(\"Good night\")"
   ]
  },
  {
   "cell_type": "markdown",
   "id": "a3b39765-5a22-4b0d-b07f-8c445a82f865",
   "metadata": {},
   "source": [
    "### Case-2 : range(start, stop) :\n",
    "- Suppose i wanbt to start my loop with  a particular number\n",
    "- then add stasrt also inside range\n",
    "- start = start\n",
    "- incerement by 1\n",
    "- last = stop-1\n",
    "- range(10,20)\n",
    "    - start=10, increment=1, stop= 20-1 "
   ]
  },
  {
   "cell_type": "code",
   "execution_count": 11,
   "id": "cc0c2646-688c-4f99-bea4-8009fe316f14",
   "metadata": {},
   "outputs": [
    {
     "name": "stdout",
     "output_type": "stream",
     "text": [
      "10 11 12 13 14 15 16 17 18 19 "
     ]
    }
   ],
   "source": [
    "for i in range(10,20):\n",
    "    print(i, end = \" \")"
   ]
  },
  {
   "cell_type": "code",
   "execution_count": 12,
   "id": "6dad3caf-af38-4193-b132-0d02cd7606f7",
   "metadata": {},
   "outputs": [
    {
     "name": "stdout",
     "output_type": "stream",
     "text": [
      "the square of 1 is 1\n",
      "the square of 2 is 4\n",
      "the square of 3 is 9\n",
      "the square of 4 is 16\n",
      "the square of 5 is 25\n"
     ]
    }
   ],
   "source": [
    "# WAP ask the user print the square first 5 number\n",
    "# suare of 1 is 1\n",
    "# square of 2 is 4\n",
    "# square of 3 is 9\n",
    "# square of 4 is 16\n",
    "# square of 5 is 25\n",
    "\n",
    "\n",
    "for i in range(1,6):\n",
    "    print(f\"the square of {i} is {i*i}\")"
   ]
  },
  {
   "cell_type": "code",
   "execution_count": 13,
   "id": "604cdbf0-d758-4326-ab1c-0060aa295c3d",
   "metadata": {},
   "outputs": [
    {
     "name": "stdin",
     "output_type": "stream",
     "text": [
      "Enter the Number 2\n"
     ]
    },
    {
     "name": "stdout",
     "output_type": "stream",
     "text": [
      "the square of 2 is 4\n"
     ]
    },
    {
     "name": "stdin",
     "output_type": "stream",
     "text": [
      "Enter the Number 5\n"
     ]
    },
    {
     "name": "stdout",
     "output_type": "stream",
     "text": [
      "the square of 5 is 25\n"
     ]
    },
    {
     "name": "stdin",
     "output_type": "stream",
     "text": [
      "Enter the Number 7\n"
     ]
    },
    {
     "name": "stdout",
     "output_type": "stream",
     "text": [
      "the square of 7 is 49\n"
     ]
    },
    {
     "name": "stdin",
     "output_type": "stream",
     "text": [
      "Enter the Number 9\n"
     ]
    },
    {
     "name": "stdout",
     "output_type": "stream",
     "text": [
      "the square of 9 is 81\n"
     ]
    },
    {
     "name": "stdin",
     "output_type": "stream",
     "text": [
      "Enter the Number 6\n"
     ]
    },
    {
     "name": "stdout",
     "output_type": "stream",
     "text": [
      "the square of 6 is 36\n"
     ]
    }
   ],
   "source": [
    "# WAP ask the user enter a number the prompt should happen 5 times\n",
    "# and print the square of the number\n",
    "\n",
    "for i in range(5):\n",
    "    num = eval(input(\"Enter the Number\"))\n",
    "    print(f\"the square of {num} is {num*num}\")"
   ]
  },
  {
   "cell_type": "code",
   "execution_count": 14,
   "id": "1b46185b-0d17-47eb-9acc-6e737735405a",
   "metadata": {},
   "outputs": [
    {
     "name": "stdin",
     "output_type": "stream",
     "text": [
      "Enter the Number 5\n"
     ]
    },
    {
     "name": "stdout",
     "output_type": "stream",
     "text": [
      "the square of 5 is 25\n"
     ]
    },
    {
     "name": "stdin",
     "output_type": "stream",
     "text": [
      "Enter the Number 6\n"
     ]
    },
    {
     "name": "stdout",
     "output_type": "stream",
     "text": [
      "the square of 6 is 36\n"
     ]
    }
   ],
   "source": [
    "def square():\n",
    "    num = eval(input(\"Enter the Number\"))\n",
    "    print(f\"the square of {num} is {num*num}\")\n",
    "\n",
    "for i in range(2):\n",
    "    square()"
   ]
  },
  {
   "cell_type": "code",
   "execution_count": 15,
   "id": "538fd6f7-f344-49ae-ba8b-0efbc772d2f1",
   "metadata": {},
   "outputs": [
    {
     "name": "stdin",
     "output_type": "stream",
     "text": [
      "Enter the Number 8\n"
     ]
    },
    {
     "name": "stdout",
     "output_type": "stream",
     "text": [
      "the square of 8 is 64\n"
     ]
    },
    {
     "name": "stdin",
     "output_type": "stream",
     "text": [
      "Enter the Number 3\n"
     ]
    },
    {
     "name": "stdout",
     "output_type": "stream",
     "text": [
      "the square of 3 is 9\n"
     ]
    },
    {
     "name": "stdin",
     "output_type": "stream",
     "text": [
      "Enter the Number 9\n"
     ]
    },
    {
     "name": "stdout",
     "output_type": "stream",
     "text": [
      "the square of 9 is 81\n"
     ]
    }
   ],
   "source": [
    "for i in range(100,103):\n",
    "    num = eval(input(\"Enter the Number\"))\n",
    "    print(f\"the square of {num} is {num*num}\")"
   ]
  },
  {
   "cell_type": "markdown",
   "id": "9c517b2f-73d1-46e1-b1d9-2a076a005817",
   "metadata": {},
   "source": [
    "### Case-3 : range(start, stop, step)"
   ]
  },
  {
   "cell_type": "markdown",
   "id": "a72ff320-4f3a-4fdc-a7e2-e8b13de7b2b7",
   "metadata": {},
   "source": [
    "- start = start only\n",
    "- step :\n",
    "    - look about step sign is it positive or negative\n",
    "    - positive means increment\n",
    "        - Last:stop-1\n",
    "    - negative means decrenment\n",
    "        - last : stop+1\n"
   ]
  },
  {
   "cell_type": "code",
   "execution_count": 16,
   "id": "fb1c7df1-7daa-4c46-b870-6e6ff4561943",
   "metadata": {},
   "outputs": [
    {
     "name": "stdout",
     "output_type": "stream",
     "text": [
      "3 5 7 9 11 13 15 17 "
     ]
    }
   ],
   "source": [
    "# Example1:  range (3,20,2)\n",
    "# start = 3\n",
    "# step =+2 increment in positive direction\n",
    "# last  = 19-1 = 18\n",
    "#3,5,7,8,9,11,13,15,17\n",
    "\n",
    "for i in range(3,19,2):\n",
    "    print(i, end = \" \")"
   ]
  },
  {
   "cell_type": "code",
   "execution_count": 17,
   "id": "b935914e-c1f9-468e-a3dc-c5c1c95ede11",
   "metadata": {},
   "outputs": [],
   "source": [
    "# Example1:  range (3,20,-2)\n",
    "# start = 3\n",
    "# step =+2 increment in negative direction\n",
    "# last  = 19+1 = 20\n",
    "\n",
    "for i in range(3,19,-2):\n",
    "    print(i, end = \" \")"
   ]
  },
  {
   "cell_type": "code",
   "execution_count": 18,
   "id": "ddaa613a-a873-41d8-82b9-5cfb3e1f4f22",
   "metadata": {},
   "outputs": [
    {
     "name": "stdout",
     "output_type": "stream",
     "text": [
      "3 1 -1 -3 -5 -7 -9 -11 -13 -15 -17 "
     ]
    }
   ],
   "source": [
    "# Example1:  range (3,-19,-2)\n",
    "# start = 3\n",
    "# step =+2 increment in negative direction\n",
    "# last  = 19+1 = 20\n",
    "for i in range(3,-19,-2):\n",
    "    print(i, end = \" \")"
   ]
  },
  {
   "cell_type": "code",
   "execution_count": 19,
   "id": "91c2cff5-e436-4fe5-a98b-a21634aec271",
   "metadata": {},
   "outputs": [
    {
     "name": "stdout",
     "output_type": "stream",
     "text": [
      "20 10 0 -10 "
     ]
    }
   ],
   "source": [
    "for i in range(20,-20,-10):\n",
    "    print(i, end = \" \")"
   ]
  },
  {
   "cell_type": "code",
   "execution_count": 20,
   "id": "16a15c30-4b6d-46c6-931f-c37d3ed0382b",
   "metadata": {},
   "outputs": [
    {
     "name": "stdout",
     "output_type": "stream",
     "text": [
      "7\n",
      "14\n",
      "21\n",
      "28\n",
      "35\n",
      "42\n",
      "49\n",
      "56\n",
      "63\n",
      "70\n"
     ]
    }
   ],
   "source": [
    "# Q4) print the 7th table\n",
    "\n",
    "for i in range(7, 71,7):\n",
    "    print(i)"
   ]
  },
  {
   "cell_type": "code",
   "execution_count": 38,
   "id": "19d8d30c-bc17-4f57-a8d2-fea29f53e3ed",
   "metadata": {},
   "outputs": [
    {
     "name": "stdin",
     "output_type": "stream",
     "text": [
      "Enter the table number: 7\n"
     ]
    },
    {
     "name": "stdout",
     "output_type": "stream",
     "text": [
      "7x1=7\n",
      "7x2=14\n",
      "7x3=21\n",
      "7x4=28\n",
      "7x5=35\n",
      "7x6=42\n",
      "7x7=49\n",
      "7x8=56\n",
      "7x9=63\n",
      "7x10=70\n"
     ]
    }
   ],
   "source": [
    "# Q4) print the 7th table\n",
    "num = eval(input(\"Enter the table number:\"))\n",
    "for i in range(1,11):\n",
    "    print(f\"{num}x{i}={num*i}\")"
   ]
  },
  {
   "cell_type": "code",
   "execution_count": 22,
   "id": "abcbe3ee-7874-4370-9058-a51bf21d76c8",
   "metadata": {},
   "outputs": [
    {
     "name": "stdin",
     "output_type": "stream",
     "text": [
      "Enter the table number: 75\n"
     ]
    },
    {
     "name": "stdout",
     "output_type": "stream",
     "text": [
      "75%1=0\n",
      "75\n",
      "75%2=1\n",
      "not equal == 0\n",
      "75%3=0\n",
      "75\n",
      "75%4=3\n",
      "not equal == 0\n",
      "75%5=0\n",
      "75\n",
      "75%6=3\n",
      "not equal == 0\n",
      "75%7=5\n",
      "not equal == 0\n",
      "75%8=3\n",
      "not equal == 0\n",
      "75%9=3\n",
      "not equal == 0\n",
      "75%10=5\n",
      "not equal == 0\n"
     ]
    }
   ],
   "source": [
    "# Q4) print the division of 75 \n",
    "num = eval(input(\"Enter the table number:\"))\n",
    "for i in range(1,11):\n",
    "    print(f\"{num}%{i}={num%i}\")\n",
    "    if num%i==0:\n",
    "        print(num)\n",
    "    else:\n",
    "        print(\"not equal == 0\")\n",
    "     "
   ]
  },
  {
   "cell_type": "code",
   "execution_count": 23,
   "id": "dd58cfd7-a06f-480e-b107-5a702175e399",
   "metadata": {},
   "outputs": [
    {
     "name": "stdin",
     "output_type": "stream",
     "text": [
      "Which number divisiors u want: 75\n"
     ]
    },
    {
     "name": "stdout",
     "output_type": "stream",
     "text": [
      "1 is divisior of 75\n",
      "3 is divisior of 75\n",
      "5 is divisior of 75\n",
      "15 is divisior of 75\n",
      "25 is divisior of 75\n",
      "75 is divisior of 75\n"
     ]
    }
   ],
   "source": [
    "num = eval(input(\"Which number divisiors u want:\"))\n",
    "\n",
    "for i in range(1, num+1):\n",
    "    if num%i == 0:\n",
    "        print(f\"{i} is divisior of 75\")"
   ]
  },
  {
   "cell_type": "code",
   "execution_count": 24,
   "id": "fad163ea-2e47-42f1-919b-f24066320b46",
   "metadata": {},
   "outputs": [
    {
     "data": {
      "text/plain": [
       "55.0"
      ]
     },
     "execution_count": 24,
     "metadata": {},
     "output_type": "execute_result"
    }
   ],
   "source": [
    "#Q6) sum of first 10 natural number\n",
    "\n",
    "n = 10\n",
    "n*(n+1)/2"
   ]
  },
  {
   "cell_type": "markdown",
   "id": "64cd66f7-9e62-4a57-9f23-9a6f091ea693",
   "metadata": {},
   "source": [
    "###  Summation Wrapper"
   ]
  },
  {
   "cell_type": "code",
   "execution_count": 25,
   "id": "fc6551b4-3045-4938-906f-66d3ac29b345",
   "metadata": {},
   "outputs": [
    {
     "data": {
      "text/plain": [
       "55"
      ]
     },
     "execution_count": 25,
     "metadata": {},
     "output_type": "execute_result"
    }
   ],
   "source": [
    "# Summation Wrapper\n",
    "# staring w initialize the sum value = 0\n",
    "# inside loop we will add a simple line : summ = summ+1\n",
    "\n",
    "# summ = 0\n",
    "# for loop\n",
    "#summ = summ+1\n",
    "\n",
    "summ = 0\n",
    "for i in range(0,11):\n",
    "    summ = summ+i\n",
    "\n",
    "summ"
   ]
  },
  {
   "cell_type": "code",
   "execution_count": 26,
   "id": "f32a0ee7-904e-4897-9309-928c4f5c3c2e",
   "metadata": {},
   "outputs": [
    {
     "data": {
      "text/plain": [
       "300"
      ]
     },
     "execution_count": 26,
     "metadata": {},
     "output_type": "execute_result"
    }
   ],
   "source": [
    "# Q7) find the sum of divisior of 75\n",
    "\n",
    "num = 75\n",
    "\n",
    "for i in range(1, num+1):\n",
    "    if num%i == 0:\n",
    "        num = num+i\n",
    "\n",
    "num"
   ]
  },
  {
   "cell_type": "code",
   "execution_count": 27,
   "id": "da4cceab-ed49-407e-8159-493f86369cc0",
   "metadata": {},
   "outputs": [
    {
     "name": "stdin",
     "output_type": "stream",
     "text": [
      "Enter the number: 1\n"
     ]
    },
    {
     "name": "stdout",
     "output_type": "stream",
     "text": [
      "1\n"
     ]
    },
    {
     "data": {
      "text/plain": [
       "1"
      ]
     },
     "execution_count": 27,
     "metadata": {},
     "output_type": "execute_result"
    }
   ],
   "source": [
    "num = eval(input(\"Enter the number:\"))\n",
    "summ = 0\n",
    "for i in range(1, num+1):\n",
    "    if num%i == 0:\n",
    "        print(i)\n",
    "        summ = summ+i        \n",
    "summ"
   ]
  },
  {
   "cell_type": "markdown",
   "id": "2c33d0a8-1857-4412-a255-ade76bb3d281",
   "metadata": {},
   "source": [
    "### Count wrapper\n",
    "- count means counting the success ones\n",
    "- count = 0\n",
    "- for loop\n",
    "    - count+ = count+1"
   ]
  },
  {
   "cell_type": "code",
   "execution_count": 28,
   "id": "4928ad04-c3b8-461b-b970-4240b1282cd0",
   "metadata": {},
   "outputs": [
    {
     "name": "stdin",
     "output_type": "stream",
     "text": [
      "Enter the number which u want count of divisior: 75\n"
     ]
    },
    {
     "name": "stdout",
     "output_type": "stream",
     "text": [
      "1\n",
      "3\n",
      "5\n",
      "15\n",
      "25\n",
      "75\n"
     ]
    },
    {
     "data": {
      "text/plain": [
       "6"
      ]
     },
     "execution_count": 28,
     "metadata": {},
     "output_type": "execute_result"
    }
   ],
   "source": [
    "#Q8) find the number of divisiors of 75\n",
    "\n",
    "num = eval(input(\"Enter the number which u want count of divisior:\"))\n",
    "count_div = 0\n",
    "for i in range(1,num+1):\n",
    "    if num%i ==0:\n",
    "        \n",
    "        print(i)\n",
    "        count_div = count_div+1\n",
    "count_div"
   ]
  },
  {
   "cell_type": "code",
   "execution_count": 29,
   "id": "00033062-c6ba-49f4-8b46-82c0522c2c2f",
   "metadata": {},
   "outputs": [],
   "source": [
    "# Q9) ask the get 5 random numbers\n",
    "# means you need a get a random number inside for loop\n",
    "# the loop should run 5 times\n",
    "# now perform the even and odd operation\n",
    "# 1} even count 2) sum of even number  3) odd count  4) su of odd\n"
   ]
  },
  {
   "cell_type": "code",
   "execution_count": 30,
   "id": "8f746e89-aa4f-4134-a932-a2b7f590d222",
   "metadata": {},
   "outputs": [],
   "source": [
    "# Even_count = 0\n",
    "# odd_count = 0\n",
    "# even_sum = 0\n",
    "# odd_sum = 0"
   ]
  },
  {
   "cell_type": "code",
   "execution_count": 31,
   "id": "c8242d0d-f2a5-42ac-8b39-c91d639450a5",
   "metadata": {},
   "outputs": [
    {
     "name": "stdout",
     "output_type": "stream",
     "text": [
      "24 is an even\n",
      "47 is and odd\n",
      "10 is an even\n",
      "24 is an even\n",
      "66 is an even\n",
      "even count is 4\n",
      "even sum is 124\n",
      "odd count is 1\n",
      "odd sum is 47\n"
     ]
    }
   ],
   "source": [
    "import random\n",
    "even_count,even_sum = 0,0\n",
    "odd_count,odd_sum = 0,0\n",
    "\n",
    "for i in range(5):\n",
    "    num = random.randint(1,100)\n",
    "    if num%2 == 0:\n",
    "        print(f\"{num} is an even\")\n",
    "        even_count = even_count+1\n",
    "        even_sum = even_sum+num\n",
    "\n",
    "    else:\n",
    "        print(f\"{num} is and odd\")\n",
    "        odd_count = odd_count+1\n",
    "        odd_sum = odd_sum+num\n",
    "\n",
    "print(f\"even count is {even_count}\")\n",
    "print(f\"even sum is {even_sum}\")\n",
    "print(f\"odd count is {odd_count}\")\n",
    "print(f\"odd sum is {odd_sum}\")\n",
    "\n",
    "    \n",
    "\n",
    "\n"
   ]
  },
  {
   "cell_type": "code",
   "execution_count": 32,
   "id": "da7e5abb-ccde-4b36-857c-a7e2ad1f6ede",
   "metadata": {},
   "outputs": [],
   "source": [
    "# Q10) Game Programm\n",
    "# User enter one number\n",
    "# another number will generate randomly\n",
    "# if both numbera are equal then you won\n",
    "# ohterwise you lost\n",
    "\n",
    "# for loop\n",
    "# num1 = random\n",
    "# num2 = user keyword\n",
    "# if num1 == num2\n",
    "    # print(won)\n",
    "\n",
    "#else\n",
    "#print(lost)"
   ]
  },
  {
   "cell_type": "code",
   "execution_count": null,
   "id": "dab7b92c-9a8f-4470-b5f0-d681505482ba",
   "metadata": {},
   "outputs": [],
   "source": []
  },
  {
   "cell_type": "code",
   "execution_count": 33,
   "id": "36d400b9-1add-4bc3-820c-9f8809227389",
   "metadata": {},
   "outputs": [
    {
     "name": "stdin",
     "output_type": "stream",
     "text": [
      "Enter the number 9\n"
     ]
    },
    {
     "name": "stdout",
     "output_type": "stream",
     "text": [
      "lost\n"
     ]
    },
    {
     "name": "stdin",
     "output_type": "stream",
     "text": [
      "Enter the number 3\n"
     ]
    },
    {
     "name": "stdout",
     "output_type": "stream",
     "text": [
      "lost\n"
     ]
    },
    {
     "name": "stdin",
     "output_type": "stream",
     "text": [
      "Enter the number 6\n"
     ]
    },
    {
     "name": "stdout",
     "output_type": "stream",
     "text": [
      "lost\n"
     ]
    }
   ],
   "source": [
    "for i in range(3):\n",
    "    num1 = random.randint(1,10)\n",
    "    num2 = eval(input(\"Enter the number\"))\n",
    "\n",
    "    if num1 == num2:\n",
    "        print(\"won\")\n",
    "\n",
    "    else:\n",
    "        print(\"lost\")"
   ]
  },
  {
   "cell_type": "code",
   "execution_count": 34,
   "id": "d6e7402c-9201-46a3-9df8-aa780a502972",
   "metadata": {},
   "outputs": [],
   "source": [
    "# Case1: we apply the break === completed\n",
    "# Case2: whenever the user enter the worth answer\n",
    "    # better luck next time\n",
    "    # how many chances you left\n",
    "# case3: if you lost all the Chances\n",
    "\n",
    "    # print try after 24 hrs"
   ]
  },
  {
   "cell_type": "markdown",
   "id": "50141a92-cfeb-481a-ba17-b866cff49daf",
   "metadata": {},
   "source": [
    "### **in operator**\n",
    "- in for loop we have range and in operator\n",
    "- range is math realative word whenever we use range it excepst a number inside range\n",
    "- in operator excepts a string\n",
    "  "
   ]
  },
  {
   "cell_type": "code",
   "execution_count": 5,
   "id": "8c97e01d-bfa9-4737-8156-d8d6618b7c5d",
   "metadata": {},
   "outputs": [
    {
     "ename": "TypeError",
     "evalue": "'str' object cannot be interpreted as an integer",
     "output_type": "error",
     "traceback": [
      "\u001b[1;31m---------------------------------------------------------------------------\u001b[0m",
      "\u001b[1;31mTypeError\u001b[0m                                 Traceback (most recent call last)",
      "Cell \u001b[1;32mIn[5], line 1\u001b[0m\n\u001b[1;32m----> 1\u001b[0m \u001b[38;5;28;01mfor\u001b[39;00m i \u001b[38;5;129;01min\u001b[39;00m \u001b[38;5;28;43mrange\u001b[39;49m\u001b[43m(\u001b[49m\u001b[38;5;241;43m1\u001b[39;49m\u001b[43m,\u001b[49m\u001b[38;5;124;43m'\u001b[39;49m\u001b[38;5;124;43mpython\u001b[39;49m\u001b[38;5;124;43m'\u001b[39;49m\u001b[43m)\u001b[49m:\n\u001b[0;32m      2\u001b[0m     \u001b[38;5;28mprint\u001b[39m(i, end \u001b[38;5;241m=\u001b[39m\u001b[38;5;124m\"\u001b[39m\u001b[38;5;124m \u001b[39m\u001b[38;5;124m\"\u001b[39m)\n",
      "\u001b[1;31mTypeError\u001b[0m: 'str' object cannot be interpreted as an integer"
     ]
    }
   ],
   "source": [
    "for i in range(1,'python'):\n",
    "    print(i, end =\" \")"
   ]
  },
  {
   "cell_type": "code",
   "execution_count": 8,
   "id": "6531c00e-f72b-497b-966a-c4cf08e3b08a",
   "metadata": {},
   "outputs": [
    {
     "name": "stdout",
     "output_type": "stream",
     "text": [
      "P y t h o n "
     ]
    }
   ],
   "source": [
    "for i in \"Python\":\n",
    "    print(i, end = \" \")"
   ]
  },
  {
   "cell_type": "code",
   "execution_count": 9,
   "id": "071e55ca-fd6f-4277-84c5-7e0e75700d73",
   "metadata": {},
   "outputs": [
    {
     "name": "stdout",
     "output_type": "stream",
     "text": [
      "B h u p e n d r a   S i n g h "
     ]
    }
   ],
   "source": [
    "for i in \"Bhupendra Singh\":\n",
    "    print(i, end = \" \")"
   ]
  },
  {
   "cell_type": "code",
   "execution_count": 11,
   "id": "4d35ea74-bbe4-4e70-bbe7-2a653fe5ae42",
   "metadata": {},
   "outputs": [
    {
     "data": {
      "text/plain": [
       "True"
      ]
     },
     "execution_count": 11,
     "metadata": {},
     "output_type": "execute_result"
    }
   ],
   "source": [
    "'p' in 'python'\n",
    "'y' in 'python'\n",
    "'t' in 'python'\n",
    "'h' in 'python'\n",
    "'o' in 'python'\n",
    "'n' in 'python'\n"
   ]
  },
  {
   "cell_type": "code",
   "execution_count": 17,
   "id": "fa9d28ac-29b5-4352-aa7f-33e7140150c3",
   "metadata": {},
   "outputs": [
    {
     "data": {
      "text/plain": [
       "True"
      ]
     },
     "execution_count": 17,
     "metadata": {},
     "output_type": "execute_result"
    }
   ],
   "source": [
    "i in 'python'"
   ]
  },
  {
   "cell_type": "markdown",
   "id": "23d344c0-0583-4bae-a1cd-5071b20cfe2a",
   "metadata": {},
   "source": [
    "### \"ASCII\"\n",
    "- American Standard code for information interchange"
   ]
  },
  {
   "cell_type": "code",
   "execution_count": 18,
   "id": "4032593d-2842-4c20-abe1-3d2fbc853635",
   "metadata": {},
   "outputs": [
    {
     "data": {
      "text/plain": [
       "False"
      ]
     },
     "execution_count": 18,
     "metadata": {},
     "output_type": "execute_result"
    }
   ],
   "source": [
    "'A' == 65"
   ]
  },
  {
   "cell_type": "code",
   "execution_count": 19,
   "id": "0c37a933-e85e-41db-a801-c855951df6a2",
   "metadata": {},
   "outputs": [
    {
     "data": {
      "text/plain": [
       "False"
      ]
     },
     "execution_count": 19,
     "metadata": {},
     "output_type": "execute_result"
    }
   ],
   "source": [
    "'a'== 97"
   ]
  },
  {
   "cell_type": "code",
   "execution_count": 20,
   "id": "4a5daf4b-e2ba-47f8-b107-eb6c9cb0d936",
   "metadata": {},
   "outputs": [
    {
     "data": {
      "text/plain": [
       "False"
      ]
     },
     "execution_count": 20,
     "metadata": {},
     "output_type": "execute_result"
    }
   ],
   "source": [
    "'A'>'a'   # 65>97"
   ]
  },
  {
   "cell_type": "markdown",
   "id": "60ce115b-4645-4bbe-bc27-4ac6e0f11282",
   "metadata": {},
   "source": [
    "- How to convert char to number\n",
    "- How to convert number to char"
   ]
  },
  {
   "cell_type": "markdown",
   "id": "624805a9-5918-48f1-a056-3c15cc72607e",
   "metadata": {},
   "source": [
    "#### chr-ord"
   ]
  },
  {
   "cell_type": "code",
   "execution_count": 81,
   "id": "c653a17f-d2bb-4703-a41c-30efe3598cd2",
   "metadata": {},
   "outputs": [],
   "source": [
    "# chr('a') ,chr(97)\n",
    "# ord('a') ,ord(97)"
   ]
  },
  {
   "cell_type": "code",
   "execution_count": 26,
   "id": "46fafc6c-2343-4e5c-9aed-390e27df4c8a",
   "metadata": {},
   "outputs": [
    {
     "data": {
      "text/plain": [
       "'A'"
      ]
     },
     "execution_count": 26,
     "metadata": {},
     "output_type": "execute_result"
    }
   ],
   "source": [
    "chr(65)"
   ]
  },
  {
   "cell_type": "code",
   "execution_count": 27,
   "id": "271871da-e055-4232-86ae-6130b9a3b4da",
   "metadata": {},
   "outputs": [
    {
     "data": {
      "text/plain": [
       "65"
      ]
     },
     "execution_count": 27,
     "metadata": {},
     "output_type": "execute_result"
    }
   ],
   "source": [
    "ord('A')"
   ]
  },
  {
   "cell_type": "code",
   "execution_count": 29,
   "id": "9b805253-d640-4364-a4e6-086d2f610c5c",
   "metadata": {},
   "outputs": [
    {
     "data": {
      "text/plain": [
       "'a'"
      ]
     },
     "execution_count": 29,
     "metadata": {},
     "output_type": "execute_result"
    }
   ],
   "source": [
    "chr(97)"
   ]
  },
  {
   "cell_type": "code",
   "execution_count": 30,
   "id": "cc2e8c98-8f64-45af-94ed-fc609a3f5a0b",
   "metadata": {},
   "outputs": [
    {
     "data": {
      "text/plain": [
       "97"
      ]
     },
     "execution_count": 30,
     "metadata": {},
     "output_type": "execute_result"
    }
   ],
   "source": [
    "ord('a')"
   ]
  },
  {
   "cell_type": "markdown",
   "id": "e28ec8dc-597a-4747-b5c1-a073a511e435",
   "metadata": {},
   "source": [
    "- so **ord** converting char to number\n",
    "- **chr** converting number to char"
   ]
  },
  {
   "cell_type": "code",
   "execution_count": 34,
   "id": "5da811ff-7976-4d8c-8d32-057500842dc6",
   "metadata": {},
   "outputs": [
    {
     "data": {
      "text/plain": [
       "104"
      ]
     },
     "execution_count": 34,
     "metadata": {},
     "output_type": "execute_result"
    }
   ],
   "source": [
    "# WAP ask the user get the ASCII number from a to z\n",
    "# print :A:65\n",
    "# B: 66\n",
    "\n",
    "ord(i)"
   ]
  },
  {
   "cell_type": "code",
   "execution_count": 35,
   "id": "45030485-f481-49b5-807d-0897b04cf765",
   "metadata": {},
   "outputs": [
    {
     "name": "stdout",
     "output_type": "stream",
     "text": [
      "65\n",
      "66\n",
      "67\n",
      "68\n",
      "69\n",
      "70\n",
      "71\n",
      "72\n",
      "73\n",
      "74\n",
      "75\n",
      "76\n",
      "77\n",
      "78\n",
      "79\n",
      "80\n",
      "81\n",
      "82\n",
      "83\n",
      "84\n",
      "85\n",
      "86\n",
      "87\n",
      "88\n",
      "89\n",
      "90\n"
     ]
    }
   ],
   "source": [
    "for i in 'ABCDEFGHIJKLMNOPQRSTUVWXYZ':\n",
    "    print(ord(i))"
   ]
  },
  {
   "cell_type": "code",
   "execution_count": 51,
   "id": "c46b4df4-4458-450a-915d-55038d07820c",
   "metadata": {},
   "outputs": [
    {
     "name": "stdout",
     "output_type": "stream",
     "text": [
      "65 : A\n",
      "66 : B\n",
      "67 : C\n",
      "68 : D\n",
      "69 : E\n",
      "70 : F\n",
      "71 : G\n",
      "72 : H\n",
      "73 : I\n",
      "74 : J\n",
      "75 : K\n",
      "76 : L\n",
      "77 : M\n",
      "78 : N\n",
      "79 : O\n",
      "80 : P\n",
      "81 : Q\n",
      "82 : R\n",
      "83 : S\n",
      "84 : T\n",
      "85 : U\n",
      "86 : V\n",
      "87 : W\n",
      "88 : X\n",
      "89 : Y\n",
      "90 : Z\n"
     ]
    }
   ],
   "source": [
    "for i in range(65,91):\n",
    "    print(f\"{i} : {chr(i)}\")"
   ]
  },
  {
   "cell_type": "code",
   "execution_count": 48,
   "id": "16841048-155d-4a1d-bbfb-32e249aac77e",
   "metadata": {},
   "outputs": [
    {
     "name": "stdout",
     "output_type": "stream",
     "text": [
      "97 : a\n",
      "98 : b\n",
      "99 : c\n",
      "100 : d\n",
      "101 : e\n",
      "102 : f\n",
      "103 : g\n",
      "104 : h\n",
      "105 : i\n",
      "106 : j\n",
      "107 : k\n",
      "108 : l\n",
      "109 : m\n",
      "110 : n\n",
      "111 : o\n",
      "112 : p\n",
      "113 : q\n",
      "114 : r\n",
      "115 : s\n",
      "116 : t\n",
      "117 : u\n",
      "118 : v\n",
      "119 : w\n",
      "120 : x\n",
      "121 : y\n",
      "122 : z\n"
     ]
    }
   ],
   "source": [
    "for i in range(97,123):\n",
    "    print(f\"{i} : {chr(i)}\")"
   ]
  },
  {
   "cell_type": "markdown",
   "id": "98dbc5ff-cb4d-423f-9745-75f2ddf5cbfa",
   "metadata": {},
   "source": [
    "### Package : string"
   ]
  },
  {
   "cell_type": "code",
   "execution_count": null,
   "id": "bd883e7a-83ba-4b00-a132-a7691977dc10",
   "metadata": {},
   "outputs": [],
   "source": [
    "import  <package name>\n",
    "dir(<Package name>)\n",
    "in that A to Z will be given by one method tell me that\n"
   ]
  },
  {
   "cell_type": "code",
   "execution_count": 52,
   "id": "8e9808de-a444-49fd-bfd6-b3cfcb898a57",
   "metadata": {},
   "outputs": [
    {
     "data": {
      "text/plain": [
       "['Formatter',\n",
       " 'Template',\n",
       " '_ChainMap',\n",
       " '__all__',\n",
       " '__builtins__',\n",
       " '__cached__',\n",
       " '__doc__',\n",
       " '__file__',\n",
       " '__loader__',\n",
       " '__name__',\n",
       " '__package__',\n",
       " '__spec__',\n",
       " '_re',\n",
       " '_sentinel_dict',\n",
       " '_string',\n",
       " 'ascii_letters',\n",
       " 'ascii_lowercase',\n",
       " 'ascii_uppercase',\n",
       " 'capwords',\n",
       " 'digits',\n",
       " 'hexdigits',\n",
       " 'octdigits',\n",
       " 'printable',\n",
       " 'punctuation',\n",
       " 'whitespace']"
      ]
     },
     "execution_count": 52,
     "metadata": {},
     "output_type": "execute_result"
    }
   ],
   "source": [
    "import string\n",
    "dir(string)"
   ]
  },
  {
   "cell_type": "code",
   "execution_count": 54,
   "id": "ead51246-afb3-4177-981a-98bea519cf41",
   "metadata": {},
   "outputs": [
    {
     "data": {
      "text/plain": [
       "'abcdefghijklmnopqrstuvwxyzABCDEFGHIJKLMNOPQRSTUVWXYZ'"
      ]
     },
     "execution_count": 54,
     "metadata": {},
     "output_type": "execute_result"
    }
   ],
   "source": [
    "string.ascii_letters"
   ]
  },
  {
   "cell_type": "code",
   "execution_count": 55,
   "id": "d411fbd5-1585-4196-b596-2d949e41c2ac",
   "metadata": {},
   "outputs": [
    {
     "data": {
      "text/plain": [
       "'abcdefghijklmnopqrstuvwxyz'"
      ]
     },
     "execution_count": 55,
     "metadata": {},
     "output_type": "execute_result"
    }
   ],
   "source": [
    "string.ascii_lowercase"
   ]
  },
  {
   "cell_type": "code",
   "execution_count": 56,
   "id": "55895527-7c01-42b8-838e-c1570a54c591",
   "metadata": {},
   "outputs": [
    {
     "data": {
      "text/plain": [
       "'ABCDEFGHIJKLMNOPQRSTUVWXYZ'"
      ]
     },
     "execution_count": 56,
     "metadata": {},
     "output_type": "execute_result"
    }
   ],
   "source": [
    "string.ascii_uppercase\n"
   ]
  },
  {
   "cell_type": "code",
   "execution_count": 58,
   "id": "9de3be3f-a4c4-46f4-aa45-fb28a1de4948",
   "metadata": {},
   "outputs": [
    {
     "data": {
      "text/plain": [
       "'0123456789'"
      ]
     },
     "execution_count": 58,
     "metadata": {},
     "output_type": "execute_result"
    }
   ],
   "source": [
    "string.digits"
   ]
  },
  {
   "cell_type": "code",
   "execution_count": 60,
   "id": "43c3e7e3-3e03-48f9-9fdb-08335d7bd970",
   "metadata": {},
   "outputs": [
    {
     "data": {
      "text/plain": [
       "'!\"#$%&\\'()*+,-./:;<=>?@[\\\\]^_`{|}~'"
      ]
     },
     "execution_count": 60,
     "metadata": {},
     "output_type": "execute_result"
    }
   ],
   "source": [
    "string.punctuation"
   ]
  },
  {
   "cell_type": "code",
   "execution_count": null,
   "id": "c3607b8a-0a45-4059-9121-b2145084488b",
   "metadata": {},
   "outputs": [],
   "source": []
  },
  {
   "cell_type": "code",
   "execution_count": 61,
   "id": "ce558cb4-279d-4f08-9641-4c7b53b0eebb",
   "metadata": {},
   "outputs": [
    {
     "name": "stdout",
     "output_type": "stream",
     "text": [
      "a:97 b:98 c:99 d:100 e:101 f:102 g:103 h:104 i:105 j:106 k:107 l:108 m:109 n:110 o:111 p:112 q:113 r:114 s:115 t:116 u:117 v:118 w:119 x:120 y:121 z:122 "
     ]
    }
   ],
   "source": [
    "for i in string.ascii_lowercase:\n",
    "    print(f\"{i}:{ord(i)}\", end = \" \")"
   ]
  },
  {
   "cell_type": "code",
   "execution_count": 62,
   "id": "861ff548-c4d1-447f-9d6a-a647d501bfcc",
   "metadata": {},
   "outputs": [
    {
     "name": "stdout",
     "output_type": "stream",
     "text": [
      "A:65 B:66 C:67 D:68 E:69 F:70 G:71 H:72 I:73 J:74 K:75 L:76 M:77 N:78 O:79 P:80 Q:81 R:82 S:83 T:84 U:85 V:86 W:87 X:88 Y:89 Z:90 "
     ]
    }
   ],
   "source": [
    "for i in string.ascii_uppercase:\n",
    "    print(f\"{i}:{ord(i)}\", end = \" \")"
   ]
  },
  {
   "cell_type": "code",
   "execution_count": 64,
   "id": "127f545f-48aa-41ba-b0d5-470479839b4d",
   "metadata": {},
   "outputs": [
    {
     "name": "stdout",
     "output_type": "stream",
     "text": [
      "!:33 \":34 #:35 $:36 %:37 &:38 ':39 (:40 ):41 *:42 +:43 ,:44 -:45 .:46 /:47 ::58 ;:59 <:60 =:61 >:62 ?:63 @:64 [:91 \\:92 ]:93 ^:94 _:95 `:96 {:123 |:124 }:125 ~:126 "
     ]
    }
   ],
   "source": [
    "for i in string.punctuation:\n",
    "    print(f\"{i}:{ord(i)}\", end = \" \")"
   ]
  },
  {
   "cell_type": "code",
   "execution_count": 67,
   "id": "c36f79de-9903-4bba-b1b3-8963a158988f",
   "metadata": {},
   "outputs": [
    {
     "name": "stdout",
     "output_type": "stream",
     "text": [
      "33:! 34:\" 35:# 36:$ 37:% 38:& 39:' 40:( 41:) 42:* 43:+ 44:, 45:- 46:. 47:/ 48:0 49:1 50:2 51:3 52:4 53:5 54:6 55:7 56:8 57:9 58:: 59:; 60:< 61:= 62:> 63:? 64:@ 65:A 66:B 67:C 68:D 69:E 70:F 71:G 72:H 73:I 74:J 75:K 76:L 77:M 78:N 79:O 80:P 81:Q 82:R 83:S 84:T 85:U 86:V 87:W 88:X 89:Y 90:Z 91:[ 92:\\ 93:] 94:^ 95:_ 96:` 97:a 98:b 99:c 100:d 101:e 102:f 103:g 104:h 105:i 106:j 107:k 108:l 109:m 110:n 111:o 112:p 113:q 114:r 115:s 116:t 117:u 118:v 119:w 120:x 121:y 122:z 123:{ 124:| 125:} 126:~ "
     ]
    }
   ],
   "source": [
    "for i in range(33,127):\n",
    "    print(f\"{i}:{chr(i)}\", end = \" \")"
   ]
  },
  {
   "cell_type": "code",
   "execution_count": 68,
   "id": "7b2030cd-4282-424d-91bf-f76576e85dee",
   "metadata": {},
   "outputs": [
    {
     "name": "stdout",
     "output_type": "stream",
     "text": [
      "0:\u0000 1:\u0001 2:\u0002 3:\u0003 4:\u0004 5:\u0005 6:\u0006 7:\u0007 8 9:\t 10:\n",
      " 14:\u000e 15:\u000f 16:\u0010 17:\u0011 18:\u0012 19:\u0013 20:\u0014 21:\u0015 22:\u0016 23:\u0017 24:\u0018 25:\u0019 26:\u001a 27:\u001b 28:\u001c",
      " 29:\u001d",
      " 30:\u001e",
      " 31:\u001f 32:  "
     ]
    }
   ],
   "source": [
    "for i in range(0,33):\n",
    "    print(f\"{i}:{chr(i)}\", end = \" \")"
   ]
  },
  {
   "cell_type": "code",
   "execution_count": 75,
   "id": "7598ce11-cf35-451b-8677-55bfc2792fd1",
   "metadata": {},
   "outputs": [
    {
     "name": "stdout",
     "output_type": "stream",
     "text": [
      "3077:అ 3078:ఆ 3079:ఇ 3080:ఈ 3081:ఉ 3082:ఊ 3083:ఋ 3084:ఌ 3085:఍ 3086:ఎ 3087:ఏ 3088:ఐ 3089:఑ 3090:ఒ 3091:ఓ 3092:ఔ 3093:క 3094:ఖ 3095:గ 3096:ఘ 3097:ఙ 3098:చ 3099:ఛ 3100:జ 3101:ఝ 3102:ఞ 3103:ట 3104:ఠ 3105:డ 3106:ఢ 3107:ణ 3108:త 3109:థ 3110:ద 3111:ధ 3112:న 3113:఩ 3114:ప 3115:ఫ 3116:బ 3117:భ 3118:మ 3119:య 3120:ర 3121:ఱ 3122:ల 3123:ళ 3124:ఴ 3125:వ 3126:శ 3127:ష 3128:స 3129:హ 3130:఺ 3131:఻ 3132:఼ 3133:ఽ 3134:ా 3135:ి 3136:ీ 3137:ు 3138:ూ 3139:ృ 3140:ౄ 3141:౅ 3142:ె 3143:ే 3144:ై 3145:౉ 3146:ొ 3147:ో 3148:ౌ 3149:్ "
     ]
    }
   ],
   "source": [
    "for i in range(3077,3150):\n",
    "    print(f\"{i}:{chr(i)}\", end = \" \")"
   ]
  },
  {
   "cell_type": "code",
   "execution_count": 76,
   "id": "6350cfbc-0c90-4190-807d-bf5f6a208601",
   "metadata": {},
   "outputs": [
    {
     "name": "stdout",
     "output_type": "stream",
     "text": [
      "2693:અ 2694:આ 2695:ઇ 2696:ઈ 2697:ઉ 2698:ઊ 2699:ઋ 2700:ઌ 2701:ઍ 2702:઎ 2703:એ 2704:ઐ 2705:ઑ 2706:઒ 2707:ઓ 2708:ઔ 2709:ક 2710:ખ 2711:ગ 2712:ઘ 2713:ઙ 2714:ચ 2715:છ 2716:જ 2717:ઝ 2718:ઞ 2719:ટ 2720:ઠ 2721:ડ 2722:ઢ 2723:ણ 2724:ત 2725:થ 2726:દ 2727:ધ 2728:ન 2729:઩ 2730:પ 2731:ફ 2732:બ 2733:ભ 2734:મ 2735:ય 2736:ર 2737:઱ 2738:લ 2739:ળ 2740:઴ 2741:વ 2742:શ 2743:ષ 2744:સ 2745:હ 2746:઺ 2747:઻ 2748:઼ 2749:ઽ "
     ]
    }
   ],
   "source": [
    "for i in range(2693,27):\n",
    "    print(f\"{i}:{chr(i)}\", end = \" \")"
   ]
  },
  {
   "cell_type": "code",
   "execution_count": 80,
   "id": "821cc674-54b2-4d10-8c54-d00a486a1fea",
   "metadata": {},
   "outputs": [
    {
     "name": "stdout",
     "output_type": "stream",
     "text": [
      "2309:अ 2310:आ 2311:इ 2312:ई 2313:उ 2314:ऊ 2315:ऋ 2316:ऌ 2317:ऍ 2318:ऎ 2319:ए 2320:ऐ 2321:ऑ 2322:ऒ 2323:ओ 2324:औ 2325:क 2326:ख 2327:ग 2328:घ 2329:ङ 2330:च 2331:छ 2332:ज 2333:झ 2334:ञ 2335:ट 2336:ठ 2337:ड 2338:ढ 2339:ण 2340:त 2341:थ 2342:द 2343:ध 2344:न 2345:ऩ 2346:प 2347:फ 2348:ब 2349:भ 2350:म 2351:य 2352:र 2353:ऱ 2354:ल 2355:ळ 2356:ऴ 2357:व 2358:श 2359:ष 2360:स 2361:ह "
     ]
    }
   ],
   "source": [
    "for i in range(2309,2362):\n",
    "    print(f\"{i}:{chr(i)}\", end = \" \")"
   ]
  },
  {
   "cell_type": "markdown",
   "id": "c0a96463-77b5-49fb-a6ec-3db0ccb86bed",
   "metadata": {},
   "source": [
    "### Pyramid Code"
   ]
  },
  {
   "cell_type": "code",
   "execution_count": 96,
   "id": "c8f43aa5-60ab-488d-a089-29b9a61c2803",
   "metadata": {},
   "outputs": [
    {
     "name": "stdout",
     "output_type": "stream",
     "text": [
      "1\n",
      "22\n",
      "333\n",
      "4444\n",
      "55555\n"
     ]
    }
   ],
   "source": [
    "n = 5\n",
    "for i in range(1,n+1):\n",
    "    for j in range(1,i+1):\n",
    "        print(i, end = \"\")\n",
    "\n",
    "    print()"
   ]
  },
  {
   "cell_type": "code",
   "execution_count": 97,
   "id": "9ce05595-814b-4913-be92-7885cf2e1bf3",
   "metadata": {},
   "outputs": [
    {
     "name": "stdout",
     "output_type": "stream",
     "text": [
      "1\n",
      "23\n",
      "345\n",
      "4567\n"
     ]
    }
   ],
   "source": [
    "n = 4\n",
    "for i in range(1,n+1):\n",
    "    for j in range(1,i+1):\n",
    "        print(j+i-1, end = \"\")\n",
    "\n",
    "    print()"
   ]
  },
  {
   "cell_type": "code",
   "execution_count": null,
   "id": "472a85ea-7b1f-4f46-a885-027977161fda",
   "metadata": {},
   "outputs": [],
   "source": []
  }
 ],
 "metadata": {
  "kernelspec": {
   "display_name": "Python 3 (ipykernel)",
   "language": "python",
   "name": "python3"
  },
  "language_info": {
   "codemirror_mode": {
    "name": "ipython",
    "version": 3
   },
   "file_extension": ".py",
   "mimetype": "text/x-python",
   "name": "python",
   "nbconvert_exporter": "python",
   "pygments_lexer": "ipython3",
   "version": "3.11.4"
  }
 },
 "nbformat": 4,
 "nbformat_minor": 5
}
