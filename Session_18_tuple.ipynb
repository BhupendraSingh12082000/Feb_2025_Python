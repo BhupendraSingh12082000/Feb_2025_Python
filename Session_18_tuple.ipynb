{
 "cells": [
  {
   "cell_type": "markdown",
   "id": "b6637ea5-5081-4a28-bf63-be8e1e28dfa3",
   "metadata": {},
   "source": [
    "# tuple"
   ]
  },
  {
   "cell_type": "markdown",
   "id": "adad4ac1-2445-464b-ac9c-660ff8b59bc2",
   "metadata": {},
   "source": [
    "- ### Basic representation\n",
    "\n",
    "- inbuilt function\n",
    "    - print\n",
    "    - type\n",
    "    - len\n",
    "    - sum\n",
    "    - max\n",
    "    - min\n",
    "    - sorted\n",
    "    - reversed\n",
    "- concatenation\n",
    "- indexing\n",
    "- in\n",
    "- difference index and in\n",
    "- slicing\n",
    "- mutable and immutable\n",
    "- methods"
   ]
  },
  {
   "cell_type": "markdown",
   "id": "04e36804-6a0e-4912-9296-35c1125ca606",
   "metadata": {},
   "source": [
    "### Basic representation"
   ]
  },
  {
   "cell_type": "code",
   "execution_count": 2,
   "id": "227759db-60c1-4b7f-b5ff-fc3fd7ca9bc5",
   "metadata": {},
   "outputs": [
    {
     "data": {
      "text/plain": [
       "(10, 20, 30, 40, 50, 10, 20)"
      ]
     },
     "execution_count": 2,
     "metadata": {},
     "output_type": "execute_result"
    }
   ],
   "source": [
    "t1 = (10,20,30,40,50,10,20)    # tuple can take hetrogenius/different  value\n",
    "t1"
   ]
  },
  {
   "cell_type": "code",
   "execution_count": 3,
   "id": "9891ec0a-9e02-463c-9a6e-135439fdb83e",
   "metadata": {},
   "outputs": [
    {
     "data": {
      "text/plain": [
       "(10, 20, 30, 'hello', 90.5)"
      ]
     },
     "execution_count": 3,
     "metadata": {},
     "output_type": "execute_result"
    }
   ],
   "source": [
    "t1 = (10,20,30,'hello',90.5)\n",
    "t1"
   ]
  },
  {
   "cell_type": "markdown",
   "id": "23a02c8e-b2bd-4493-b3f0-6ee6612d22ea",
   "metadata": {},
   "source": [
    "## inbuilt function"
   ]
  },
  {
   "cell_type": "code",
   "execution_count": 7,
   "id": "8107c251-7b0e-4614-a25b-d430a688a4ca",
   "metadata": {},
   "outputs": [
    {
     "name": "stdout",
     "output_type": "stream",
     "text": [
      "()\n",
      "<class 'tuple'>\n"
     ]
    }
   ],
   "source": [
    "t1 = ()       # tuple represents with parenthesis brackets\n",
    "print(t1)\n",
    "print(type(t1))"
   ]
  },
  {
   "cell_type": "code",
   "execution_count": 10,
   "id": "fd23d98c-b0ca-49b4-a85b-df0114425979",
   "metadata": {},
   "outputs": [
    {
     "data": {
      "text/plain": [
       "4"
      ]
     },
     "execution_count": 10,
     "metadata": {},
     "output_type": "execute_result"
    }
   ],
   "source": [
    "t1 = (10,20,30,40)\n",
    "len(t1)"
   ]
  },
  {
   "cell_type": "code",
   "execution_count": 23,
   "id": "ebc8e979-7423-463b-b2fd-d155f0599ae3",
   "metadata": {},
   "outputs": [
    {
     "data": {
      "text/plain": [
       "40"
      ]
     },
     "execution_count": 23,
     "metadata": {},
     "output_type": "execute_result"
    }
   ],
   "source": [
    "t1 = (10,20,30,40)\n",
    "max(t1)"
   ]
  },
  {
   "cell_type": "code",
   "execution_count": 12,
   "id": "6bfa2f69-5f36-4e63-a91c-56586a6b8842",
   "metadata": {},
   "outputs": [
    {
     "ename": "TypeError",
     "evalue": "'>' not supported between instances of 'str' and 'int'",
     "output_type": "error",
     "traceback": [
      "\u001b[1;31m---------------------------------------------------------------------------\u001b[0m",
      "\u001b[1;31mTypeError\u001b[0m                                 Traceback (most recent call last)",
      "Cell \u001b[1;32mIn[12], line 2\u001b[0m\n\u001b[0;32m      1\u001b[0m t1 \u001b[38;5;241m=\u001b[39m (\u001b[38;5;241m10\u001b[39m,\u001b[38;5;241m20\u001b[39m,\u001b[38;5;241m30\u001b[39m,\u001b[38;5;124m'\u001b[39m\u001b[38;5;124mhello\u001b[39m\u001b[38;5;124m'\u001b[39m,\u001b[38;5;241m90.5\u001b[39m)\n\u001b[1;32m----> 2\u001b[0m \u001b[38;5;28;43mmax\u001b[39;49m\u001b[43m(\u001b[49m\u001b[43mt1\u001b[49m\u001b[43m)\u001b[49m\n",
      "\u001b[1;31mTypeError\u001b[0m: '>' not supported between instances of 'str' and 'int'"
     ]
    }
   ],
   "source": [
    "t1 = (10,20,30,'hello',90.5)\n",
    "max(t1)"
   ]
  },
  {
   "cell_type": "code",
   "execution_count": 18,
   "id": "124d2df1-369e-4573-8560-5bd2a347aeb8",
   "metadata": {},
   "outputs": [
    {
     "data": {
      "text/plain": [
       "100"
      ]
     },
     "execution_count": 18,
     "metadata": {},
     "output_type": "execute_result"
    }
   ],
   "source": [
    "t1 = (10,20,30,40)\n",
    "sum(t1)"
   ]
  },
  {
   "cell_type": "code",
   "execution_count": 13,
   "id": "67d99ffb-6011-4bc3-a10c-9371851838bc",
   "metadata": {},
   "outputs": [
    {
     "ename": "TypeError",
     "evalue": "unsupported operand type(s) for +: 'int' and 'str'",
     "output_type": "error",
     "traceback": [
      "\u001b[1;31m---------------------------------------------------------------------------\u001b[0m",
      "\u001b[1;31mTypeError\u001b[0m                                 Traceback (most recent call last)",
      "Cell \u001b[1;32mIn[13], line 2\u001b[0m\n\u001b[0;32m      1\u001b[0m t1 \u001b[38;5;241m=\u001b[39m (\u001b[38;5;241m10\u001b[39m,\u001b[38;5;241m20\u001b[39m,\u001b[38;5;241m30\u001b[39m,\u001b[38;5;124m'\u001b[39m\u001b[38;5;124mhello\u001b[39m\u001b[38;5;124m'\u001b[39m,\u001b[38;5;241m90.5\u001b[39m)\n\u001b[1;32m----> 2\u001b[0m \u001b[38;5;28;43msum\u001b[39;49m\u001b[43m(\u001b[49m\u001b[43mt1\u001b[49m\u001b[43m)\u001b[49m\n",
      "\u001b[1;31mTypeError\u001b[0m: unsupported operand type(s) for +: 'int' and 'str'"
     ]
    }
   ],
   "source": [
    "t1 = (10,20,30,'hello',90.5)\n",
    "sum(t1)"
   ]
  },
  {
   "cell_type": "code",
   "execution_count": 19,
   "id": "931fa6a8-0b0f-4f21-ba7e-170a05094385",
   "metadata": {},
   "outputs": [
    {
     "data": {
      "text/plain": [
       "[10, 20, 30, 40]"
      ]
     },
     "execution_count": 19,
     "metadata": {},
     "output_type": "execute_result"
    }
   ],
   "source": [
    "t1 = (10,20,30,40)\n",
    "sorted(t1)"
   ]
  },
  {
   "cell_type": "code",
   "execution_count": 14,
   "id": "d0bade8c-ef7e-4741-931d-35c2bfbc4e34",
   "metadata": {},
   "outputs": [
    {
     "ename": "TypeError",
     "evalue": "'<' not supported between instances of 'str' and 'int'",
     "output_type": "error",
     "traceback": [
      "\u001b[1;31m---------------------------------------------------------------------------\u001b[0m",
      "\u001b[1;31mTypeError\u001b[0m                                 Traceback (most recent call last)",
      "Cell \u001b[1;32mIn[14], line 2\u001b[0m\n\u001b[0;32m      1\u001b[0m t1 \u001b[38;5;241m=\u001b[39m (\u001b[38;5;241m10\u001b[39m,\u001b[38;5;241m20\u001b[39m,\u001b[38;5;241m30\u001b[39m,\u001b[38;5;124m'\u001b[39m\u001b[38;5;124mhello\u001b[39m\u001b[38;5;124m'\u001b[39m,\u001b[38;5;241m90.5\u001b[39m)\n\u001b[1;32m----> 2\u001b[0m \u001b[38;5;28;43msorted\u001b[39;49m\u001b[43m(\u001b[49m\u001b[43mt1\u001b[49m\u001b[43m)\u001b[49m\n",
      "\u001b[1;31mTypeError\u001b[0m: '<' not supported between instances of 'str' and 'int'"
     ]
    }
   ],
   "source": [
    "t1 = (10,20,30,'hello',90.5)\n",
    "sorted(t1)"
   ]
  },
  {
   "cell_type": "code",
   "execution_count": 16,
   "id": "839b5312-ae78-4ef4-8aed-345a1c33220e",
   "metadata": {},
   "outputs": [
    {
     "data": {
      "text/plain": [
       "(90.5, 'hello', 30, 20, 10)"
      ]
     },
     "execution_count": 16,
     "metadata": {},
     "output_type": "execute_result"
    }
   ],
   "source": [
    "t1 = (10,20,30,'hello',90.5)\n",
    "tuple(reversed(t1))"
   ]
  },
  {
   "cell_type": "markdown",
   "id": "4739fc80-23ee-492f-994b-7600e62ed61f",
   "metadata": {},
   "source": [
    "## Concatenation"
   ]
  },
  {
   "cell_type": "code",
   "execution_count": 24,
   "id": "9aca557a-ebbd-4c4d-90c0-e674c1b17a88",
   "metadata": {},
   "outputs": [
    {
     "data": {
      "text/plain": [
       "(10, 20, 30, 40, 50, 60)"
      ]
     },
     "execution_count": 24,
     "metadata": {},
     "output_type": "execute_result"
    }
   ],
   "source": [
    "t1 = (10,20,30)\n",
    "t2 = (40,50,60)\n",
    "\n",
    "t1+t2"
   ]
  },
  {
   "cell_type": "code",
   "execution_count": 26,
   "id": "7f547f56-bde1-4b0e-afe7-aa57abd4fa80",
   "metadata": {},
   "outputs": [
    {
     "data": {
      "text/plain": [
       "(10, 20, 30, 'Hello', 40, 50, 60)"
      ]
     },
     "execution_count": 26,
     "metadata": {},
     "output_type": "execute_result"
    }
   ],
   "source": [
    "t1 = (10,20,30,'Hello')\n",
    "t2 = (40,50,60)\n",
    "t1+t2"
   ]
  },
  {
   "cell_type": "code",
   "execution_count": 28,
   "id": "49d29578-5797-4337-af7e-c417f8de6a7c",
   "metadata": {},
   "outputs": [
    {
     "data": {
      "text/plain": [
       "(10, 20, (10, 20), 30, 40, 50, 60)"
      ]
     },
     "execution_count": 28,
     "metadata": {},
     "output_type": "execute_result"
    }
   ],
   "source": [
    "t1 = (10,20,(10,20),30)    # tuple of tuple\n",
    "t2 = (40,50,60)\n",
    "t1+t2"
   ]
  },
  {
   "cell_type": "markdown",
   "id": "92afbaea-057e-4e3e-bbe1-3de103a19fd8",
   "metadata": {},
   "source": [
    "## indexing"
   ]
  },
  {
   "cell_type": "code",
   "execution_count": 29,
   "id": "f307cf32-4d97-48bc-a02d-047b3f570afe",
   "metadata": {},
   "outputs": [
    {
     "data": {
      "text/plain": [
       "30"
      ]
     },
     "execution_count": 29,
     "metadata": {},
     "output_type": "execute_result"
    }
   ],
   "source": [
    "t1 = (10,20,30,40,'Hello','How','You',50)\n",
    "\n",
    "t1[2]\n"
   ]
  },
  {
   "cell_type": "code",
   "execution_count": 31,
   "id": "b9e0fc99-4bea-45d2-a002-b00021239f3f",
   "metadata": {},
   "outputs": [
    {
     "data": {
      "text/plain": [
       "'Hello'"
      ]
     },
     "execution_count": 31,
     "metadata": {},
     "output_type": "execute_result"
    }
   ],
   "source": [
    "t1[4]"
   ]
  },
  {
   "cell_type": "code",
   "execution_count": 34,
   "id": "eff2f423-9abf-473d-8885-12a6bfe925bf",
   "metadata": {},
   "outputs": [
    {
     "data": {
      "text/plain": [
       "'How'"
      ]
     },
     "execution_count": 34,
     "metadata": {},
     "output_type": "execute_result"
    }
   ],
   "source": [
    "t1 = (10,20,30,(40,'Hello','How'),'You',50)\n",
    "\n",
    "t1[3][2]"
   ]
  },
  {
   "cell_type": "markdown",
   "id": "1d76aec5-6a1b-4c7d-a77f-a6d4ba1b563c",
   "metadata": {},
   "source": [
    "## in"
   ]
  },
  {
   "cell_type": "code",
   "execution_count": 36,
   "id": "da1b2eaf-bb9f-413e-8c42-ce060b020543",
   "metadata": {},
   "outputs": [
    {
     "data": {
      "text/plain": [
       "True"
      ]
     },
     "execution_count": 36,
     "metadata": {},
     "output_type": "execute_result"
    }
   ],
   "source": [
    "t1 = (10,20,30,(40,'Hello','How'),'You',50)\n",
    "\n",
    "10 in t1"
   ]
  },
  {
   "cell_type": "code",
   "execution_count": 39,
   "id": "26cf2823-ab59-4f70-89d5-f0831ca1413d",
   "metadata": {},
   "outputs": [
    {
     "data": {
      "text/plain": [
       "False"
      ]
     },
     "execution_count": 39,
     "metadata": {},
     "output_type": "execute_result"
    }
   ],
   "source": [
    "'Hello' in t1"
   ]
  },
  {
   "cell_type": "code",
   "execution_count": 38,
   "id": "18d5da7d-2bfb-4dbb-aa33-e39f2af7db03",
   "metadata": {},
   "outputs": [
    {
     "data": {
      "text/plain": [
       "True"
      ]
     },
     "execution_count": 38,
     "metadata": {},
     "output_type": "execute_result"
    }
   ],
   "source": [
    "'Hello' in t1[3]"
   ]
  },
  {
   "cell_type": "code",
   "execution_count": 40,
   "id": "90a63696-2d57-4d2b-82c4-26b5ae936bbc",
   "metadata": {},
   "outputs": [
    {
     "name": "stdout",
     "output_type": "stream",
     "text": [
      "10 20 30 (40, 'Hello', 'How') You 50 "
     ]
    }
   ],
   "source": [
    "for i in t1:\n",
    "    print(i,end = \" \")"
   ]
  },
  {
   "cell_type": "code",
   "execution_count": null,
   "id": "bc629c71-d1b3-4239-8a86-f7a73121f411",
   "metadata": {},
   "outputs": [],
   "source": []
  }
 ],
 "metadata": {
  "kernelspec": {
   "display_name": "Python 3 (ipykernel)",
   "language": "python",
   "name": "python3"
  },
  "language_info": {
   "codemirror_mode": {
    "name": "ipython",
    "version": 3
   },
   "file_extension": ".py",
   "mimetype": "text/x-python",
   "name": "python",
   "nbconvert_exporter": "python",
   "pygments_lexer": "ipython3",
   "version": "3.11.4"
  }
 },
 "nbformat": 4,
 "nbformat_minor": 5
}
