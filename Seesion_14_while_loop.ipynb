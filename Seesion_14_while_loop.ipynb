{
 "cells": [
  {
   "cell_type": "markdown",
   "id": "a4cd9153-f1dd-46ac-8c2d-3d93dbcd754d",
   "metadata": {},
   "source": [
    "# While loop\n",
    "- initialization to start\n",
    "- incerment to decrement\n",
    "- condition to stop"
   ]
  },
  {
   "cell_type": "markdown",
   "id": "b7b29f8a-2e0f-4ae8-928e-2fca01dfcea6",
   "metadata": {
    "jp-MarkdownHeadingCollapsed": true
   },
   "source": [
    "< inintialization>\n",
    "\n",
    "while<condition>\n",
    "\n",
    "     =====pyton\n",
    "\n",
    "    increment/decrement"
   ]
  },
  {
   "cell_type": "code",
   "execution_count": 1,
   "id": "475ce3be-ac4c-42fe-9071-674d1eda9bb0",
   "metadata": {},
   "outputs": [
    {
     "name": "stdout",
     "output_type": "stream",
     "text": [
      "1 2 3 4 5 6 7 8 9 "
     ]
    }
   ],
   "source": [
    "i = 1\n",
    "while i<10:\n",
    "    print(i,end = \" \")\n",
    "    i = i+1"
   ]
  },
  {
   "cell_type": "code",
   "execution_count": 2,
   "id": "ead9472f-65dd-49fb-b750-af31f3cfdb0d",
   "metadata": {},
   "outputs": [
    {
     "name": "stdout",
     "output_type": "stream",
     "text": [
      "1 2 3 4 5 6 7 8 9 "
     ]
    }
   ],
   "source": [
    "i = 1\n",
    "while i <= 9:\n",
    "    print(i,end = \" \")\n",
    "    i = i+1"
   ]
  },
  {
   "cell_type": "code",
   "execution_count": 3,
   "id": "15645a45-1a75-443d-8de7-94bfbe50367f",
   "metadata": {},
   "outputs": [
    {
     "name": "stdout",
     "output_type": "stream",
     "text": [
      "1 2 "
     ]
    }
   ],
   "source": [
    "i = 1\n",
    "while i<3:\n",
    "    print(i,end = \" \")\n",
    "    i = i+1\n",
    "\n",
    "# Step`-1: i = 1 while 1<3 True print(1)  i = 1+1 = 2\n",
    "    \n",
    "# Step`-1: i = 2 while 2<3 True print(1)  i = 1+1 = 3\n",
    "    \n",
    "# Step`-1: i = 3 while 3<3 False\n"
   ]
  },
  {
   "cell_type": "code",
   "execution_count": 5,
   "id": "4dbe63b5-7487-42cd-9e77-409a7303fe27",
   "metadata": {},
   "outputs": [],
   "source": [
    "# Q1) print 1 to 10\n",
    "# Q2) print(10 to 1)\n",
    "# Q3) print(-1 to -10)\n",
    "# Q4) print(-10 to -1)"
   ]
  },
  {
   "cell_type": "code",
   "execution_count": 6,
   "id": "454ecc38-5587-449f-9149-ef483bbaf7a8",
   "metadata": {},
   "outputs": [
    {
     "name": "stdout",
     "output_type": "stream",
     "text": [
      "1 2 3 4 5 6 7 8 9 10 "
     ]
    }
   ],
   "source": [
    "# Q1) print 1 to 10\n",
    "\n",
    "i = 1\n",
    "while i<11:\n",
    "    print(i,end = \" \")\n",
    "    i = i+1"
   ]
  },
  {
   "cell_type": "code",
   "execution_count": 7,
   "id": "1ce47c56-77bc-435f-86d6-9be711e195a8",
   "metadata": {},
   "outputs": [
    {
     "name": "stdout",
     "output_type": "stream",
     "text": [
      "10 9 8 7 6 5 4 3 2 1 "
     ]
    }
   ],
   "source": [
    "# Q2) print(10 to 1)\n",
    "\n",
    "i = 10\n",
    "while i>0:\n",
    "    print(i,end = \" \")\n",
    "    i = i-1"
   ]
  },
  {
   "cell_type": "code",
   "execution_count": 11,
   "id": "7e2dc3b1-8613-4e0f-b5f1-582b71607630",
   "metadata": {},
   "outputs": [
    {
     "name": "stdout",
     "output_type": "stream",
     "text": [
      "-1 -2 -3 -4 -5 -6 -7 -8 -9 -10 "
     ]
    }
   ],
   "source": [
    "# Q3) print(-1 to -10)\n",
    "\n",
    "i = -1\n",
    "while i>(-11):\n",
    "    print(i,end = \" \")\n",
    "    i = i-1"
   ]
  },
  {
   "cell_type": "code",
   "execution_count": 19,
   "id": "eb517cfd-ad68-4704-b25b-e626ea50e38d",
   "metadata": {},
   "outputs": [
    {
     "name": "stdout",
     "output_type": "stream",
     "text": [
      "-10 -9 -8 -7 -6 -5 -4 -3 -2 -1 "
     ]
    }
   ],
   "source": [
    "# Q4) print(-10 to -1)\n",
    "\n",
    "i = -10\n",
    "\n",
    "while i < 0:\n",
    "    print(i, end = \" \")\n",
    "    i = i+1"
   ]
  },
  {
   "cell_type": "code",
   "execution_count": 18,
   "id": "4ba9bb5b-07f4-445b-8dcc-251e1251ca61",
   "metadata": {},
   "outputs": [
    {
     "name": "stdout",
     "output_type": "stream",
     "text": [
      "-10 -9 -8 -7 -6 -5 -4 -3 -2 -1 "
     ]
    }
   ],
   "source": [
    "# Q4) print(-10 to -1)\n",
    "\n",
    "i = -10\n",
    "while True:\n",
    "    print(i,end = \" \")\n",
    "    i = i+1\n",
    "    if i == 0:\n",
    "        break"
   ]
  },
  {
   "cell_type": "code",
   "execution_count": null,
   "id": "f7c21c6f-9e31-45b6-be25-31132293cf80",
   "metadata": {},
   "outputs": [],
   "source": []
  },
  {
   "cell_type": "code",
   "execution_count": 20,
   "id": "5aef45fb-1d7b-4e17-9ef0-87ce5b7e26af",
   "metadata": {},
   "outputs": [
    {
     "name": "stdout",
     "output_type": "stream",
     "text": [
      "-1 -2 -3 -4 -5 -6 -7 -8 -9 -10 "
     ]
    }
   ],
   "source": [
    "for i in range(-1,-11,-1):\n",
    "    if i>= -10:\n",
    "        print(i, end = \" \")"
   ]
  },
  {
   "cell_type": "code",
   "execution_count": 21,
   "id": "56fa2521-d42b-43e9-8bea-7c0e3cb53c72",
   "metadata": {},
   "outputs": [
    {
     "name": "stdout",
     "output_type": "stream",
     "text": [
      "-10\n",
      "-9\n",
      "-8\n",
      "-7\n",
      "-6\n",
      "-5\n",
      "-4\n",
      "-3\n",
      "-2\n",
      "-1\n"
     ]
    }
   ],
   "source": [
    "# Q4) print(-10 to -1)\n",
    "\n",
    "i = -10\n",
    "while True:\n",
    "    print(i)\n",
    "    i = i+1\n",
    "    if i == 0:\n",
    "        break"
   ]
  },
  {
   "cell_type": "code",
   "execution_count": null,
   "id": "db336676-16cf-4470-9510-2df024162d8d",
   "metadata": {},
   "outputs": [],
   "source": []
  }
 ],
 "metadata": {
  "kernelspec": {
   "display_name": "Python 3 (ipykernel)",
   "language": "python",
   "name": "python3"
  },
  "language_info": {
   "codemirror_mode": {
    "name": "ipython",
    "version": 3
   },
   "file_extension": ".py",
   "mimetype": "text/x-python",
   "name": "python",
   "nbconvert_exporter": "python",
   "pygments_lexer": "ipython3",
   "version": "3.11.4"
  }
 },
 "nbformat": 4,
 "nbformat_minor": 5
}
