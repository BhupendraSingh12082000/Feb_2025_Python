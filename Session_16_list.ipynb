{
 "cells": [
  {
   "cell_type": "markdown",
   "id": "43c63687-9fc4-41f3-b60a-b8b3b432a18a",
   "metadata": {},
   "source": [
    "# List"
   ]
  },
  {
   "cell_type": "markdown",
   "id": "139139fc-de43-4bf1-9778-bb4ec8ac01c4",
   "metadata": {},
   "source": [
    "- ### Basic representation\n",
    "\n",
    "- inbuilt function\n",
    "    - print\n",
    "    - type\n",
    "    - len\n",
    "    - sum\n",
    "    - max\n",
    "    - min\n",
    "    - sorted\n",
    "    - reversed\n",
    "- concatenation\n",
    "- indexing\n",
    "- in\n",
    "- difference index and in\n",
    "- slicing\n",
    "- mutable and immutable\n",
    "- methods"
   ]
  },
  {
   "cell_type": "code",
   "execution_count": 1,
   "id": "8ca5f3e5-c811-4f9a-9a99-006bbe51bcfc",
   "metadata": {},
   "outputs": [
    {
     "data": {
      "text/plain": [
       "[1, 2, 3, 4, 5]"
      ]
     },
     "execution_count": 1,
     "metadata": {},
     "output_type": "execute_result"
    }
   ],
   "source": [
    "list1 = [1,2,3,4,5]\n",
    "list1"
   ]
  },
  {
   "cell_type": "code",
   "execution_count": 2,
   "id": "3637c2fd-71a1-4a73-b37f-dfe37da7d64f",
   "metadata": {},
   "outputs": [
    {
     "data": {
      "text/plain": [
       "list"
      ]
     },
     "execution_count": 2,
     "metadata": {},
     "output_type": "execute_result"
    }
   ],
   "source": [
    "type(list1)"
   ]
  },
  {
   "cell_type": "code",
   "execution_count": 3,
   "id": "f0d6d0ab-bef5-4246-abb7-51580b384215",
   "metadata": {},
   "outputs": [
    {
     "data": {
      "text/plain": [
       "['A', 'B', 'C']"
      ]
     },
     "execution_count": 3,
     "metadata": {},
     "output_type": "execute_result"
    }
   ],
   "source": [
    "list2 = ['A','B','C']\n",
    "list2"
   ]
  },
  {
   "cell_type": "code",
   "execution_count": 4,
   "id": "2cd1d5af-27da-43cb-b661-a61dddfb6c87",
   "metadata": {},
   "outputs": [
    {
     "data": {
      "text/plain": [
       "[1, 2, 3, 'A', 'B', 'C']"
      ]
     },
     "execution_count": 4,
     "metadata": {},
     "output_type": "execute_result"
    }
   ],
   "source": [
    "list3 = [1,2,3,'A','B','C']\n",
    "list3"
   ]
  },
  {
   "cell_type": "code",
   "execution_count": 5,
   "id": "2a380df0-73a1-460a-9a34-6ef6d392e0ee",
   "metadata": {},
   "outputs": [
    {
     "data": {
      "text/plain": [
       "[10, 20, True, 'Hii', 20.5, False, (5+2j)]"
      ]
     },
     "execution_count": 5,
     "metadata": {},
     "output_type": "execute_result"
    }
   ],
   "source": [
    "list4 = [10,20,True,'Hii',20.50,False,5+2J]\n",
    "list4"
   ]
  },
  {
   "cell_type": "code",
   "execution_count": 6,
   "id": "e400331c-7692-4976-a59e-4bead13b8375",
   "metadata": {},
   "outputs": [
    {
     "data": {
      "text/plain": [
       "[10, 10, 10]"
      ]
     },
     "execution_count": 6,
     "metadata": {},
     "output_type": "execute_result"
    }
   ],
   "source": [
    "\n",
    "list5 = [10,10,10]\n",
    "list5"
   ]
  },
  {
   "cell_type": "code",
   "execution_count": 7,
   "id": "55759b51-0c01-4a23-8a9d-dfdf60747605",
   "metadata": {},
   "outputs": [
    {
     "data": {
      "text/plain": [
       "[10, 20, 30, ['Apple', 'Banana']]"
      ]
     },
     "execution_count": 7,
     "metadata": {},
     "output_type": "execute_result"
    }
   ],
   "source": [
    "list6 = [10,20,30,['Apple','Banana']]\n",
    "list6"
   ]
  },
  {
   "cell_type": "code",
   "execution_count": 8,
   "id": "7789b3a3-09bc-4dbb-a815-ea4f3ddbf389",
   "metadata": {},
   "outputs": [
    {
     "data": {
      "text/plain": [
       "[[10, 20, 30, ['Apple', 'Banana']]]"
      ]
     },
     "execution_count": 8,
     "metadata": {},
     "output_type": "execute_result"
    }
   ],
   "source": [
    "name = 'Python'\n",
    "list8 = [name]\n",
    "list9 = [_]\n",
    "list9"
   ]
  },
  {
   "cell_type": "markdown",
   "id": "319919a7-6320-4a6a-a636-12bacf0e3c09",
   "metadata": {},
   "source": [
    "**inbuilt function**\n",
    "print\n",
    "type\n",
    "len\n",
    "sum\n",
    "max\n",
    "min\n",
    "sorted\n",
    "reversed"
   ]
  },
  {
   "cell_type": "markdown",
   "id": "127d1135-c10b-42de-9c7b-b88e93959359",
   "metadata": {},
   "source": [
    "### print"
   ]
  },
  {
   "cell_type": "code",
   "execution_count": 9,
   "id": "1996547e-6bb3-466b-9e7b-57cd3e259286",
   "metadata": {},
   "outputs": [
    {
     "name": "stdout",
     "output_type": "stream",
     "text": [
      "[10, 20, 30, 40, 50]\n",
      "['Apple', 'apple', 'Cherry', 'Banana']\n",
      "[10, 20, 30, 40, 50, 'Apple', 'apple', 'Cherry', 'Banana']\n"
     ]
    }
   ],
   "source": [
    "list1 = [10,20,30,40,50]\n",
    "list2 = ['Apple','apple','Cherry','Banana']\n",
    "list3 = [10,20,30,40,50,'Apple','apple','Cherry','Banana']\n",
    "\n",
    "print(list1)\n",
    "print(list2)\n",
    "print(list3)"
   ]
  },
  {
   "cell_type": "code",
   "execution_count": 10,
   "id": "38b51311-91a5-45b9-9c9e-b8e3a10ea914",
   "metadata": {},
   "outputs": [
    {
     "name": "stdout",
     "output_type": "stream",
     "text": [
      "<class 'list'>\n",
      "<class 'list'>\n",
      "<class 'list'>\n"
     ]
    }
   ],
   "source": [
    "print(type(list1))\n",
    "print(type(list2))\n",
    "print(type(list3))"
   ]
  },
  {
   "cell_type": "markdown",
   "id": "9ed9a085-922c-4589-9e0c-37532691635a",
   "metadata": {},
   "source": [
    "### len"
   ]
  },
  {
   "cell_type": "code",
   "execution_count": 11,
   "id": "8b34b848-a073-4568-a892-ca1ca6933957",
   "metadata": {},
   "outputs": [
    {
     "name": "stdout",
     "output_type": "stream",
     "text": [
      "5\n",
      "4\n",
      "9\n"
     ]
    }
   ],
   "source": [
    "print(len(list1))\n",
    "print(len(list2))\n",
    "print(len(list3))"
   ]
  },
  {
   "cell_type": "markdown",
   "id": "b1fd3887-903f-4117-8236-ee185d873c9a",
   "metadata": {},
   "source": [
    "## sum"
   ]
  },
  {
   "cell_type": "code",
   "execution_count": 12,
   "id": "aeeb47c5-72a1-464b-a6a4-ffcd2e415691",
   "metadata": {},
   "outputs": [
    {
     "data": {
      "text/plain": [
       "150"
      ]
     },
     "execution_count": 12,
     "metadata": {},
     "output_type": "execute_result"
    }
   ],
   "source": [
    "sum(list1)"
   ]
  },
  {
   "cell_type": "code",
   "execution_count": 13,
   "id": "df469a15-8eaf-4ca3-87a7-21261b434a6b",
   "metadata": {},
   "outputs": [
    {
     "ename": "TypeError",
     "evalue": "unsupported operand type(s) for +: 'int' and 'str'",
     "output_type": "error",
     "traceback": [
      "\u001b[1;31m---------------------------------------------------------------------------\u001b[0m",
      "\u001b[1;31mTypeError\u001b[0m                                 Traceback (most recent call last)",
      "Cell \u001b[1;32mIn[13], line 1\u001b[0m\n\u001b[1;32m----> 1\u001b[0m \u001b[38;5;28;43msum\u001b[39;49m\u001b[43m(\u001b[49m\u001b[43mlist2\u001b[49m\u001b[43m)\u001b[49m\n",
      "\u001b[1;31mTypeError\u001b[0m: unsupported operand type(s) for +: 'int' and 'str'"
     ]
    }
   ],
   "source": [
    "sum(list2)"
   ]
  },
  {
   "cell_type": "code",
   "execution_count": 14,
   "id": "269b28bb-6235-4adf-b043-3cc76b00ec00",
   "metadata": {},
   "outputs": [
    {
     "ename": "TypeError",
     "evalue": "unsupported operand type(s) for +: 'int' and 'str'",
     "output_type": "error",
     "traceback": [
      "\u001b[1;31m---------------------------------------------------------------------------\u001b[0m",
      "\u001b[1;31mTypeError\u001b[0m                                 Traceback (most recent call last)",
      "Cell \u001b[1;32mIn[14], line 1\u001b[0m\n\u001b[1;32m----> 1\u001b[0m \u001b[38;5;28;43msum\u001b[39;49m\u001b[43m(\u001b[49m\u001b[43mlist3\u001b[49m\u001b[43m)\u001b[49m\n",
      "\u001b[1;31mTypeError\u001b[0m: unsupported operand type(s) for +: 'int' and 'str'"
     ]
    }
   ],
   "source": [
    "sum(list3)"
   ]
  },
  {
   "cell_type": "code",
   "execution_count": 15,
   "id": "51878f98-7d80-4b6c-8fd0-ada8b6f7a77b",
   "metadata": {},
   "outputs": [
    {
     "data": {
      "text/plain": [
       "50"
      ]
     },
     "execution_count": 15,
     "metadata": {},
     "output_type": "execute_result"
    }
   ],
   "source": [
    "# max\n",
    "max(list1)"
   ]
  },
  {
   "cell_type": "code",
   "execution_count": 16,
   "id": "c8d816fd-e69c-447b-8ad8-8014707c1604",
   "metadata": {},
   "outputs": [
    {
     "data": {
      "text/plain": [
       "'apple'"
      ]
     },
     "execution_count": 16,
     "metadata": {},
     "output_type": "execute_result"
    }
   ],
   "source": [
    "max(list2)"
   ]
  },
  {
   "cell_type": "code",
   "execution_count": 17,
   "id": "ff34332c-ff4d-4cec-a10e-d0e7de437207",
   "metadata": {},
   "outputs": [
    {
     "ename": "TypeError",
     "evalue": "'>' not supported between instances of 'str' and 'int'",
     "output_type": "error",
     "traceback": [
      "\u001b[1;31m---------------------------------------------------------------------------\u001b[0m",
      "\u001b[1;31mTypeError\u001b[0m                                 Traceback (most recent call last)",
      "Cell \u001b[1;32mIn[17], line 1\u001b[0m\n\u001b[1;32m----> 1\u001b[0m \u001b[38;5;28;43mmax\u001b[39;49m\u001b[43m(\u001b[49m\u001b[43mlist3\u001b[49m\u001b[43m)\u001b[49m\n",
      "\u001b[1;31mTypeError\u001b[0m: '>' not supported between instances of 'str' and 'int'"
     ]
    }
   ],
   "source": [
    "max(list3)"
   ]
  },
  {
   "cell_type": "code",
   "execution_count": 18,
   "id": "c5af2b98-5a8e-42b6-9279-3ce771890d9f",
   "metadata": {},
   "outputs": [
    {
     "data": {
      "text/plain": [
       "10"
      ]
     },
     "execution_count": 18,
     "metadata": {},
     "output_type": "execute_result"
    }
   ],
   "source": [
    "min(list1)"
   ]
  },
  {
   "cell_type": "code",
   "execution_count": 19,
   "id": "9318d6e9-5e8a-4b10-93e9-34e8e21f297a",
   "metadata": {},
   "outputs": [
    {
     "data": {
      "text/plain": [
       "'Apple'"
      ]
     },
     "execution_count": 19,
     "metadata": {},
     "output_type": "execute_result"
    }
   ],
   "source": [
    "min(list2)"
   ]
  },
  {
   "cell_type": "code",
   "execution_count": 20,
   "id": "c36726f9-2ec3-4f20-bc65-aa40cc156ec4",
   "metadata": {},
   "outputs": [
    {
     "ename": "TypeError",
     "evalue": "'<' not supported between instances of 'str' and 'int'",
     "output_type": "error",
     "traceback": [
      "\u001b[1;31m---------------------------------------------------------------------------\u001b[0m",
      "\u001b[1;31mTypeError\u001b[0m                                 Traceback (most recent call last)",
      "Cell \u001b[1;32mIn[20], line 1\u001b[0m\n\u001b[1;32m----> 1\u001b[0m \u001b[38;5;28;43mmin\u001b[39;49m\u001b[43m(\u001b[49m\u001b[43mlist3\u001b[49m\u001b[43m)\u001b[49m\n",
      "\u001b[1;31mTypeError\u001b[0m: '<' not supported between instances of 'str' and 'int'"
     ]
    }
   ],
   "source": [
    "min(list3)"
   ]
  },
  {
   "cell_type": "code",
   "execution_count": 21,
   "id": "c8ea7d2a-8dec-478f-b431-efd2e9705985",
   "metadata": {},
   "outputs": [
    {
     "data": {
      "text/plain": [
       "[10, 20, 30, 40, 50]"
      ]
     },
     "execution_count": 21,
     "metadata": {},
     "output_type": "execute_result"
    }
   ],
   "source": [
    "sorted(list1)"
   ]
  },
  {
   "cell_type": "code",
   "execution_count": 22,
   "id": "f26ec9ff-d947-489a-891d-c18592f93afd",
   "metadata": {},
   "outputs": [
    {
     "data": {
      "text/plain": [
       "[50, 40, 30, 20, 10]"
      ]
     },
     "execution_count": 22,
     "metadata": {},
     "output_type": "execute_result"
    }
   ],
   "source": [
    "sorted(list1,reverse= True)"
   ]
  },
  {
   "cell_type": "code",
   "execution_count": 23,
   "id": "05dd05d7-3e74-4c8f-981d-c5abd016bb9b",
   "metadata": {},
   "outputs": [
    {
     "data": {
      "text/plain": [
       "['Apple', 'Banana', 'Cherry', 'apple']"
      ]
     },
     "execution_count": 23,
     "metadata": {},
     "output_type": "execute_result"
    }
   ],
   "source": [
    "sorted(list2)"
   ]
  },
  {
   "cell_type": "code",
   "execution_count": 24,
   "id": "b215f692-70da-4d35-a132-a079f3269df7",
   "metadata": {},
   "outputs": [
    {
     "data": {
      "text/plain": [
       "['apple', 'Cherry', 'Banana', 'Apple']"
      ]
     },
     "execution_count": 24,
     "metadata": {},
     "output_type": "execute_result"
    }
   ],
   "source": [
    "sorted(list2,reverse = True)"
   ]
  },
  {
   "cell_type": "code",
   "execution_count": 25,
   "id": "1c71481d-67fc-4bec-aac7-19289b95af4f",
   "metadata": {},
   "outputs": [
    {
     "ename": "TypeError",
     "evalue": "'<' not supported between instances of 'str' and 'int'",
     "output_type": "error",
     "traceback": [
      "\u001b[1;31m---------------------------------------------------------------------------\u001b[0m",
      "\u001b[1;31mTypeError\u001b[0m                                 Traceback (most recent call last)",
      "Cell \u001b[1;32mIn[25], line 1\u001b[0m\n\u001b[1;32m----> 1\u001b[0m \u001b[38;5;28;43msorted\u001b[39;49m\u001b[43m(\u001b[49m\u001b[43mlist3\u001b[49m\u001b[43m)\u001b[49m\n",
      "\u001b[1;31mTypeError\u001b[0m: '<' not supported between instances of 'str' and 'int'"
     ]
    }
   ],
   "source": [
    "sorted(list3)"
   ]
  },
  {
   "cell_type": "code",
   "execution_count": 26,
   "id": "366b3c59-4d86-43bf-8826-d4835738b075",
   "metadata": {},
   "outputs": [
    {
     "data": {
      "text/plain": [
       "<list_reverseiterator at 0x2b1d04636d0>"
      ]
     },
     "execution_count": 26,
     "metadata": {},
     "output_type": "execute_result"
    }
   ],
   "source": [
    "reversed(list1)"
   ]
  },
  {
   "cell_type": "code",
   "execution_count": 27,
   "id": "59f3d9c6-1060-4f9e-93b9-2d01a2403135",
   "metadata": {},
   "outputs": [
    {
     "data": {
      "text/plain": [
       "[50, 40, 30, 20, 10]"
      ]
     },
     "execution_count": 27,
     "metadata": {},
     "output_type": "execute_result"
    }
   ],
   "source": [
    "# metho1: apply list\n",
    "list(reversed(list1))"
   ]
  },
  {
   "cell_type": "code",
   "execution_count": 28,
   "id": "cd89e577-3005-48c4-bef5-ad5f8d138d9f",
   "metadata": {},
   "outputs": [],
   "source": [
    "# method2: apply for loop"
   ]
  },
  {
   "cell_type": "code",
   "execution_count": null,
   "id": "7b0063fb-a36d-434d-8686-ba906c0a7551",
   "metadata": {},
   "outputs": [],
   "source": []
  },
  {
   "cell_type": "markdown",
   "id": "c63ea39f-6ff1-4feb-b652-f830948c0e0c",
   "metadata": {},
   "source": [
    "## **in the interview**\n",
    "- ### Q1) sort the list without sorted function\n",
    "- ### Q2) find the maximum value without maximum function\n",
    "- ### Q3) find the minimum value without minimum function\n",
    "- ### Q4) reverse the elements without using reversed function\n",
    "- ### Q5) sum the elements wothout sum function\n",
    "- ### Q6) find the second minmum and second maximum"
   ]
  },
  {
   "cell_type": "markdown",
   "id": "37a94c36-14a8-4de6-97c8-a3b02abee8d2",
   "metadata": {},
   "source": [
    "## Concatenation"
   ]
  },
  {
   "cell_type": "code",
   "execution_count": 29,
   "id": "10213917-965a-46fd-8762-d37987753e4f",
   "metadata": {},
   "outputs": [
    {
     "data": {
      "text/plain": [
       "[1, 2, 3, 4, 'A', 'B', 'C']"
      ]
     },
     "execution_count": 29,
     "metadata": {},
     "output_type": "execute_result"
    }
   ],
   "source": [
    "list1 = [1,2,3,4]\n",
    "list2 = ['A','B','C']\n",
    "\n",
    "list1+list2"
   ]
  },
  {
   "cell_type": "code",
   "execution_count": 30,
   "id": "bd7ca4ac-52e2-4d12-accf-5d95cdf0f756",
   "metadata": {},
   "outputs": [
    {
     "ename": "TypeError",
     "evalue": "unsupported operand type(s) for -: 'list' and 'list'",
     "output_type": "error",
     "traceback": [
      "\u001b[1;31m---------------------------------------------------------------------------\u001b[0m",
      "\u001b[1;31mTypeError\u001b[0m                                 Traceback (most recent call last)",
      "Cell \u001b[1;32mIn[30], line 1\u001b[0m\n\u001b[1;32m----> 1\u001b[0m \u001b[43mlist1\u001b[49m\u001b[38;5;241;43m-\u001b[39;49m\u001b[43mlist2\u001b[49m\n",
      "\u001b[1;31mTypeError\u001b[0m: unsupported operand type(s) for -: 'list' and 'list'"
     ]
    }
   ],
   "source": [
    "list1-list2"
   ]
  },
  {
   "cell_type": "code",
   "execution_count": 31,
   "id": "0ac27b18-e22f-417d-a911-ae418ee5e653",
   "metadata": {},
   "outputs": [
    {
     "ename": "TypeError",
     "evalue": "can't multiply sequence by non-int of type 'list'",
     "output_type": "error",
     "traceback": [
      "\u001b[1;31m---------------------------------------------------------------------------\u001b[0m",
      "\u001b[1;31mTypeError\u001b[0m                                 Traceback (most recent call last)",
      "Cell \u001b[1;32mIn[31], line 1\u001b[0m\n\u001b[1;32m----> 1\u001b[0m \u001b[43mlist1\u001b[49m\u001b[38;5;241;43m*\u001b[39;49m\u001b[43mlist2\u001b[49m\n",
      "\u001b[1;31mTypeError\u001b[0m: can't multiply sequence by non-int of type 'list'"
     ]
    }
   ],
   "source": [
    "list1*list2"
   ]
  },
  {
   "cell_type": "code",
   "execution_count": 32,
   "id": "3c6f8c04-9d3b-4a07-898a-eb090dda13c2",
   "metadata": {},
   "outputs": [
    {
     "data": {
      "text/plain": [
       "[1, 2, 3, 4, 1, 2, 3, 4, 1, 2, 3, 4]"
      ]
     },
     "execution_count": 32,
     "metadata": {},
     "output_type": "execute_result"
    }
   ],
   "source": [
    "list1*3"
   ]
  },
  {
   "cell_type": "code",
   "execution_count": 33,
   "id": "e9b23670-98c1-4e9e-96bc-6b3f84872264",
   "metadata": {},
   "outputs": [
    {
     "ename": "TypeError",
     "evalue": "unsupported operand type(s) for /: 'list' and 'list'",
     "output_type": "error",
     "traceback": [
      "\u001b[1;31m---------------------------------------------------------------------------\u001b[0m",
      "\u001b[1;31mTypeError\u001b[0m                                 Traceback (most recent call last)",
      "Cell \u001b[1;32mIn[33], line 1\u001b[0m\n\u001b[1;32m----> 1\u001b[0m \u001b[43mlist1\u001b[49m\u001b[38;5;241;43m/\u001b[39;49m\u001b[43mlist2\u001b[49m\n",
      "\u001b[1;31mTypeError\u001b[0m: unsupported operand type(s) for /: 'list' and 'list'"
     ]
    }
   ],
   "source": [
    "list1/list2"
   ]
  },
  {
   "cell_type": "code",
   "execution_count": null,
   "id": "5c229c73-ed88-4570-a034-7146fe336e34",
   "metadata": {},
   "outputs": [],
   "source": [
    "list1*list1"
   ]
  },
  {
   "cell_type": "markdown",
   "id": "428e7d5f-6a28-4c3d-8b93-6c4fc2dd9fac",
   "metadata": {},
   "source": [
    "## index"
   ]
  },
  {
   "cell_type": "code",
   "execution_count": 34,
   "id": "4bfcaf6a-5246-4084-95ea-4b0cc4082c74",
   "metadata": {},
   "outputs": [
    {
     "data": {
      "text/plain": [
       "(10, 10)"
      ]
     },
     "execution_count": 34,
     "metadata": {},
     "output_type": "execute_result"
    }
   ],
   "source": [
    "\n",
    "list1 = [10,20,30,'A','B','C']\n",
    "\n",
    "list1[0],list1[-6]"
   ]
  },
  {
   "cell_type": "code",
   "execution_count": 35,
   "id": "0b2d71f5-d4f1-4bb1-895c-b82d877c4e0e",
   "metadata": {},
   "outputs": [
    {
     "data": {
      "text/plain": [
       "('C', 'C')"
      ]
     },
     "execution_count": 35,
     "metadata": {},
     "output_type": "execute_result"
    }
   ],
   "source": [
    "list1[-1],list1[5]"
   ]
  },
  {
   "cell_type": "code",
   "execution_count": 36,
   "id": "a06ef8fe-b8b6-4ea8-94c6-2108cc54bd56",
   "metadata": {},
   "outputs": [
    {
     "ename": "IndentationError",
     "evalue": "unexpected indent (3537428558.py, line 2)",
     "output_type": "error",
     "traceback": [
      "\u001b[1;36m  Cell \u001b[1;32mIn[36], line 2\u001b[1;36m\u001b[0m\n\u001b[1;33m    --6  -5  -4  -3  -2  -1\u001b[0m\n\u001b[1;37m    ^\u001b[0m\n\u001b[1;31mIndentationError\u001b[0m\u001b[1;31m:\u001b[0m unexpected indent\n"
     ]
    }
   ],
   "source": [
    "# find the positive index of 10 \n",
    "      --6  -5  -4  -3  -2  -1 \n",
    "list1 = [10,20,30,'A','B','C']\n",
    "          0  1  2  3  4    5  \n",
    "list1.index(30)"
   ]
  },
  {
   "cell_type": "code",
   "execution_count": 37,
   "id": "34074c8c-acc5-4aa2-9213-6bd2d077b06c",
   "metadata": {},
   "outputs": [
    {
     "name": "stdout",
     "output_type": "stream",
     "text": [
      "the positive index of 10 is 0\n"
     ]
    }
   ],
   "source": [
    "print(f\"the positive index of 10 is {list1.index(10)}\")"
   ]
  },
  {
   "cell_type": "code",
   "execution_count": 38,
   "id": "b483f549-9b56-44c6-9999-9ef117407665",
   "metadata": {},
   "outputs": [
    {
     "name": "stdout",
     "output_type": "stream",
     "text": [
      "the negative index of C is -1\n",
      "the negative index of B is -2\n",
      "the negative index of A is -3\n",
      "the negative index of 30 is -4\n",
      "the negative index of 20 is -5\n",
      "the negative index of 10 is -6\n"
     ]
    }
   ],
   "source": [
    "for i in range(-1,-7,-1):\n",
    "    print(f'the negative index of {list1[i]} is {i}')"
   ]
  },
  {
   "cell_type": "code",
   "execution_count": 39,
   "id": "af45af81-691a-442b-9ce4-49419aca7fa8",
   "metadata": {},
   "outputs": [
    {
     "name": "stdout",
     "output_type": "stream",
     "text": [
      "the positive index of 10 is 0\n",
      "the positive index of 20 is 1\n",
      "the positive index of 30 is 2\n",
      "the positive index of A is 3\n",
      "the positive index of B is 4\n",
      "the positive index of C is 5\n"
     ]
    }
   ],
   "source": [
    "for i in range(0,6,1):\n",
    "    print(f'the positive index of {list1[i]} is {i}')"
   ]
  },
  {
   "cell_type": "code",
   "execution_count": 40,
   "id": "56a8b8ef-6807-4941-ab7f-b79323f0d04d",
   "metadata": {},
   "outputs": [
    {
     "data": {
      "text/plain": [
       "[[10]]"
      ]
     },
     "execution_count": 40,
     "metadata": {},
     "output_type": "execute_result"
    }
   ],
   "source": [
    "list1 = [[10]]\n",
    "list1"
   ]
  },
  {
   "cell_type": "code",
   "execution_count": 41,
   "id": "363bd45c-89b9-4948-a5cb-5f43f374212c",
   "metadata": {},
   "outputs": [
    {
     "data": {
      "text/plain": [
       "[10]"
      ]
     },
     "execution_count": 41,
     "metadata": {},
     "output_type": "execute_result"
    }
   ],
   "source": [
    "list1[0]"
   ]
  },
  {
   "cell_type": "code",
   "execution_count": 42,
   "id": "a8f8a84b-6874-46cf-afd5-fad26d00d7b2",
   "metadata": {},
   "outputs": [
    {
     "data": {
      "text/plain": [
       "10"
      ]
     },
     "execution_count": 42,
     "metadata": {},
     "output_type": "execute_result"
    }
   ],
   "source": [
    "list1[0][0]"
   ]
  },
  {
   "cell_type": "code",
   "execution_count": 43,
   "id": "1993a21e-c350-471f-942e-9f3cfe69c402",
   "metadata": {},
   "outputs": [
    {
     "data": {
      "text/plain": [
       "2"
      ]
     },
     "execution_count": 43,
     "metadata": {},
     "output_type": "execute_result"
    }
   ],
   "source": [
    "list2 = [10,20]\n",
    "len(list2)"
   ]
  },
  {
   "cell_type": "code",
   "execution_count": 44,
   "id": "981b6f17-23f7-412c-bf33-9dc656664e83",
   "metadata": {},
   "outputs": [
    {
     "data": {
      "text/plain": [
       "1"
      ]
     },
     "execution_count": 44,
     "metadata": {},
     "output_type": "execute_result"
    }
   ],
   "source": [
    "list3 = [[10,20]]\n",
    "len(list3)"
   ]
  },
  {
   "cell_type": "code",
   "execution_count": 45,
   "id": "54e25bde-c832-48c7-8050-92f8b5f73d57",
   "metadata": {},
   "outputs": [
    {
     "data": {
      "text/plain": [
       "(1, 2)"
      ]
     },
     "execution_count": 45,
     "metadata": {},
     "output_type": "execute_result"
    }
   ],
   "source": [
    "list1 = [[10]]\n",
    "list2 = [10,20]\n",
    "len(list1),len(list2)"
   ]
  },
  {
   "cell_type": "code",
   "execution_count": 46,
   "id": "da1ddc4c-f092-4f0f-8040-ed88c2e5c498",
   "metadata": {},
   "outputs": [
    {
     "data": {
      "text/plain": [
       "2"
      ]
     },
     "execution_count": 46,
     "metadata": {},
     "output_type": "execute_result"
    }
   ],
   "source": [
    "list1 = [10,[20]]\n",
    "len(list1)"
   ]
  },
  {
   "cell_type": "code",
   "execution_count": 47,
   "id": "a911a8cd-0597-4513-a68a-a75c5837dcc6",
   "metadata": {},
   "outputs": [
    {
     "data": {
      "text/plain": [
       "[20]"
      ]
     },
     "execution_count": 47,
     "metadata": {},
     "output_type": "execute_result"
    }
   ],
   "source": [
    "list1[1]"
   ]
  },
  {
   "cell_type": "code",
   "execution_count": 48,
   "id": "68104fde-5b69-40ae-98a7-9fae35490cba",
   "metadata": {},
   "outputs": [
    {
     "data": {
      "text/plain": [
       "20"
      ]
     },
     "execution_count": 48,
     "metadata": {},
     "output_type": "execute_result"
    }
   ],
   "source": [
    "list1[1][0]"
   ]
  },
  {
   "cell_type": "code",
   "execution_count": 49,
   "id": "5a6220d4-94dc-473b-b279-4efb854286f4",
   "metadata": {},
   "outputs": [
    {
     "data": {
      "text/plain": [
       "'Cherry'"
      ]
     },
     "execution_count": 49,
     "metadata": {},
     "output_type": "execute_result"
    }
   ],
   "source": [
    "list1 = [10,20,30,'A',['Banana','Cherry']]\n",
    "list1[4][1]"
   ]
  },
  {
   "cell_type": "code",
   "execution_count": 50,
   "id": "889cd929-2e76-4ca9-871d-b8db4648d4a1",
   "metadata": {},
   "outputs": [
    {
     "data": {
      "text/plain": [
       "'Cherry'"
      ]
     },
     "execution_count": 50,
     "metadata": {},
     "output_type": "execute_result"
    }
   ],
   "source": [
    "list1 = ['A',['Apple','B',['Banana'],'C',['Cherry']]]\n",
    "list1[1][4][0]"
   ]
  },
  {
   "cell_type": "code",
   "execution_count": 51,
   "id": "4a3f8ee6-4088-49f8-bca5-060efd00558b",
   "metadata": {},
   "outputs": [
    {
     "data": {
      "text/plain": [
       "'DragonFruit'"
      ]
     },
     "execution_count": 51,
     "metadata": {},
     "output_type": "execute_result"
    }
   ],
   "source": [
    "# Want dragonfruit\n",
    "\n",
    "list1 = ['A',['Apple','B',['Banana','C',['Cherry','D',['DragonFruit']]]]]\n",
    "list1[1][2][2][2][0]"
   ]
  },
  {
   "cell_type": "code",
   "execution_count": 52,
   "id": "170563ae-f54f-4874-849f-e18ca046217b",
   "metadata": {},
   "outputs": [
    {
     "data": {
      "text/plain": [
       "'Bat'"
      ]
     },
     "execution_count": 52,
     "metadata": {},
     "output_type": "execute_result"
    }
   ],
   "source": [
    "list1 = ['Apple',['Kashmir',['India',['Cricket',['Bat']]]]]\n",
    "list1[1][1][1][1][0]"
   ]
  },
  {
   "cell_type": "code",
   "execution_count": 53,
   "id": "00cbe94d-03c4-4b72-9fef-e9d084bb0416",
   "metadata": {},
   "outputs": [
    {
     "data": {
      "text/plain": [
       "'Vikky'"
      ]
     },
     "execution_count": 53,
     "metadata": {},
     "output_type": "execute_result"
    }
   ],
   "source": [
    "list1 = ['Orange',['Nagour',['MH',['Shivaji',['Shambhaji',['Vikky']]]]]]\n",
    "list1[1][1][1][1][1][0]"
   ]
  },
  {
   "cell_type": "code",
   "execution_count": null,
   "id": "cf3e8e04-0ca9-481e-af66-a715b4312615",
   "metadata": {},
   "outputs": [],
   "source": []
  },
  {
   "cell_type": "code",
   "execution_count": 54,
   "id": "dd09416c-c38b-496e-8cfc-f0af22c31a49",
   "metadata": {},
   "outputs": [],
   "source": [
    "#-ve     -9 -8 -7 -6 -5 -4 -3 -2 -1\n",
    "list1 = [10,20,30,40,50,60,70,80,90]\n",
    "#+ve      0  1  2  3  4  5  6  7  8"
   ]
  },
  {
   "cell_type": "code",
   "execution_count": 55,
   "id": "d6d8ce2f-1ece-4314-bb2e-777dd3c1650b",
   "metadata": {},
   "outputs": [
    {
     "data": {
      "text/plain": [
       "10"
      ]
     },
     "execution_count": 55,
     "metadata": {},
     "output_type": "execute_result"
    }
   ],
   "source": [
    "#print(f\"the positive index of 10 is {list1.index(10)}\")\n",
    "\n",
    "list1[0]"
   ]
  },
  {
   "cell_type": "code",
   "execution_count": 56,
   "id": "47edef29-dda9-4994-aea6-880c0f6c13d3",
   "metadata": {},
   "outputs": [
    {
     "data": {
      "text/plain": [
       "8"
      ]
     },
     "execution_count": 56,
     "metadata": {},
     "output_type": "execute_result"
    }
   ],
   "source": [
    "list1.index(90)"
   ]
  },
  {
   "cell_type": "code",
   "execution_count": 57,
   "id": "a1997d9f-c1f3-4be9-9792-4ef92d7ced9b",
   "metadata": {},
   "outputs": [
    {
     "data": {
      "text/plain": [
       "9"
      ]
     },
     "execution_count": 57,
     "metadata": {},
     "output_type": "execute_result"
    }
   ],
   "source": [
    "len(list1)"
   ]
  },
  {
   "cell_type": "code",
   "execution_count": 58,
   "id": "2da44ac0-6405-4c9e-9acb-0a52921047e1",
   "metadata": {},
   "outputs": [
    {
     "name": "stdout",
     "output_type": "stream",
     "text": [
      "-1 90\n",
      "-2 80\n",
      "-3 70\n",
      "-4 60\n",
      "-5 50\n",
      "-6 40\n",
      "-7 30\n",
      "-8 20\n",
      "-9 10\n"
     ]
    }
   ],
   "source": [
    "for i in range(-1,-10,-1):\n",
    "    \n",
    "    print(i,list1[i])"
   ]
  },
  {
   "cell_type": "code",
   "execution_count": 59,
   "id": "1e2b11f4-3e5a-487f-936f-6d7045aa1b55",
   "metadata": {},
   "outputs": [
    {
     "data": {
      "text/plain": [
       "90"
      ]
     },
     "execution_count": 59,
     "metadata": {},
     "output_type": "execute_result"
    }
   ],
   "source": [
    "list1[-1]   # WHEN WE GIVE INDEX THEN IT WILL SHOW VALUE"
   ]
  },
  {
   "cell_type": "code",
   "execution_count": 60,
   "id": "ebf9f7a4-a1e8-46fd-86e3-68614c050132",
   "metadata": {},
   "outputs": [
    {
     "data": {
      "text/plain": [
       "8"
      ]
     },
     "execution_count": 60,
     "metadata": {},
     "output_type": "execute_result"
    }
   ],
   "source": [
    "list1.index(90)   # WHEN WE GIVE value THEN IT WILL SHOW index"
   ]
  },
  {
   "cell_type": "code",
   "execution_count": 61,
   "id": "d35d4831-2a46-4263-916c-03d28a439ba3",
   "metadata": {},
   "outputs": [
    {
     "data": {
      "text/plain": [
       "'H'"
      ]
     },
     "execution_count": 61,
     "metadata": {},
     "output_type": "execute_result"
    }
   ],
   "source": [
    "str1 = 'Hai hello  how are you hai kjfkdgj h'\n",
    "str1[0]"
   ]
  },
  {
   "cell_type": "code",
   "execution_count": 62,
   "id": "3aab0908-9bbb-4de2-8d95-b78ea30fb318",
   "metadata": {},
   "outputs": [
    {
     "data": {
      "text/plain": [
       "'B'"
      ]
     },
     "execution_count": 62,
     "metadata": {},
     "output_type": "execute_result"
    }
   ],
   "source": [
    "list1 = [1,2,3,4,5,'A','B']\n",
    "list1[6]"
   ]
  },
  {
   "cell_type": "code",
   "execution_count": 63,
   "id": "23ae7ef4-c3b4-466d-a53b-f4fa1cde9f8f",
   "metadata": {},
   "outputs": [
    {
     "data": {
      "text/plain": [
       "6"
      ]
     },
     "execution_count": 63,
     "metadata": {},
     "output_type": "execute_result"
    }
   ],
   "source": [
    "list1.index('B')"
   ]
  },
  {
   "cell_type": "code",
   "execution_count": 64,
   "id": "067e4516-baec-4868-b62f-69f541bce3fc",
   "metadata": {},
   "outputs": [
    {
     "data": {
      "text/plain": [
       "70"
      ]
     },
     "execution_count": 64,
     "metadata": {},
     "output_type": "execute_result"
    }
   ],
   "source": [
    "list1 = [10,20,[40,50,[60,70]]]\n",
    "len(list1) \n",
    "len(list1[2])\n",
    "list1[2][2][1]"
   ]
  },
  {
   "cell_type": "code",
   "execution_count": 65,
   "id": "eae13794-fdde-4922-b98b-7fd4824e2614",
   "metadata": {},
   "outputs": [],
   "source": [
    "str1 = 'python'\n",
    "list1 = ['p','y','t','h','o','n']"
   ]
  },
  {
   "cell_type": "code",
   "execution_count": 66,
   "id": "928a8d92-ae99-44da-9ee7-5b088cb1fb9c",
   "metadata": {},
   "outputs": [
    {
     "name": "stdout",
     "output_type": "stream",
     "text": [
      "p y t h o n "
     ]
    }
   ],
   "source": [
    "for i in str1:\n",
    "    print(i,end= \" \")"
   ]
  },
  {
   "cell_type": "code",
   "execution_count": 67,
   "id": "0a8232c8-b258-425b-a0ef-919753a7b820",
   "metadata": {},
   "outputs": [
    {
     "name": "stdout",
     "output_type": "stream",
     "text": [
      "p y t h o n "
     ]
    }
   ],
   "source": [
    "for i in list1:\n",
    "    print(i,end = \" \")"
   ]
  },
  {
   "cell_type": "code",
   "execution_count": null,
   "id": "3d5735b9-b1a4-401d-9416-49a5c078a873",
   "metadata": {},
   "outputs": [],
   "source": []
  },
  {
   "cell_type": "markdown",
   "id": "8328ac01-dace-4cd3-8d51-63f10b193242",
   "metadata": {},
   "source": [
    "### range\n",
    "- when we have use with index then go for **range**\n",
    "- when we have use with only elements  go for **in**"
   ]
  },
  {
   "cell_type": "code",
   "execution_count": 68,
   "id": "6b2e08da-7a4b-4557-a34e-e2c328653656",
   "metadata": {},
   "outputs": [
    {
     "name": "stdout",
     "output_type": "stream",
     "text": [
      "p\n",
      "y\n",
      "t\n",
      "h\n",
      "o\n",
      "n\n"
     ]
    }
   ],
   "source": [
    "for i in list1:\n",
    "    print(i)"
   ]
  },
  {
   "cell_type": "markdown",
   "id": "b5c92756-aaea-4742-addf-777fc960cc41",
   "metadata": {},
   "source": [
    "### Mutable & Immutable"
   ]
  },
  {
   "cell_type": "code",
   "execution_count": 69,
   "id": "7c51672b-35f5-4723-942b-1346bbfeaf28",
   "metadata": {},
   "outputs": [
    {
     "data": {
      "text/plain": [
       "[10, 20, 30, 40, 'Apple', 'Banana']"
      ]
     },
     "execution_count": 69,
     "metadata": {},
     "output_type": "execute_result"
    }
   ],
   "source": [
    "list1 = [10,20,30,40,'Apple','Banana']\n",
    "list1"
   ]
  },
  {
   "cell_type": "code",
   "execution_count": 70,
   "id": "94ea47dd-6e5c-45a7-8638-cbea3d912df0",
   "metadata": {},
   "outputs": [
    {
     "data": {
      "text/plain": [
       "[100, 20, 30, 40, 'Apple', 'Banana']"
      ]
     },
     "execution_count": 70,
     "metadata": {},
     "output_type": "execute_result"
    }
   ],
   "source": [
    "list1[0] = 100\n",
    "list1"
   ]
  },
  {
   "cell_type": "code",
   "execution_count": 71,
   "id": "8c002a60-4a94-49fe-b094-d5a1d81275cb",
   "metadata": {},
   "outputs": [
    {
     "data": {
      "text/plain": [
       "[100, 20, 30, 40, 'Apple', 80]"
      ]
     },
     "execution_count": 71,
     "metadata": {},
     "output_type": "execute_result"
    }
   ],
   "source": [
    "list1[5] = 80\n",
    "list1"
   ]
  },
  {
   "cell_type": "code",
   "execution_count": 72,
   "id": "ce12a18a-d8f6-4282-8a89-1fb3e8eba50a",
   "metadata": {},
   "outputs": [
    {
     "data": {
      "text/plain": [
       "[10, 20, [100, 500, 'Juice'], 30, 40, 'Apple', 'Banana']"
      ]
     },
     "execution_count": 72,
     "metadata": {},
     "output_type": "execute_result"
    }
   ],
   "source": [
    "list2 = [10,20,[100,500,'Juice'],30,40,'Apple','Banana']\n",
    "list2\n"
   ]
  },
  {
   "cell_type": "code",
   "execution_count": 73,
   "id": "d5d6efaa-a2a3-4edf-9edd-949d21b2b5d0",
   "metadata": {},
   "outputs": [
    {
     "data": {
      "text/plain": [
       "[10, 20, [100, 1000, 'Juice'], 30, 40, 'Apple', 'Banana']"
      ]
     },
     "execution_count": 73,
     "metadata": {},
     "output_type": "execute_result"
    }
   ],
   "source": [
    "list2[2][1] = 1000\n",
    "list2"
   ]
  },
  {
   "cell_type": "code",
   "execution_count": 74,
   "id": "fff0e7e7-db57-4632-a2f2-c17b8b489c64",
   "metadata": {},
   "outputs": [
    {
     "data": {
      "text/plain": [
       "[10, 20, [100, 500, 'Grapes'], 30, 40, 'Apple', 'Banana']"
      ]
     },
     "execution_count": 74,
     "metadata": {},
     "output_type": "execute_result"
    }
   ],
   "source": [
    "list2 = [10,20,[100,500,'Juice'],30,40,'Apple','Banana']\n",
    "list2[2][2] = 'Grapes'\n",
    "list2"
   ]
  },
  {
   "cell_type": "markdown",
   "id": "5244d210-3710-4635-8f2b-e096b8230843",
   "metadata": {},
   "source": [
    "### Slicing"
   ]
  },
  {
   "cell_type": "code",
   "execution_count": 75,
   "id": "b7b9dcbb-b9cf-4820-9d13-e12b5ebd460e",
   "metadata": {},
   "outputs": [
    {
     "data": {
      "text/plain": [
       "[10, 20, 30, 40, 50, 'A', 'B', 'C', 'D', 'E', 'apple', 'banana']"
      ]
     },
     "execution_count": 75,
     "metadata": {},
     "output_type": "execute_result"
    }
   ],
   "source": [
    "#   -12 -11 -10 -9 -8 -7  -6 -5 -4 -  3   -2       -1 \n",
    "l1 = [10,20,30,40,50,'A','B','C','D','E','apple','banana']\n",
    "l1[:]"
   ]
  },
  {
   "cell_type": "code",
   "execution_count": 76,
   "id": "db6ee252-bcb4-4a62-b06d-02f85f356be6",
   "metadata": {},
   "outputs": [
    {
     "data": {
      "text/plain": [
       "[10, 20, 30, 40, 50, 'A', 'B', 'C', 'D', 'E', 'apple', 'banana']"
      ]
     },
     "execution_count": 76,
     "metadata": {},
     "output_type": "execute_result"
    }
   ],
   "source": [
    "l1[::]"
   ]
  },
  {
   "cell_type": "code",
   "execution_count": 77,
   "id": "4249046d-e733-487b-b88a-eec78d1c96bb",
   "metadata": {},
   "outputs": [
    {
     "data": {
      "text/plain": [
       "['banana', 'apple', 'E', 'D', 'C', 'B', 'A', 50, 40, 30, 20, 10]"
      ]
     },
     "execution_count": 77,
     "metadata": {},
     "output_type": "execute_result"
    }
   ],
   "source": [
    "l1[::-1]"
   ]
  },
  {
   "cell_type": "code",
   "execution_count": 78,
   "id": "e9c521c1-a2be-45d6-98eb-7debf69fefd0",
   "metadata": {},
   "outputs": [
    {
     "data": {
      "text/plain": [
       "[30, 50, 'B', 'D']"
      ]
     },
     "execution_count": 78,
     "metadata": {},
     "output_type": "execute_result"
    }
   ],
   "source": [
    "l1[2:10:2]"
   ]
  },
  {
   "cell_type": "code",
   "execution_count": 79,
   "id": "2cba4ac1-032a-431f-b09a-1fc41c1dcccc",
   "metadata": {},
   "outputs": [
    {
     "data": {
      "text/plain": [
       "[]"
      ]
     },
     "execution_count": 79,
     "metadata": {},
     "output_type": "execute_result"
    }
   ],
   "source": [
    "l1[2:10:-2]"
   ]
  },
  {
   "cell_type": "code",
   "execution_count": 80,
   "id": "763048cd-2ed3-49f8-8ef4-f11badf77b8d",
   "metadata": {},
   "outputs": [
    {
     "data": {
      "text/plain": [
       "[]"
      ]
     },
     "execution_count": 80,
     "metadata": {},
     "output_type": "execute_result"
    }
   ],
   "source": [
    "l1[2:-10:2]"
   ]
  },
  {
   "cell_type": "code",
   "execution_count": 81,
   "id": "1f6f1d32-bfab-4966-b25e-7bb33714e287",
   "metadata": {},
   "outputs": [
    {
     "data": {
      "text/plain": [
       "[]"
      ]
     },
     "execution_count": 81,
     "metadata": {},
     "output_type": "execute_result"
    }
   ],
   "source": [
    "l1[-2:10:2]"
   ]
  },
  {
   "cell_type": "code",
   "execution_count": 82,
   "id": "013941fc-c5fe-459c-9448-d6fbb57bed7d",
   "metadata": {},
   "outputs": [
    {
     "data": {
      "text/plain": [
       "[]"
      ]
     },
     "execution_count": 82,
     "metadata": {},
     "output_type": "execute_result"
    }
   ],
   "source": [
    "l1[2:-10:-2]"
   ]
  },
  {
   "cell_type": "code",
   "execution_count": 83,
   "id": "a0e818f7-cd88-4525-9a42-ef082887be6c",
   "metadata": {},
   "outputs": [
    {
     "data": {
      "text/plain": [
       "['apple', 'D', 'B', 50]"
      ]
     },
     "execution_count": 83,
     "metadata": {},
     "output_type": "execute_result"
    }
   ],
   "source": [
    "l1[-2:-10:-2]"
   ]
  },
  {
   "cell_type": "code",
   "execution_count": 84,
   "id": "51c9a97b-07de-4cbe-94cb-2d2a0caac7f9",
   "metadata": {},
   "outputs": [
    {
     "data": {
      "text/plain": [
       "[]"
      ]
     },
     "execution_count": 84,
     "metadata": {},
     "output_type": "execute_result"
    }
   ],
   "source": [
    "l1[10:2:2]"
   ]
  },
  {
   "cell_type": "code",
   "execution_count": 85,
   "id": "425f7765-89a5-4441-bfe7-7ecb3e3c3a8b",
   "metadata": {},
   "outputs": [
    {
     "data": {
      "text/plain": [
       "['apple', 'D', 'B', 50]"
      ]
     },
     "execution_count": 85,
     "metadata": {},
     "output_type": "execute_result"
    }
   ],
   "source": [
    "l1[10:2:-2]"
   ]
  },
  {
   "cell_type": "code",
   "execution_count": 86,
   "id": "1e5a74da-e290-4097-9ab1-9f5324c82e64",
   "metadata": {},
   "outputs": [
    {
     "data": {
      "text/plain": [
       "[]"
      ]
     },
     "execution_count": 86,
     "metadata": {},
     "output_type": "execute_result"
    }
   ],
   "source": [
    "l1[10:-2:2]"
   ]
  },
  {
   "cell_type": "code",
   "execution_count": 87,
   "id": "dab24f82-aa72-4d3b-b341-28cda3b6b5dc",
   "metadata": {},
   "outputs": [
    {
     "data": {
      "text/plain": [
       "[]"
      ]
     },
     "execution_count": 87,
     "metadata": {},
     "output_type": "execute_result"
    }
   ],
   "source": [
    "l1[-10:2:-2]"
   ]
  },
  {
   "cell_type": "code",
   "execution_count": 88,
   "id": "3ca2dd66-25f1-4494-80ba-4ce7f9df1f78",
   "metadata": {},
   "outputs": [
    {
     "ename": "TypeError",
     "evalue": "'list' object is not callable",
     "output_type": "error",
     "traceback": [
      "\u001b[1;31m---------------------------------------------------------------------------\u001b[0m",
      "\u001b[1;31mTypeError\u001b[0m                                 Traceback (most recent call last)",
      "Cell \u001b[1;32mIn[88], line 1\u001b[0m\n\u001b[1;32m----> 1\u001b[0m \u001b[43ml1\u001b[49m\u001b[43m[\u001b[49m\u001b[38;5;241;43m-\u001b[39;49m\u001b[38;5;241;43m10\u001b[39;49m\u001b[43m:\u001b[49m\u001b[38;5;241;43m-\u001b[39;49m\u001b[38;5;241;43m2\u001b[39;49m\u001b[43m:\u001b[49m\u001b[38;5;241;43m-\u001b[39;49m\u001b[38;5;241;43m2\u001b[39;49m\u001b[43m]\u001b[49m\u001b[43m(\u001b[49m\u001b[43m)\u001b[49m\n",
      "\u001b[1;31mTypeError\u001b[0m: 'list' object is not callable"
     ]
    }
   ],
   "source": [
    "l1[-10:-2:-2]()"
   ]
  },
  {
   "cell_type": "markdown",
   "id": "fd80e41a-eeed-4e1c-906a-4c56cdb7cbea",
   "metadata": {},
   "source": [
    "### Method\n",
    "- append',\n",
    "- 'clear',\n",
    "- 'copy',\n",
    "- 'count',\n",
    "- 'extend',\n",
    "- 'index',\n",
    "- 'insert',\n",
    "- 'pop',\n",
    "- 'remove',\n",
    "- 'reverse',\n",
    "- 'sort'"
   ]
  },
  {
   "cell_type": "code",
   "execution_count": 89,
   "id": "a759e711-1499-41cc-a7ae-d0943a613afc",
   "metadata": {},
   "outputs": [],
   "source": [
    "list1 = [10,20,[100,500,'Juice'],30,40,'Apple','Banana']\n"
   ]
  },
  {
   "cell_type": "markdown",
   "id": "cbeada44-fcc9-4d8c-a4f5-d0bfffc73b83",
   "metadata": {},
   "source": [
    "## 1. append\n",
    "- append is very very important method in entire list\n",
    "- in our life we will use this method very very frequently\n",
    "- appned means adding  an elements at last\n",
    " "
   ]
  },
  {
   "cell_type": "code",
   "execution_count": 90,
   "id": "6f6f0d6e-2fce-4424-b9ee-4946f39dcf76",
   "metadata": {},
   "outputs": [
    {
     "data": {
      "text/plain": [
       "[10, 20, [100, 500, 'Juice'], 30, 40, 'Apple', 'Banana', 100]"
      ]
     },
     "execution_count": 90,
     "metadata": {},
     "output_type": "execute_result"
    }
   ],
   "source": [
    "list1.append(100)\n",
    "list1"
   ]
  },
  {
   "cell_type": "code",
   "execution_count": 91,
   "id": "5612a9fc-2bfd-4093-be7b-91b7a3dc4a29",
   "metadata": {},
   "outputs": [
    {
     "data": {
      "text/plain": [
       "[10, 20, 30, 40, [50, 60, 70, 80, 90]]"
      ]
     },
     "execution_count": 91,
     "metadata": {},
     "output_type": "execute_result"
    }
   ],
   "source": [
    "l1 = [10,20,30,40]\n",
    "l2 = [50,60,70,80,90]\n",
    "l1.append(l2)\n",
    "l1"
   ]
  },
  {
   "cell_type": "code",
   "execution_count": 92,
   "id": "0ffbba11-07a1-498b-ae6d-9aa90df68480",
   "metadata": {},
   "outputs": [
    {
     "data": {
      "text/plain": [
       "[10, 20, 30, 40, [50, 60, 70, 80, 90]]"
      ]
     },
     "execution_count": 92,
     "metadata": {},
     "output_type": "execute_result"
    }
   ],
   "source": [
    "l1 = [10,20,30,40]\n",
    "l1.append([50,60,70,80,90])\n",
    "l1"
   ]
  },
  {
   "cell_type": "code",
   "execution_count": 93,
   "id": "a4e31328-6e4b-42a6-ac33-0ba8ca7bcfa4",
   "metadata": {},
   "outputs": [
    {
     "ename": "TypeError",
     "evalue": "list.append() takes exactly one argument (2 given)",
     "output_type": "error",
     "traceback": [
      "\u001b[1;31m---------------------------------------------------------------------------\u001b[0m",
      "\u001b[1;31mTypeError\u001b[0m                                 Traceback (most recent call last)",
      "Cell \u001b[1;32mIn[93], line 2\u001b[0m\n\u001b[0;32m      1\u001b[0m l1 \u001b[38;5;241m=\u001b[39m [\u001b[38;5;241m10\u001b[39m,\u001b[38;5;241m20\u001b[39m,\u001b[38;5;241m30\u001b[39m]\n\u001b[1;32m----> 2\u001b[0m \u001b[43ml1\u001b[49m\u001b[38;5;241;43m.\u001b[39;49m\u001b[43mappend\u001b[49m\u001b[43m(\u001b[49m\u001b[38;5;124;43m'\u001b[39;49m\u001b[38;5;124;43mapple\u001b[39;49m\u001b[38;5;124;43m'\u001b[39;49m\u001b[43m,\u001b[49m\u001b[38;5;124;43m'\u001b[39;49m\u001b[38;5;124;43mbanana\u001b[39;49m\u001b[38;5;124;43m'\u001b[39;49m\u001b[43m)\u001b[49m\n\u001b[0;32m      3\u001b[0m l1\n",
      "\u001b[1;31mTypeError\u001b[0m: list.append() takes exactly one argument (2 given)"
     ]
    }
   ],
   "source": [
    "l1 = [10,20,30]\n",
    "l1.append('apple','banana')\n",
    "l1"
   ]
  },
  {
   "cell_type": "code",
   "execution_count": null,
   "id": "8005ccb9-930f-47cd-8dd0-291c92090ec9",
   "metadata": {},
   "outputs": [],
   "source": []
  },
  {
   "cell_type": "code",
   "execution_count": 94,
   "id": "072c695a-a783-4090-9ed7-dc0e2752b914",
   "metadata": {},
   "outputs": [
    {
     "data": {
      "text/plain": [
       "[]"
      ]
     },
     "execution_count": 94,
     "metadata": {},
     "output_type": "execute_result"
    }
   ],
   "source": [
    "list1 = [10,20,[100,500,'Juice'],30,40,'Apple','Banana']\n",
    "list1.clear()\n",
    "list1"
   ]
  },
  {
   "cell_type": "code",
   "execution_count": 95,
   "id": "4e02faab-b22d-4e0d-bd66-a04943261d3c",
   "metadata": {},
   "outputs": [
    {
     "data": {
      "text/plain": [
       "[10, 20, [100, 500, 'Juice'], 30, 40, 'Apple', 'Banana']"
      ]
     },
     "execution_count": 95,
     "metadata": {},
     "output_type": "execute_result"
    }
   ],
   "source": [
    "list1 = [10,20,[100,500,'Juice'],30,40,'Apple','Banana']\n",
    "list1.copy()\n",
    "list1"
   ]
  },
  {
   "cell_type": "code",
   "execution_count": 96,
   "id": "1a2c98d0-dd3d-483a-8c8a-b2b8b874263d",
   "metadata": {},
   "outputs": [
    {
     "name": "stdout",
     "output_type": "stream",
     "text": [
      "[]\n",
      "[10, 20, [100, 500, 'Grapes'], 30, 40, 'Apple', 'Banana']\n"
     ]
    }
   ],
   "source": [
    "list1 = [10,20,[100,500,'Juice'],30,40,'Apple','Banana']\n",
    "lis2 = list1.copy()\n",
    "list1.clear()\n",
    "print(list1)\n",
    "print(list2)"
   ]
  },
  {
   "cell_type": "code",
   "execution_count": 97,
   "id": "03db7d0e-8a34-43a2-9fed-1b3674f005a9",
   "metadata": {},
   "outputs": [
    {
     "name": "stdout",
     "output_type": "stream",
     "text": [
      "2\n",
      "3\n"
     ]
    }
   ],
   "source": [
    "list1 = [10,20,[100,500,10,10,10,'Juice'],30,40,10,'Apple','Banana']\n",
    "\n",
    "print(list1.count(10))\n",
    "print(list1[2].count(10))"
   ]
  },
  {
   "cell_type": "code",
   "execution_count": 98,
   "id": "e30acb88-7a24-4665-a260-fbf41a87964d",
   "metadata": {},
   "outputs": [
    {
     "ename": "TypeError",
     "evalue": "list.extend() takes exactly one argument (0 given)",
     "output_type": "error",
     "traceback": [
      "\u001b[1;31m---------------------------------------------------------------------------\u001b[0m",
      "\u001b[1;31mTypeError\u001b[0m                                 Traceback (most recent call last)",
      "Cell \u001b[1;32mIn[98], line 2\u001b[0m\n\u001b[0;32m      1\u001b[0m list1 \u001b[38;5;241m=\u001b[39m [\u001b[38;5;241m10\u001b[39m,\u001b[38;5;241m20\u001b[39m,[\u001b[38;5;241m100\u001b[39m,\u001b[38;5;241m500\u001b[39m,\u001b[38;5;241m10\u001b[39m,\u001b[38;5;241m10\u001b[39m,\u001b[38;5;241m10\u001b[39m,\u001b[38;5;124m'\u001b[39m\u001b[38;5;124mJuice\u001b[39m\u001b[38;5;124m'\u001b[39m],\u001b[38;5;241m30\u001b[39m,\u001b[38;5;241m40\u001b[39m,\u001b[38;5;241m10\u001b[39m,\u001b[38;5;124m'\u001b[39m\u001b[38;5;124mApple\u001b[39m\u001b[38;5;124m'\u001b[39m,\u001b[38;5;124m'\u001b[39m\u001b[38;5;124mBanana\u001b[39m\u001b[38;5;124m'\u001b[39m]\n\u001b[1;32m----> 2\u001b[0m \u001b[43mlist1\u001b[49m\u001b[38;5;241;43m.\u001b[39;49m\u001b[43mextend\u001b[49m\u001b[43m(\u001b[49m\u001b[43m)\u001b[49m\n",
      "\u001b[1;31mTypeError\u001b[0m: list.extend() takes exactly one argument (0 given)"
     ]
    }
   ],
   "source": [
    "list1 = [10,20,[100,500,10,10,10,'Juice'],30,40,10,'Apple','Banana']\n",
    "list1.extend()"
   ]
  },
  {
   "cell_type": "code",
   "execution_count": 99,
   "id": "b0c10d8a-1ca3-4073-88b3-bd8bbf9d684d",
   "metadata": {},
   "outputs": [
    {
     "data": {
      "text/plain": [
       "[10, 20, 30, 'apple']"
      ]
     },
     "execution_count": 99,
     "metadata": {},
     "output_type": "execute_result"
    }
   ],
   "source": [
    "l1 = [10,20,30]\n",
    "l1.append('apple')\n",
    "l1"
   ]
  },
  {
   "cell_type": "code",
   "execution_count": 100,
   "id": "38f2d280-2afb-413e-8a65-02bba9fbae3f",
   "metadata": {},
   "outputs": [
    {
     "data": {
      "text/plain": [
       "[10, 20, 30, 'apple', 'banana']"
      ]
     },
     "execution_count": 100,
     "metadata": {},
     "output_type": "execute_result"
    }
   ],
   "source": [
    "l1 = [10,20,30]\n",
    "l1.append('apple')\n",
    "l1.append('banana')\n",
    "l1"
   ]
  },
  {
   "cell_type": "code",
   "execution_count": 101,
   "id": "5bf5e6a7-720a-4307-b812-94b6b09109a9",
   "metadata": {},
   "outputs": [
    {
     "ename": "TypeError",
     "evalue": "list.append() takes exactly one argument (2 given)",
     "output_type": "error",
     "traceback": [
      "\u001b[1;31m---------------------------------------------------------------------------\u001b[0m",
      "\u001b[1;31mTypeError\u001b[0m                                 Traceback (most recent call last)",
      "Cell \u001b[1;32mIn[101], line 2\u001b[0m\n\u001b[0;32m      1\u001b[0m l1 \u001b[38;5;241m=\u001b[39m [\u001b[38;5;241m10\u001b[39m,\u001b[38;5;241m20\u001b[39m,\u001b[38;5;241m30\u001b[39m]\n\u001b[1;32m----> 2\u001b[0m \u001b[43ml1\u001b[49m\u001b[38;5;241;43m.\u001b[39;49m\u001b[43mappend\u001b[49m\u001b[43m(\u001b[49m\u001b[38;5;124;43m'\u001b[39;49m\u001b[38;5;124;43mapple\u001b[39;49m\u001b[38;5;124;43m'\u001b[39;49m\u001b[43m,\u001b[49m\u001b[38;5;124;43m'\u001b[39;49m\u001b[38;5;124;43mbanana\u001b[39;49m\u001b[38;5;124;43m'\u001b[39;49m\u001b[43m)\u001b[49m\n\u001b[0;32m      3\u001b[0m l1\n",
      "\u001b[1;31mTypeError\u001b[0m: list.append() takes exactly one argument (2 given)"
     ]
    }
   ],
   "source": [
    "l1 = [10,20,30]\n",
    "l1.append('apple','banana')\n",
    "l1"
   ]
  },
  {
   "cell_type": "code",
   "execution_count": 102,
   "id": "c621a8b3-c7d2-423e-a0f5-49899db6802b",
   "metadata": {},
   "outputs": [
    {
     "data": {
      "text/plain": [
       "[10, 20, 30, ['apple', 'banana']]"
      ]
     },
     "execution_count": 102,
     "metadata": {},
     "output_type": "execute_result"
    }
   ],
   "source": [
    "l1 = [10,20,30]\n",
    "l1.append(['apple','banana'])\n",
    "l1"
   ]
  },
  {
   "cell_type": "markdown",
   "id": "9eb7c64f-9ccc-47d0-bb7d-857034dd8979",
   "metadata": {},
   "source": [
    "- #### append method is used to store the output\n",
    "    - for example i want append numbers from 1 to 5\n",
    "    - l = [1,2,3,4,5]"
   ]
  },
  {
   "cell_type": "code",
   "execution_count": 103,
   "id": "a7e80731-7d49-465c-97d7-979aaf728823",
   "metadata": {},
   "outputs": [
    {
     "data": {
      "text/plain": [
       "[1, 2, 3, 4, 5]"
      ]
     },
     "execution_count": 103,
     "metadata": {},
     "output_type": "execute_result"
    }
   ],
   "source": [
    "l = []\n",
    "l.append(1)\n",
    "l.append(2)\n",
    "l.append(3)\n",
    "l.append(4)\n",
    "l.append(5)\n",
    "l"
   ]
  },
  {
   "cell_type": "code",
   "execution_count": 104,
   "id": "c50ac3f5-936b-414d-af00-054a6267b24a",
   "metadata": {},
   "outputs": [
    {
     "name": "stdout",
     "output_type": "stream",
     "text": [
      "[1, 2, 3, 4, 5]\n"
     ]
    }
   ],
   "source": [
    "l = []\n",
    "for i in range(1,6):\n",
    "    l.append(i)\n",
    "print(l)"
   ]
  },
  {
   "cell_type": "code",
   "execution_count": 105,
   "id": "d5067128-ac17-48c9-8953-bf25179c3c2e",
   "metadata": {},
   "outputs": [
    {
     "data": {
      "text/plain": [
       "[1, 2, 3, 4, 5]"
      ]
     },
     "execution_count": 105,
     "metadata": {},
     "output_type": "execute_result"
    }
   ],
   "source": [
    "l = []\n",
    "l.append(1),l.append(2),l.append(3),l.append(4),l.append(5)\n",
    "l"
   ]
  },
  {
   "cell_type": "code",
   "execution_count": 106,
   "id": "6ac09339-03eb-4cfa-aaaf-88dbe8fb78d9",
   "metadata": {},
   "outputs": [],
   "source": [
    "# WAP ask the user enter three random numbers\n",
    "# Perform the square of the number, save those square in a last"
   ]
  },
  {
   "cell_type": "code",
   "execution_count": 107,
   "id": "29a881ef-bb0a-49b5-a43d-01c767fff72c",
   "metadata": {},
   "outputs": [
    {
     "name": "stdout",
     "output_type": "stream",
     "text": [
      "97=9409\n",
      "82=6724\n",
      "80=6400\n"
     ]
    }
   ],
   "source": [
    "import random\n",
    "for i in range(3):\n",
    "    num = random.randint(1,100)\n",
    "    print(f\"{num}={num*num}\")"
   ]
  },
  {
   "cell_type": "code",
   "execution_count": 108,
   "id": "74cd3cd1-d93e-4ffa-8db2-efa5e9f18861",
   "metadata": {},
   "outputs": [
    {
     "data": {
      "text/plain": [
       "[3, 33, 33]"
      ]
     },
     "execution_count": 108,
     "metadata": {},
     "output_type": "execute_result"
    }
   ],
   "source": [
    "l = []\n",
    "for i in range(3):\n",
    "    num = random.randint(1,100)\n",
    "    l.append(num)\n",
    "l"
   ]
  },
  {
   "cell_type": "code",
   "execution_count": 109,
   "id": "71f63b7f-1cb1-4a6e-b002-2b41c6c335ec",
   "metadata": {},
   "outputs": [
    {
     "data": {
      "text/plain": [
       "['80 :6400', '64 :4096', '69 :4761']"
      ]
     },
     "execution_count": 109,
     "metadata": {},
     "output_type": "execute_result"
    }
   ],
   "source": [
    "l = []\n",
    "for i in range(3):\n",
    "    num = random.randint(1,100)\n",
    "    l.append(f\"{num} :{num*num}\")\n",
    "l"
   ]
  },
  {
   "cell_type": "code",
   "execution_count": 110,
   "id": "7f71bbfe-11b5-4768-964e-5e362cd4fe65",
   "metadata": {},
   "outputs": [],
   "source": [
    "# Q2). i already have a list of numbers \n",
    "# l = [10,47,53,12,27]\n",
    "# from above list i want even list and odd list\n",
    "# OUtput: even_list = [10,12]\n",
    "# even_list = [47,53,27]"
   ]
  },
  {
   "cell_type": "code",
   "execution_count": 111,
   "id": "1edb388b-a58e-4fa1-a800-16797c791eb6",
   "metadata": {},
   "outputs": [
    {
     "name": "stdout",
     "output_type": "stream",
     "text": [
      "even_list = [10, 12]\n",
      "odd_list = [47, 53, 27]\n"
     ]
    }
   ],
   "source": [
    "l = [10,47,53,12,27]\n",
    "\n",
    "even_list = []\n",
    "odd_list = []\n",
    "\n",
    "for i in l:\n",
    "    if i%2 == 0:\n",
    "        even_list.append(i)\n",
    "\n",
    "    else:\n",
    "        odd_list.append(i)\n",
    "\n",
    "print(f\"even_list = {even_list}\")\n",
    "print(f\"odd_list = {odd_list}\")\n",
    "\n"
   ]
  },
  {
   "cell_type": "code",
   "execution_count": 112,
   "id": "97e7da8d-e5f1-4cbc-a01d-0245b890e750",
   "metadata": {},
   "outputs": [
    {
     "name": "stdout",
     "output_type": "stream",
     "text": [
      "input = ['hyd', 'bengaluru', 'pune', 'mumbai']\n",
      "output = ['Hyd', 'Bengaluru', 'Pune', 'Mumbai']\n"
     ]
    }
   ],
   "source": [
    "# Q3) input = ['hyd', 'bengaluru', 'pune', 'mumbai']\n",
    "#     output = ['HYD', 'BENGALURU', 'PUNE', 'MUMBAI']\n",
    "\n",
    "input = ['hyd','bengaluru','pune','mumbai']\n",
    "output = []\n",
    "for i in input:\n",
    "    output.append(i.capitalize())\n",
    "print(f\"input = {input}\")\n",
    "print(f\"output = {output}\")\n"
   ]
  },
  {
   "cell_type": "code",
   "execution_count": 127,
   "id": "08c36489-8581-42ee-a3e8-6605aaaa00ba",
   "metadata": {},
   "outputs": [
    {
     "name": "stdout",
     "output_type": "stream",
     "text": [
      "input = ['hyd', 'bengaluru', 'pune', 'mumbai']\n",
      "output = ['Hyd', 'Bengaluru', 'Pune', 'Mumbai']\n"
     ]
    }
   ],
   "source": [
    "# Q4) input = ['hyd', 'bengaluru', 'pune', 'mumbai']\n",
    "#     output = ['HYD', 'BENGALURU', 'PUNE', 'MUMBAI']\n",
    "\n",
    "input = ['hyd','bengaluru','pune','mumbai']\n",
    "output = []\n",
    "for i in input:\n",
    "    output.append(i.capitalize())\n",
    "print(f\"input = {input}\")\n",
    "print(f\"output = {output}\")\n"
   ]
  },
  {
   "cell_type": "code",
   "execution_count": 114,
   "id": "9adcf4c0-c179-4cf1-9322-b737eb2f8270",
   "metadata": {},
   "outputs": [
    {
     "name": "stdout",
     "output_type": "stream",
     "text": [
      "output = ['ben#galuru', 'mu#mbai']\n"
     ]
    }
   ],
   "source": [
    "# Q5) input=['hyd','ben#galuru','pune','mu#mbai']\n",
    "#     output=[ben#galuru',mu#mbai']\n",
    "\n",
    "input=['hyd','ben#galuru','pune','mu#mbai']\n",
    "list1 = []\n",
    "for i in input:\n",
    "    if '#' in i:\n",
    "        list1.append(i)\n",
    "print(f\"output = {list1}\")"
   ]
  },
  {
   "cell_type": "code",
   "execution_count": 115,
   "id": "101146a6-736e-4870-bfec-9d2ce784ef96",
   "metadata": {},
   "outputs": [
    {
     "name": "stdout",
     "output_type": "stream",
     "text": [
      "output = ['hyd', 'pune']\n"
     ]
    }
   ],
   "source": [
    "# Q6) input=['hyd','ben#galuru','pune','mu#mbai']\n",
    "#     output=[hyd,pune]\n",
    "\n",
    "input=['hyd','ben#galuru','pune','mu#mbai']\n",
    "list1 = []\n",
    "for i in input:\n",
    "    if '#' not in i:\n",
    "        list1.append(i)\n",
    "print(f\"output = {list1}\")"
   ]
  },
  {
   "cell_type": "code",
   "execution_count": 116,
   "id": "7d30d5bc-2b88-4f5a-aecf-9fa245223954",
   "metadata": {},
   "outputs": [
    {
     "name": "stdout",
     "output_type": "stream",
     "text": [
      "input = hai how are you\n",
      "output = ['HAI', 'HOW', 'ARE', 'YOU']\n"
     ]
    }
   ],
   "source": [
    "# Q7) input = 'hai how are you'\n",
    "#     output=['HAI','HOW','ARE','YOU']\n",
    "\n",
    "input = 'hai how are you'\n",
    "#input.split()\n",
    "output = []\n",
    "for i in input.split():\n",
    "    output.append(i.upper())\n",
    "print(f\"input = {input}\")\n",
    "print(f\"output = {output}\")\n",
    "\n",
    "    "
   ]
  },
  {
   "cell_type": "code",
   "execution_count": 117,
   "id": "be806e23-2c02-4415-abcf-b8723858b0fb",
   "metadata": {},
   "outputs": [
    {
     "name": "stdout",
     "output_type": "stream",
     "text": [
      "fname = ['virat', 'rohit', 'ms']\n",
      "sname = ['kohli', 'sharma', 'dhoni']\n",
      "cname = ['rcb', 'mi', 'csk']\n"
     ]
    }
   ],
   "source": [
    "# Q8) input='virat.kohli@rcb.com;rohit.sharma@mi.com;ms.dhoni@csk.com'\n",
    "#     fname=['virat','rohit','ms']\n",
    "#     sname=['kohli','sharma','dhoni']\n",
    "#     cname=['rcb','mi','csk']\n",
    "\n",
    "input_str = 'virat.kohli@rcb.com;rohit.sharma@mi.com;ms.dhoni@csk.com'\n",
    "\n",
    "emails = input_str.split(';')\n",
    "\n",
    "fname = []\n",
    "sname = []\n",
    "cname = []\n",
    "\n",
    "for email in emails:\n",
    "    name, domain = email.split('@')  \n",
    "    first, second = name.split('.')  \n",
    "    company = domain.split('.')[0]\n",
    "    \n",
    "    fname.append(first)\n",
    "    sname.append(second)\n",
    "    cname.append(company)\n",
    "\n",
    "print(\"fname =\", fname)\n",
    "print(\"sname =\", sname)\n",
    "print(\"cname =\", cname)\n"
   ]
  },
  {
   "cell_type": "code",
   "execution_count": 148,
   "id": "f5cdeedc-4c16-4bbc-93b2-6ba9062b3ff7",
   "metadata": {},
   "outputs": [
    {
     "name": "stdout",
     "output_type": "stream",
     "text": [
      "virat.kohli@rcb.com\n",
      "rohit.sharma@mi.com\n",
      "ms.dhoni@csk.com\n",
      "fname = ['', '', '']\n",
      "sname = ['virat.kohli', 'rohit.sharma', 'ms.dhoni']\n",
      "cname = ['', '', '']\n"
     ]
    }
   ],
   "source": [
    "input = 'virat.kohli@rcb.com;rohit.sharma@mi.com;ms.dhoni@csk.com'\n",
    "\n",
    "l = input.split(';')\n",
    "\n",
    "fname = []\n",
    "sname = []\n",
    "cname = []\n",
    "\n",
    "for i in l:\n",
    "    print(i)\n",
    "    id1 = i.find(',')\n",
    "    id2 = i.find('@')\n",
    "    id3 = i.find('.',id1+1)\n",
    "    \n",
    "    fname.append(i[:id1+1])\n",
    "    sname.append(i[id1+1:id2])\n",
    "    cname.append(i[id2+1:1+id3])\n",
    "\n",
    "print(\"fname =\", fname)\n",
    "print(\"sname =\", sname)\n",
    "print(\"cname =\", cname)\n",
    "\n",
    "    "
   ]
  },
  {
   "cell_type": "markdown",
   "id": "ec0e32f5-5683-446b-aca7-f3ac89405e86",
   "metadata": {},
   "source": [
    "### Word frequency problem"
   ]
  },
  {
   "cell_type": "code",
   "execution_count": 1,
   "id": "119cfae1-3b32-4bbe-8e15-991925ca2767",
   "metadata": {},
   "outputs": [
    {
     "name": "stdout",
     "output_type": "stream",
     "text": [
      "['can', 'canner', 'you', 'not', 'with', 'but', 'the']\n"
     ]
    },
    {
     "data": {
      "text/plain": [
       "['can-4', 'canner-3', 'you-3', 'not-1', 'with-1', 'but-1', 'the-1']"
      ]
     },
     "execution_count": 1,
     "metadata": {},
     "output_type": "execute_result"
    }
   ],
   "source": [
    "# Q9) input='can canner can you can not canner with you but you can the canner'\n",
    "#     output=['can'-4,'canner'-3,'you'-3,'not'-1,'with'-1,'but'-1,'the'-1]\n",
    "\n",
    "input='can canner can you can not canner with you but you can the canner'\n",
    "l = input.split()\n",
    "\n",
    "l1 = []\n",
    "counter = []\n",
    "\n",
    "for i in l:\n",
    "    if i not in l1:  # we are getting elements from l\n",
    "        counter.append(f\"{i}-{l.count(i)}\")    # that element will present in l1 or not\n",
    "        l1.append(i)   # s = s+1\n",
    "print(l1)\n",
    "counter"
   ]
  },
  {
   "cell_type": "code",
   "execution_count": 153,
   "id": "a4e02ec2-0c33-4ab5-ae9c-cf88417661f1",
   "metadata": {},
   "outputs": [
    {
     "name": "stdout",
     "output_type": "stream",
     "text": [
      "input = can canner can you can not canner with you but you can the canner\n"
     ]
    },
    {
     "data": {
      "text/plain": [
       "'can canner can can canner can the canner'"
      ]
     },
     "execution_count": 153,
     "metadata": {},
     "output_type": "execute_result"
    }
   ],
   "source": [
    "# Q10) input = 'can canner can you can not canner with you but you can the canner'\n",
    "#      stopwords=['not','you','but','with']\n",
    "#      using stopwords remove those words from input\n",
    "#     output='can canner can can canner can canner'\n",
    "\n",
    "input = 'can canner can you can not canner with you but you can the canner'\n",
    "print(f'input = {input}')\n",
    "\n",
    "stopwords = ['not','you','but','with']\n",
    "list1 = []\n",
    "\n",
    "for i in input.split():\n",
    "    if i not in stopwords:\n",
    "        list1.append(i)  \n",
    "\n",
    "' '.join(list1)\n",
    "#print(f'output = {list1}')\n"
   ]
  },
  {
   "cell_type": "code",
   "execution_count": 120,
   "id": "ca7ea40d-e91a-44cb-be45-b8360c816ace",
   "metadata": {},
   "outputs": [],
   "source": [
    "# Q11) take a string find the most repeated word from string\n",
    "\n",
    "str1 = 'can canner can you can not canner with you but you can the canner'\n",
    "\n",
    "elements = ['can', 'canner', 'you', 'not', 'with', 'but', 'the']\n",
    "\n",
    "\n",
    "\n"
   ]
  },
  {
   "cell_type": "code",
   "execution_count": 147,
   "id": "8df37ade-5219-42db-a5e2-4d6e7954ca31",
   "metadata": {},
   "outputs": [
    {
     "name": "stdout",
     "output_type": "stream",
     "text": [
      "The longest word is: 'watermelon'\n"
     ]
    }
   ],
   "source": [
    "# Q12) take a string find the longest length of the word from string\n",
    "\n",
    "input_str = \"apple banana orange watermelon pineapple\"\n",
    "\n",
    "words = input_str.split()\n",
    "\n",
    "longest = words[0]  \n",
    "\n",
    "for word in words:\n",
    "    if len(word) > len(longest):\n",
    "        longest = word\n",
    "\n",
    "print(f\"The longest word is: '{longest}'\")\n"
   ]
  },
  {
   "cell_type": "code",
   "execution_count": 122,
   "id": "bde90d73-fb07-4920-8cf0-c964a16548cc",
   "metadata": {},
   "outputs": [
    {
     "name": "stdout",
     "output_type": "stream",
     "text": [
      "The lowest word is: 'apple'\n"
     ]
    }
   ],
   "source": [
    "# Q13) take a string find the lowest length of the word from string\n",
    "\n",
    "input_str = \"apple banana orange watermelon pineapple\"\n",
    "\n",
    "words = input_str.split()\n",
    "\n",
    "lowest = words[0]  \n",
    "\n",
    "for word in words:\n",
    "    if len(word) < len(lowest):\n",
    "        lowest = word\n",
    "\n",
    "print(f\"The lowest word is: '{lowest}'\")\n"
   ]
  },
  {
   "cell_type": "code",
   "execution_count": 27,
   "id": "dbfe6817-0c58-4ecd-8067-f821932801da",
   "metadata": {},
   "outputs": [
    {
     "name": "stdout",
     "output_type": "stream",
     "text": [
      "0\n",
      "1\n",
      "2\n"
     ]
    }
   ],
   "source": [
    "# Q14\n",
    "\n",
    "qns = ['Who is the PM of India?','What is the capital of India?','Who is the ICT MENS captain?']\n",
    "\n",
    "ans = ['Modi', 'Delhi', 'Rohit']\n",
    "\n",
    "\n",
    "score = 0\n",
    "\n",
    "for i in range(len(qns)):\n",
    "    user_ans = input(qns[i] + ' ')  \n",
    "    if user_ans.strip().lower() == ans[i].lower():  \n",
    "        score += 10\n",
    "        print(\"Correct!\")\n",
    "    else:\n",
    "        print(\"Wrong! The correct answer is:\", ans[i])\n",
    "\n",
    "print(\"Your total score is:\", score)"
   ]
  },
  {
   "cell_type": "code",
   "execution_count": 18,
   "id": "e70a8626-a9ab-4d45-b939-4c61ccd6e317",
   "metadata": {},
   "outputs": [
    {
     "name": "stdout",
     "output_type": "stream",
     "text": [
      "You got total: 20 marks\n"
     ]
    }
   ],
   "source": [
    "\n",
    "\n",
    "qns = ['who is PM of india', 'what is the capital of india', 'who is ICT MENS captain']\n",
    "ans = ['Modi', 'Delhi', 'Rohit']\n",
    "\n",
    "user_ans = ['Modi', 'Delhi', 'Virat']  # Example user answers\n",
    "\n",
    "score = 0  # Initialize score to 0\n",
    "\n",
    "# Loop through each question and compare answers\n",
    "for i in range(len(qns)):\n",
    "    if user_ans[i] == ans[i]:  # Check if the answer is correct\n",
    "        score += 10  # Add 10 marks for a correct answer\n",
    "\n",
    "print(f\"You got total: {score} marks\")\n"
   ]
  },
  {
   "cell_type": "code",
   "execution_count": null,
   "id": "02c05811-4373-469d-b0fb-0d6fb8f49543",
   "metadata": {},
   "outputs": [],
   "source": []
  },
  {
   "cell_type": "code",
   "execution_count": null,
   "id": "c79b10e1-3423-45f7-bd5e-02e4cbf8b60a",
   "metadata": {},
   "outputs": [],
   "source": [
    "I did not done Q9), Q11), Q14)\n",
    "\n",
    "Because i have doubt\n"
   ]
  },
  {
   "cell_type": "markdown",
   "id": "316b19ad-ac1c-46cd-a4fe-06983dfcd575",
   "metadata": {},
   "source": [
    "## Extend\n",
    "- ### it will be owerwrite if we used extebd"
   ]
  },
  {
   "cell_type": "code",
   "execution_count": 163,
   "id": "825e5d8f-3444-47fd-96a4-91ec64eb6a5e",
   "metadata": {},
   "outputs": [
    {
     "data": {
      "text/plain": [
       "['A', 'B', 'C', 'D', 'A', 'B', 'C', 'D']"
      ]
     },
     "execution_count": 163,
     "metadata": {},
     "output_type": "execute_result"
    }
   ],
   "source": [
    "l1= [1,2,3,4,5]\n",
    "l2 = ['A','B','C','D']\n",
    "\n",
    "l2.extend(l2)\n",
    "l2"
   ]
  },
  {
   "cell_type": "code",
   "execution_count": 162,
   "id": "f321f14e-c50f-47e4-9b2e-e00597c44426",
   "metadata": {},
   "outputs": [
    {
     "data": {
      "text/plain": [
       "[1, 2, 3, 4, 5, 'A', 'B', 'C', 'D']"
      ]
     },
     "execution_count": 162,
     "metadata": {},
     "output_type": "execute_result"
    }
   ],
   "source": [
    "l1= [1,2,3,4,5]\n",
    "l2 = ['A','B','C','D']\n",
    "l1.extend(l2)\n",
    "l1"
   ]
  },
  {
   "cell_type": "code",
   "execution_count": 165,
   "id": "e12d3960-7e19-4dab-b2b4-ac06fe8aaa05",
   "metadata": {},
   "outputs": [
    {
     "data": {
      "text/plain": [
       "['A', 'B', 'C', 'D', 1, 2, 3, 4, 5]"
      ]
     },
     "execution_count": 165,
     "metadata": {},
     "output_type": "execute_result"
    }
   ],
   "source": [
    "l1= [1,2,3,4,5]\n",
    "l2 = ['A','B','C','D']\n",
    "l2.extend(l1)\n",
    "l2"
   ]
  },
  {
   "cell_type": "code",
   "execution_count": 166,
   "id": "b8264f90-f94b-4e80-895e-c8c8febe05d6",
   "metadata": {},
   "outputs": [
    {
     "data": {
      "text/plain": [
       "[1, 2, 3, 4, 5, 'A', 'B', 'C', 'D']"
      ]
     },
     "execution_count": 166,
     "metadata": {},
     "output_type": "execute_result"
    }
   ],
   "source": [
    "l1= [1,2,3,4,5]\n",
    "l2 = ['A','B','C','D']\n",
    "l1+l2"
   ]
  },
  {
   "cell_type": "code",
   "execution_count": 169,
   "id": "3dbba260-f762-4339-b6d8-b7c013f97a50",
   "metadata": {},
   "outputs": [
    {
     "data": {
      "text/plain": [
       "[1, 2, 3, 4, 5, ['A', 'B', 'C', 'D']]"
      ]
     },
     "execution_count": 169,
     "metadata": {},
     "output_type": "execute_result"
    }
   ],
   "source": [
    "l1= [1,2,3,4,5]\n",
    "l2 = ['A','B','C','D']\n",
    "l1.append(l2)\n",
    "l1"
   ]
  },
  {
   "cell_type": "markdown",
   "id": "1ff559b8-33a3-410d-9154-a3ad2b851607",
   "metadata": {},
   "source": [
    "## index\n",
    "- string we have index and find\n",
    "- but in list we have only index\n",
    "- same as string concept"
   ]
  },
  {
   "cell_type": "code",
   "execution_count": 175,
   "id": "248e6750-527f-4a8a-9574-2988faecbdce",
   "metadata": {},
   "outputs": [
    {
     "data": {
      "text/plain": [
       "0"
      ]
     },
     "execution_count": 175,
     "metadata": {},
     "output_type": "execute_result"
    }
   ],
   "source": [
    "l1= [10,20,30,40,50,'Apple','Banana','Cherry',40,50]\n",
    "\n",
    "i1 = l1.index(10)\n",
    "i1"
   ]
  },
  {
   "cell_type": "code",
   "execution_count": 176,
   "id": "2873d64c-596b-4423-ba7c-f7f22b53f2a2",
   "metadata": {},
   "outputs": [
    {
     "data": {
      "text/plain": [
       "3"
      ]
     },
     "execution_count": 176,
     "metadata": {},
     "output_type": "execute_result"
    }
   ],
   "source": [
    "l1.index(40)"
   ]
  },
  {
   "cell_type": "code",
   "execution_count": 178,
   "id": "a7269706-21a8-4222-b846-633a652965d2",
   "metadata": {},
   "outputs": [
    {
     "data": {
      "text/plain": [
       "8"
      ]
     },
     "execution_count": 178,
     "metadata": {},
     "output_type": "execute_result"
    }
   ],
   "source": [
    "l1.index(40,4,)"
   ]
  },
  {
   "cell_type": "markdown",
   "id": "9e9e859b-8640-4f88-b912-a1358a9278b2",
   "metadata": {},
   "source": [
    "## insert\n",
    "- difference of append and index\n",
    "- by using  insert we can add value according to index"
   ]
  },
  {
   "cell_type": "code",
   "execution_count": 186,
   "id": "e88fe3c6-2357-4852-abd7-8c93f31d8577",
   "metadata": {},
   "outputs": [
    {
     "data": {
      "text/plain": [
       "[10, 20, 90, 30, 40, 50, 'Apple', 'Banana', 'Cherry', 40, 50]"
      ]
     },
     "execution_count": 186,
     "metadata": {},
     "output_type": "execute_result"
    }
   ],
   "source": [
    "l1= [10,20,30,40,50,'Apple','Banana','Cherry',40,50]\n",
    "\n",
    "l1.insert(2,90)\n",
    "l1"
   ]
  },
  {
   "cell_type": "code",
   "execution_count": 191,
   "id": "4b398121-13ba-4d8f-b0ef-b83d12f28ae0",
   "metadata": {},
   "outputs": [
    {
     "data": {
      "text/plain": [
       "[10, 20, 30, 40, 50, 'Apple', 100, 'Banana', 'Cherry', 40, 50]"
      ]
     },
     "execution_count": 191,
     "metadata": {},
     "output_type": "execute_result"
    }
   ],
   "source": [
    "l1= [10,20,30,40,50,'Apple','Banana','Cherry',40,50]\n",
    "\n",
    "l1.insert(6,100)\n",
    "l1"
   ]
  },
  {
   "cell_type": "code",
   "execution_count": 194,
   "id": "dde38a80-4173-44c4-ac9f-4e4e0cd0b145",
   "metadata": {},
   "outputs": [
    {
     "data": {
      "text/plain": [
       "[10, 20, 30, 40, 50, 'Apple', 100, 'Banana', 'Cherry', 40, 50]"
      ]
     },
     "execution_count": 194,
     "metadata": {},
     "output_type": "execute_result"
    }
   ],
   "source": [
    "l1= [10,20,30,40,50,'Apple','Banana','Cherry',40,50]\n",
    "\n",
    "id = l1.index('Apple')\n",
    "\n",
    "l1.insert(id+1,100)\n",
    "l1"
   ]
  },
  {
   "cell_type": "markdown",
   "id": "cc7cf0e4-65bb-4daa-aa55-249cf0c9e632",
   "metadata": {},
   "source": [
    "## pop Vs remove"
   ]
  },
  {
   "cell_type": "code",
   "execution_count": 197,
   "id": "a62a9133-70f1-47b9-b3d5-86c5612817dd",
   "metadata": {},
   "outputs": [
    {
     "data": {
      "text/plain": [
       "[10, 20, 30, 40, 50, 'Apple', 'Banana', 'Cherry', 40]"
      ]
     },
     "execution_count": 197,
     "metadata": {},
     "output_type": "execute_result"
    }
   ],
   "source": [
    "l1= [10,20,30,40,50,'Apple','Banana','Cherry',40,50]\n",
    "\n",
    "l1.pop()\n",
    "l1"
   ]
  },
  {
   "cell_type": "code",
   "execution_count": 198,
   "id": "b0e3b568-6041-4232-b205-112fc3865233",
   "metadata": {},
   "outputs": [
    {
     "data": {
      "text/plain": [
       "[10, 20, 30, 40, 50, 'Banana', 'Cherry', 40, 50]"
      ]
     },
     "execution_count": 198,
     "metadata": {},
     "output_type": "execute_result"
    }
   ],
   "source": [
    "l1= [10,20,30,40,50,'Apple','Banana','Cherry',40,50]\n",
    "l1.pop(5)\n",
    "l1"
   ]
  },
  {
   "cell_type": "code",
   "execution_count": 201,
   "id": "352d9e1f-8f15-4758-9a99-ed046f9cebda",
   "metadata": {},
   "outputs": [
    {
     "data": {
      "text/plain": [
       "[10, 20, 30, 50, 'Apple', 'Banana', 'Cherry', 40, 50]"
      ]
     },
     "execution_count": 201,
     "metadata": {},
     "output_type": "execute_result"
    }
   ],
   "source": [
    "l1= [10,20,30,40,50,'Apple','Banana','Cherry',40,50]\n",
    "l1.remove(40)\n",
    "l1"
   ]
  },
  {
   "cell_type": "markdown",
   "id": "aeb0669a-3346-4ce1-83f0-c1db69a3d085",
   "metadata": {},
   "source": [
    "## del\n",
    "- if we want delete any element\n",
    "- pop: based on index\n",
    "- remove: based on value\n",
    "- del is an inbuilt function\n",
    "  "
   ]
  },
  {
   "cell_type": "code",
   "execution_count": null,
   "id": "c9f39c22-c179-438e-8688-ad35d539ce22",
   "metadata": {},
   "outputs": [],
   "source": []
  },
  {
   "cell_type": "code",
   "execution_count": 206,
   "id": "bc2cdbaf-d9d9-4ee7-ac55-10a9426836ba",
   "metadata": {},
   "outputs": [
    {
     "data": {
      "text/plain": [
       "[10, 20, 30, 40, 50, 'Banana', 'Cherry', 40, 50]"
      ]
     },
     "execution_count": 206,
     "metadata": {},
     "output_type": "execute_result"
    }
   ],
   "source": [
    "l1= [10,20,30,40,50,'Apple','Banana','Cherry',40,50]\n",
    "del(l1[5])\n",
    "l1"
   ]
  },
  {
   "cell_type": "code",
   "execution_count": 213,
   "id": "6e41871b-47cb-4068-8ba0-56e83ddcadd4",
   "metadata": {},
   "outputs": [
    {
     "name": "stdout",
     "output_type": "stream",
     "text": [
      "[10, 20, 30, 40, 50, 'Apple', 'Banana', 'Cherry', 40, 50]\n",
      "\n"
     ]
    },
    {
     "ename": "NameError",
     "evalue": "name 'l1' is not defined",
     "output_type": "error",
     "traceback": [
      "\u001b[1;31m---------------------------------------------------------------------------\u001b[0m",
      "\u001b[1;31mNameError\u001b[0m                                 Traceback (most recent call last)",
      "Cell \u001b[1;32mIn[213], line 6\u001b[0m\n\u001b[0;32m      4\u001b[0m \u001b[38;5;28mprint\u001b[39m()\n\u001b[0;32m      5\u001b[0m \u001b[38;5;28;01mdel\u001b[39;00m(l1)\n\u001b[1;32m----> 6\u001b[0m \u001b[43ml1\u001b[49m\n",
      "\u001b[1;31mNameError\u001b[0m: name 'l1' is not defined"
     ]
    }
   ],
   "source": [
    "l1 = [10,20,30,40,50,'Apple','Banana','Cherry',40,50]\n",
    "\n",
    "print(l1)\n",
    "print()\n",
    "del(l1)\n",
    "l1"
   ]
  },
  {
   "cell_type": "code",
   "execution_count": 212,
   "id": "a0210499-98d4-46d5-a996-7d06dc1bed1c",
   "metadata": {},
   "outputs": [
    {
     "data": {
      "text/plain": [
       "[10, 20, 30, 40, 50, 'Banana', 'Cherry', 40, 50]"
      ]
     },
     "execution_count": 212,
     "metadata": {},
     "output_type": "execute_result"
    }
   ],
   "source": [
    "l1= [10,20,30,40,50,'Apple','Banana','Cherry',40,50]\n",
    "\n",
    "del l1[5]  # del([5])   both will work\n",
    "l1"
   ]
  },
  {
   "cell_type": "markdown",
   "id": "2bbe9c14-9885-4c51-b2dd-353ee70eb19e",
   "metadata": {},
   "source": [
    "## reverse - reversed\n",
    "- reverse is a method\n",
    "- reversed is an in built function\n",
    "  "
   ]
  },
  {
   "cell_type": "code",
   "execution_count": 215,
   "id": "c71c93f6-1d44-48d9-811f-c566c8be329b",
   "metadata": {},
   "outputs": [
    {
     "data": {
      "text/plain": [
       "[50, 40, 'Cherry', 'Banana', 'Apple', 50, 40, 30, 20, 10]"
      ]
     },
     "execution_count": 215,
     "metadata": {},
     "output_type": "execute_result"
    }
   ],
   "source": [
    "value\n",
    "l1.reverse()\n",
    "l1"
   ]
  },
  {
   "cell_type": "markdown",
   "id": "fcc32fc4-d6ef-4add-b4c6-9b00399c0875",
   "metadata": {},
   "source": [
    "## inplace\n",
    "- when w perform the  operations some times the value will not overwrite\n",
    "- if we see **inplace** or **inplace = True**\n",
    "- this indicates the output will bw overwrite corresponding variable"
   ]
  },
  {
   "cell_type": "code",
   "execution_count": 223,
   "id": "305f1d9d-096f-451b-8d9f-c344d42765f9",
   "metadata": {},
   "outputs": [
    {
     "data": {
      "text/plain": [
       "<list_reverseiterator at 0x2b1d0431480>"
      ]
     },
     "execution_count": 223,
     "metadata": {},
     "output_type": "execute_result"
    }
   ],
   "source": [
    "l1= [10,20,30,40,50,'Apple','Banana','Cherry',40,50]\n",
    "list1 = reversed(l1)\n",
    "list1"
   ]
  },
  {
   "cell_type": "code",
   "execution_count": 218,
   "id": "926308f4-2b14-406f-b4de-fee9003bf4e8",
   "metadata": {},
   "outputs": [
    {
     "data": {
      "text/plain": [
       "[10, 20, 30, 40, 50, 'Apple', 'Banana', 'Cherry', 40, 50]"
      ]
     },
     "execution_count": 218,
     "metadata": {},
     "output_type": "execute_result"
    }
   ],
   "source": [
    "list1 = reversed(l1)\n",
    "list(list1)"
   ]
  },
  {
   "cell_type": "markdown",
   "id": "4b0d4c63-4b9b-4746-9a09-dd1c1ac409df",
   "metadata": {},
   "source": [
    "## sort - sorted"
   ]
  },
  {
   "cell_type": "code",
   "execution_count": null,
   "id": "750ec807-a663-48f8-8762-2360fed6622a",
   "metadata": {},
   "outputs": [],
   "source": []
  },
  {
   "cell_type": "code",
   "execution_count": 225,
   "id": "6119913e-dbd8-45ff-ab25-441889fbc544",
   "metadata": {},
   "outputs": [
    {
     "data": {
      "text/plain": [
       "[10, 20, 30, 40, 40, 50, 50]"
      ]
     },
     "execution_count": 225,
     "metadata": {},
     "output_type": "execute_result"
    }
   ],
   "source": [
    "l1= [10,20,30,40,50,40,50]\n",
    "l1.sort()\n",
    "l1"
   ]
  },
  {
   "cell_type": "code",
   "execution_count": 226,
   "id": "ae736876-f1ad-4e87-81bd-a325cdec2061",
   "metadata": {},
   "outputs": [
    {
     "data": {
      "text/plain": [
       "[10, 20, 30, 40, 40, 50, 50]"
      ]
     },
     "execution_count": 226,
     "metadata": {},
     "output_type": "execute_result"
    }
   ],
   "source": [
    "l1= [10,20,30,40,50,40,50]\n",
    "sorted(l1)"
   ]
  },
  {
   "cell_type": "markdown",
   "id": "142f6ab0-bc2d-4721-874c-039b2ba89dcf",
   "metadata": {},
   "source": [
    "- ### inbuilt function applicable for any data type\n",
    "- ### but method works with respect to data trype"
   ]
  },
  {
   "cell_type": "markdown",
   "id": "79c4742b-86dc-4934-9345-f254014ba08c",
   "metadata": {},
   "source": [
    "- clear\n",
    "- count\n",
    "- append/extend/insert\n",
    "- index\n",
    "- reverse/reversed\n",
    "- sort/sorted"
   ]
  },
  {
   "cell_type": "code",
   "execution_count": 228,
   "id": "677f22d2-f408-40af-950c-2be978392701",
   "metadata": {},
   "outputs": [],
   "source": []
  },
  {
   "cell_type": "code",
   "execution_count": 2,
   "id": "04a26db3-ffd5-47e8-b162-a60995aa5672",
   "metadata": {},
   "outputs": [],
   "source": [
    "\n",
    "# Q3) input=['hyd','bengaluru','pune','mumbai']\n",
    "#     output=['Hyd','Bengaluru','Pune','Mumbai']\n",
    "\n",
    "# Q4) input=['hyd','bengaluru','pune','mumbai']\n",
    "#     output=['HYD','BENGALURU','PUNE','MUMBAI']\n",
    "\n",
    "# Q5) input=['hyd','ben#galuru','pune','mu#mbai']\n",
    "#     output=[ben#galuru',mu#mbai']\n",
    "\n",
    "# Q6) input=['hyd','ben#galuru','pune','mu#mbai']\n",
    "#     output=[hyd,pune]\n",
    "\n",
    "# Q7) input = 'hai how are you'\n",
    "#     output=['HAI','HOW','ARE','YOU']\n",
    "\n",
    "# Q8) input='virat.kohli@rcb.com;rohit.sharma@mi.com;ms.dhoni@csk.com'\n",
    "#     fname=['virat','rohit'.'ms']\n",
    "#     sname=['kohli','sharma','dhoni']\n",
    "#     cname=['rcb','mi','csk']\n",
    "\n",
    "# Q9) input='can canner can you can not canner with you but you can the canner'\n",
    "#     output=['can'-4,'canner'-3,'you'-3,'not'-1,'with'-1,'but'-1,'the'-1]\n",
    "\n",
    "# Q10) input = 'can canner can you can not canner with you but you can the canner'\n",
    "#      stopwords=['not','you','but','with']\n",
    "#      using stopwords remove those words from input\n",
    "#     output='can canner can can canner can canner'\n",
    "\n",
    "# Q11) take a string find the most repeated word from string\n",
    "\n",
    "# Q12) take a string find the longest length of the word from string\n",
    "\n",
    "# Q13) take a string find the lowest length of the word from string\n",
    "\n",
    "# Q14) you have some qns list is there\n",
    "#      also you have answers list also there\n",
    "#     qns=['who is PM of india',\n",
    "#       'what is the capital of india', who is ICT MENS captain]\n",
    "#    ans=['Modi','Delhi','Rohit']\n",
    "#    whenerver correct answer marks +10\n",
    "#    print you got total\n"
   ]
  },
  {
   "cell_type": "code",
   "execution_count": 6,
   "id": "9b7f0e7d-e3fe-4602-b7a6-1f037d7aeafe",
   "metadata": {},
   "outputs": [
    {
     "name": "stdout",
     "output_type": "stream",
     "text": [
      "['python']\n"
     ]
    }
   ],
   "source": [
    "st = 'python narayana and python developer and python tester'\n",
    "St1 = st.split()\n",
    "#1 'python', tnarayana', •and', 'python', 'developer', 'and', 'python', 'tester']\n",
    "1\n",
    "print(list({i for i in St1 if St1.count(i) > 2}))"
   ]
  },
  {
   "cell_type": "code",
   "execution_count": null,
   "id": "793417e6-302a-439f-882f-a65f51b12c80",
   "metadata": {},
   "outputs": [],
   "source": []
  }
 ],
 "metadata": {
  "kernelspec": {
   "display_name": "Python 3 (ipykernel)",
   "language": "python",
   "name": "python3"
  },
  "language_info": {
   "codemirror_mode": {
    "name": "ipython",
    "version": 3
   },
   "file_extension": ".py",
   "mimetype": "text/x-python",
   "name": "python",
   "nbconvert_exporter": "python",
   "pygments_lexer": "ipython3",
   "version": "3.11.4"
  }
 },
 "nbformat": 4,
 "nbformat_minor": 5
}
