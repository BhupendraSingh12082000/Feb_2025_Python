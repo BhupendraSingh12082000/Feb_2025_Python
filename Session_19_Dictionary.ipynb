{
 "cells": [
  {
   "cell_type": "markdown",
   "id": "7a597c75-432a-4cfe-a8ed-daaf7d73dd9c",
   "metadata": {},
   "source": [
    "# Session_19 : Dictionary"
   ]
  },
  {
   "cell_type": "code",
   "execution_count": 5,
   "id": "c2d1e176-196f-4062-85cb-889bde1ef70b",
   "metadata": {},
   "outputs": [
    {
     "name": "stdout",
     "output_type": "stream",
     "text": [
      "Ramesh age is 20\n",
      "Suresh age is 25\n",
      "Satish age is 30\n"
     ]
    }
   ],
   "source": [
    "names = ['Ramesh','Suresh','Satish']\n",
    "age = [20,25,30]\n",
    "\n",
    "print(f\"{names[0]} age is {age[0]}\")\n",
    "print(f\"{names[1]} age is {age[1]}\")\n",
    "print(f\"{names[2]} age is {age[2]}\")"
   ]
  },
  {
   "cell_type": "code",
   "execution_count": 6,
   "id": "13e95f0f-9e65-470f-8883-6b85e18e807f",
   "metadata": {},
   "outputs": [
    {
     "name": "stdout",
     "output_type": "stream",
     "text": [
      "Ramesh age is 20\n",
      "Suresh age is 25\n",
      "Satish age is 30\n"
     ]
    }
   ],
   "source": [
    "for i in range(len(names)):\n",
    "    print(f\"{names[i]} age is {age[i]}\")"
   ]
  },
  {
   "cell_type": "markdown",
   "id": "829d73e9-4e84-4b33-9a41-38f93c62a959",
   "metadata": {},
   "source": [
    "## Zip"
   ]
  },
  {
   "cell_type": "code",
   "execution_count": 14,
   "id": "2c980d2f-7fe5-4247-819d-4f4a1fd064b8",
   "metadata": {},
   "outputs": [
    {
     "name": "stdout",
     "output_type": "stream",
     "text": [
      "('Ramesh', 20)\n",
      "('Suresh', 25)\n",
      "('Satish', 30)\n"
     ]
    }
   ],
   "source": [
    "names = ['Ramesh','Suresh','Satish']\n",
    "age = [20,25,30]\n",
    "\n",
    "# zip(names,age)\n",
    "\n",
    "for i in zip(names,age):\n",
    "    print(i)"
   ]
  },
  {
   "cell_type": "code",
   "execution_count": 16,
   "id": "2c4956a4-edc7-4c47-ba5c-2ac035e59d0f",
   "metadata": {},
   "outputs": [
    {
     "name": "stdout",
     "output_type": "stream",
     "text": [
      "Ramesh 20\n",
      "Suresh 25\n",
      "Satish 30\n"
     ]
    }
   ],
   "source": [
    "names = ['Ramesh','Suresh','Satish']\n",
    "age = [20,25,30]\n",
    "\n",
    "# zip(names,age)\n",
    "\n",
    "for i,j in zip(names,age):\n",
    "    print(i,j)"
   ]
  },
  {
   "cell_type": "code",
   "execution_count": 15,
   "id": "7ec19227-c72b-425e-bdf7-9df97b9f9038",
   "metadata": {},
   "outputs": [
    {
     "name": "stdout",
     "output_type": "stream",
     "text": [
      "Ramesh age is 20\n",
      "Suresh age is 25\n",
      "Satish age is 30\n"
     ]
    }
   ],
   "source": [
    "names = ['Ramesh','Suresh','Satish']\n",
    "age = [20,25,30]\n",
    "# zip(names,age)\n",
    "\n",
    "for i,j in zip(names,age):    \n",
    "    print(f\"{i} age is {j}\")"
   ]
  },
  {
   "cell_type": "markdown",
   "id": "f0b8d39d-8ed0-4b0a-9d1c-4b0468a5e6c2",
   "metadata": {},
   "source": [
    "### Dictionary\n",
    "- in above example names and age both are together\n",
    "- when both are together we can pair them\n",
    "- this can happen using dictionary\n",
    "- dictioanry is called as **key-value** pair\n",
    "- it represents with curly braces : **{Key : value}**\n",
    "- Ramesh and 20 years both are pair : **{Ramesh : 20}**"
   ]
  },
  {
   "cell_type": "code",
   "execution_count": 18,
   "id": "93055e97-6602-45d8-ae31-e17c8713fe1a",
   "metadata": {},
   "outputs": [
    {
     "data": {
      "text/plain": [
       "{'Ramesh': 20, 'Suresh': 25, 'Satish': 30}"
      ]
     },
     "execution_count": 18,
     "metadata": {},
     "output_type": "execute_result"
    }
   ],
   "source": [
    "d1 = {'Ramesh':20, 'Suresh':25, 'Satish':30}\n",
    "d1"
   ]
  },
  {
   "cell_type": "code",
   "execution_count": 20,
   "id": "4bc7bf93-2ccb-402f-bee7-acf9f9066cdf",
   "metadata": {},
   "outputs": [
    {
     "data": {
      "text/plain": [
       "{20: 'Ramesh', 25: 'Suresh', 30: 'Satish'}"
      ]
     },
     "execution_count": 20,
     "metadata": {},
     "output_type": "execute_result"
    }
   ],
   "source": [
    "d2 = {20:'Ramesh', 25:'Suresh', 30:'Satish'}\n",
    "d2"
   ]
  },
  {
   "cell_type": "code",
   "execution_count": 24,
   "id": "3de072d5-9b5e-4b2b-bcd7-42ecd471eae4",
   "metadata": {},
   "outputs": [
    {
     "data": {
      "text/plain": [
       "{4: 5, ('Ramesh', 50): 80}"
      ]
     },
     "execution_count": 24,
     "metadata": {},
     "output_type": "execute_result"
    }
   ],
   "source": [
    "d3 = {4:5, (\"Ramesh\",50):80}\n",
    "d3"
   ]
  },
  {
   "cell_type": "code",
   "execution_count": 36,
   "id": "effed846-79bc-44ab-9169-f5a70ddd1930",
   "metadata": {},
   "outputs": [
    {
     "data": {
      "text/plain": [
       "{('ramesh', 'suresh'): [30]}"
      ]
     },
     "execution_count": 36,
     "metadata": {},
     "output_type": "execute_result"
    }
   ],
   "source": [
    "d4 = {('ramesh','suresh'):[30]}\n",
    "d4"
   ]
  },
  {
   "cell_type": "markdown",
   "id": "b7155259-1d0e-4609-832d-3d60420008c5",
   "metadata": {},
   "source": [
    "### - Important point\n",
    "- if keys are same it will takes latest value\n",
    "- dictionary kind databases\n",
    "- dictioanry does not allow duplicated\n",
    "- in dictioanry keys can not be duplicate but values can be duplicate"
   ]
  },
  {
   "cell_type": "code",
   "execution_count": 28,
   "id": "e0024542-c89a-4b31-8885-cb8e6f04529b",
   "metadata": {},
   "outputs": [
    {
     "data": {
      "text/plain": [
       "{'Ramesh': 30}"
      ]
     },
     "execution_count": 28,
     "metadata": {},
     "output_type": "execute_result"
    }
   ],
   "source": [
    "d5 = {'Ramesh':20,'Ramesh':30}\n",
    "d5"
   ]
  },
  {
   "cell_type": "code",
   "execution_count": 29,
   "id": "1f702e5e-ccc7-4669-8f2f-7b31be6cc9db",
   "metadata": {},
   "outputs": [
    {
     "data": {
      "text/plain": [
       "{'Ramesh': 20}"
      ]
     },
     "execution_count": 29,
     "metadata": {},
     "output_type": "execute_result"
    }
   ],
   "source": [
    "d6 = {'Ramesh':20,'Ramesh':20}\n",
    "d6"
   ]
  },
  {
   "cell_type": "code",
   "execution_count": 30,
   "id": "3f8d47f8-a697-4615-b6dd-13e7dd534b3a",
   "metadata": {},
   "outputs": [
    {
     "data": {
      "text/plain": [
       "{'Ramesh': 20, 'Suresh': 20}"
      ]
     },
     "execution_count": 30,
     "metadata": {},
     "output_type": "execute_result"
    }
   ],
   "source": [
    "d7 = {'Ramesh':20,'Suresh':20}\n",
    "d7"
   ]
  },
  {
   "cell_type": "code",
   "execution_count": 32,
   "id": "1932dcfb-c5bd-455d-934b-29b92be728a1",
   "metadata": {},
   "outputs": [
    {
     "data": {
      "text/plain": [
       "{20: 'Ramesh', 30: 'Suresh'}"
      ]
     },
     "execution_count": 32,
     "metadata": {},
     "output_type": "execute_result"
    }
   ],
   "source": [
    "d8 = d7 = {20:'Ramesh',30:'Suresh'}\n",
    "d8"
   ]
  },
  {
   "cell_type": "code",
   "execution_count": 34,
   "id": "155ed3fc-aec6-47c9-b8c8-f88ecd1b86c5",
   "metadata": {},
   "outputs": [
    {
     "data": {
      "text/plain": [
       "{True: 'true'}"
      ]
     },
     "execution_count": 34,
     "metadata": {},
     "output_type": "execute_result"
    }
   ],
   "source": [
    "d9 = {True:'true'}\n",
    "d9"
   ]
  },
  {
   "cell_type": "markdown",
   "id": "11696a7f-1a73-4402-9275-30125ecf1d01",
   "metadata": {},
   "source": [
    "- **list** as keys fails bcz list has a mutable behavior\n",
    "- **tuple** as keys work bcz list has a immutable behavior\n",
    "- **Dictinary** as keys fails bcz list has a mutable behavior\n"
   ]
  },
  {
   "cell_type": "code",
   "execution_count": 39,
   "id": "384a1da5-ea27-4fe2-9292-6da5d0d9e9aa",
   "metadata": {},
   "outputs": [
    {
     "data": {
      "text/plain": [
       "{'fruits': {'Apple', 'Banana'}}"
      ]
     },
     "execution_count": 39,
     "metadata": {},
     "output_type": "execute_result"
    }
   ],
   "source": [
    "d10 = {'fruits':['Apple','Banana']}  # work\n",
    "d10 = {'fruits':('Apple','Banana')}  # work\n",
    "d10 = {'fruits':{'Apple','Banana'}}  # work\n",
    "d10"
   ]
  },
  {
   "cell_type": "code",
   "execution_count": 42,
   "id": "3aaf9dcc-34cc-4cc0-b4f6-ba9bdf68a989",
   "metadata": {},
   "outputs": [
    {
     "ename": "TypeError",
     "evalue": "unhashable type: 'list'",
     "output_type": "error",
     "traceback": [
      "\u001b[1;31m---------------------------------------------------------------------------\u001b[0m",
      "\u001b[1;31mTypeError\u001b[0m                                 Traceback (most recent call last)",
      "Cell \u001b[1;32mIn[42], line 1\u001b[0m\n\u001b[1;32m----> 1\u001b[0m d11 \u001b[38;5;241m=\u001b[39m {[\u001b[38;5;124m'\u001b[39m\u001b[38;5;124mApple\u001b[39m\u001b[38;5;124m'\u001b[39m,\u001b[38;5;124m'\u001b[39m\u001b[38;5;124mBanana\u001b[39m\u001b[38;5;124m'\u001b[39m] : \u001b[38;5;124m'\u001b[39m\u001b[38;5;124mfruits\u001b[39m\u001b[38;5;124m'\u001b[39m} \u001b[38;5;66;03m# not work     # Mutable\u001b[39;00m\n\u001b[0;32m      2\u001b[0m d11 \u001b[38;5;241m=\u001b[39m {(\u001b[38;5;124m'\u001b[39m\u001b[38;5;124mApple\u001b[39m\u001b[38;5;124m'\u001b[39m,\u001b[38;5;124m'\u001b[39m\u001b[38;5;124mBanana\u001b[39m\u001b[38;5;124m'\u001b[39m) : \u001b[38;5;124m'\u001b[39m\u001b[38;5;124mfruits\u001b[39m\u001b[38;5;124m'\u001b[39m}  \u001b[38;5;66;03m# work        # Immutable\u001b[39;00m\n\u001b[0;32m      3\u001b[0m d11 \u001b[38;5;241m=\u001b[39m {{\u001b[38;5;124m'\u001b[39m\u001b[38;5;124mApple\u001b[39m\u001b[38;5;124m'\u001b[39m,\u001b[38;5;124m'\u001b[39m\u001b[38;5;124mBanana\u001b[39m\u001b[38;5;124m'\u001b[39m} : \u001b[38;5;124m'\u001b[39m\u001b[38;5;124mfruits\u001b[39m\u001b[38;5;124m'\u001b[39m} \u001b[38;5;66;03m# not work     # mutable\u001b[39;00m\n",
      "\u001b[1;31mTypeError\u001b[0m: unhashable type: 'list'"
     ]
    }
   ],
   "source": [
    "d11 = {['Apple','Banana'] : 'fruits'} # not work     # Mutable\n",
    "d11 = {('Apple','Banana') : 'fruits'}  # work        # Immutable\n",
    "d11 = {{'Apple','Banana'} : 'fruits'} # not work     # mutable\n",
    "d11"
   ]
  },
  {
   "cell_type": "markdown",
   "id": "95a66768-1d54-4089-bb7e-d22af28b8ae4",
   "metadata": {},
   "source": [
    "## Apply min max sorted reversed\n"
   ]
  },
  {
   "cell_type": "code",
   "execution_count": 71,
   "id": "dfc6b749-5b23-466e-9c9e-16a09d37a530",
   "metadata": {},
   "outputs": [],
   "source": [
    "\n",
    "dict1 = {'Apple':20,'Banana':30, 'cherry':50}\n",
    "dict2 = {'Apple':20, 'apple':30}\n",
    "dict3 = {20:'Apple',30:'Banana',50:'Cherry'}\n"
   ]
  },
  {
   "cell_type": "code",
   "execution_count": 69,
   "id": "26a3ed94-4af3-4b89-abee-45ca4e3cfdba",
   "metadata": {},
   "outputs": [
    {
     "data": {
      "text/plain": [
       "'Apple'"
      ]
     },
     "execution_count": 69,
     "metadata": {},
     "output_type": "execute_result"
    }
   ],
   "source": [
    "dict1 = {'Apple':20,'Banana':30, 'cherry':50}\n",
    "\n",
    "min(dict1)"
   ]
  },
  {
   "cell_type": "code",
   "execution_count": 45,
   "id": "60546345-7a83-42e8-86fe-0205bd191e4e",
   "metadata": {},
   "outputs": [
    {
     "data": {
      "text/plain": [
       "'cherry'"
      ]
     },
     "execution_count": 45,
     "metadata": {},
     "output_type": "execute_result"
    }
   ],
   "source": [
    "max(dict1)"
   ]
  },
  {
   "cell_type": "code",
   "execution_count": 46,
   "id": "e3312f9b-28b4-4393-b049-0bc0d67410df",
   "metadata": {},
   "outputs": [
    {
     "data": {
      "text/plain": [
       "['Apple', 'Banana', 'cherry']"
      ]
     },
     "execution_count": 46,
     "metadata": {},
     "output_type": "execute_result"
    }
   ],
   "source": [
    "sorted(dict1)"
   ]
  },
  {
   "cell_type": "code",
   "execution_count": 51,
   "id": "c907aacf-2fee-4168-9084-c432cd7c2825",
   "metadata": {},
   "outputs": [
    {
     "data": {
      "text/plain": [
       "<dict_reversekeyiterator at 0x14bf4949760>"
      ]
     },
     "execution_count": 51,
     "metadata": {},
     "output_type": "execute_result"
    }
   ],
   "source": [
    "reversed(dict1)"
   ]
  },
  {
   "cell_type": "code",
   "execution_count": 74,
   "id": "9ab07aac-c90f-4986-882a-0105f8375c0d",
   "metadata": {},
   "outputs": [
    {
     "ename": "ValueError",
     "evalue": "dictionary update sequence element #0 has length 6; 2 is required",
     "output_type": "error",
     "traceback": [
      "\u001b[1;31m---------------------------------------------------------------------------\u001b[0m",
      "\u001b[1;31mValueError\u001b[0m                                Traceback (most recent call last)",
      "Cell \u001b[1;32mIn[74], line 1\u001b[0m\n\u001b[1;32m----> 1\u001b[0m \u001b[38;5;28;43mdict\u001b[39;49m\u001b[43m(\u001b[49m\u001b[38;5;28;43mreversed\u001b[39;49m\u001b[43m(\u001b[49m\u001b[43mdict1\u001b[49m\u001b[43m)\u001b[49m\u001b[43m)\u001b[49m\n",
      "\u001b[1;31mValueError\u001b[0m: dictionary update sequence element #0 has length 6; 2 is required"
     ]
    }
   ],
   "source": [
    "dict(reversed(dict1))\n"
   ]
  },
  {
   "cell_type": "code",
   "execution_count": 70,
   "id": "9a357dbc-4d0b-44e0-a8f8-71cc56a849b7",
   "metadata": {},
   "outputs": [
    {
     "data": {
      "text/plain": [
       "['cherry', 'Banana', 'Apple']"
      ]
     },
     "execution_count": 70,
     "metadata": {},
     "output_type": "execute_result"
    }
   ],
   "source": [
    "list(reversed(dict1))"
   ]
  },
  {
   "cell_type": "code",
   "execution_count": 54,
   "id": "b74b2bf2-9674-493b-b141-753db1fb5ea0",
   "metadata": {},
   "outputs": [
    {
     "data": {
      "text/plain": [
       "'Apple'"
      ]
     },
     "execution_count": 54,
     "metadata": {},
     "output_type": "execute_result"
    }
   ],
   "source": [
    "dict2 = {'Apple':20, 'apple':30}\n",
    "min(dict2)"
   ]
  },
  {
   "cell_type": "code",
   "execution_count": 55,
   "id": "fcd6860c-9da6-4e6b-b5f6-846a3967fd90",
   "metadata": {},
   "outputs": [
    {
     "data": {
      "text/plain": [
       "'apple'"
      ]
     },
     "execution_count": 55,
     "metadata": {},
     "output_type": "execute_result"
    }
   ],
   "source": [
    "max(dict2)"
   ]
  },
  {
   "cell_type": "code",
   "execution_count": 56,
   "id": "0588cf9d-2c92-429a-943a-d26169f38927",
   "metadata": {},
   "outputs": [
    {
     "data": {
      "text/plain": [
       "['Apple', 'apple']"
      ]
     },
     "execution_count": 56,
     "metadata": {},
     "output_type": "execute_result"
    }
   ],
   "source": [
    "sorted(dict2)"
   ]
  },
  {
   "cell_type": "code",
   "execution_count": 59,
   "id": "ce4b57df-2d88-43aa-a322-164287402083",
   "metadata": {},
   "outputs": [
    {
     "ename": "ValueError",
     "evalue": "dictionary update sequence element #0 has length 5; 2 is required",
     "output_type": "error",
     "traceback": [
      "\u001b[1;31m---------------------------------------------------------------------------\u001b[0m",
      "\u001b[1;31mValueError\u001b[0m                                Traceback (most recent call last)",
      "Cell \u001b[1;32mIn[59], line 1\u001b[0m\n\u001b[1;32m----> 1\u001b[0m \u001b[38;5;28;43mdict\u001b[39;49m\u001b[43m(\u001b[49m\u001b[38;5;28;43mreversed\u001b[39;49m\u001b[43m(\u001b[49m\u001b[43mdict2\u001b[49m\u001b[43m)\u001b[49m\u001b[43m)\u001b[49m\n",
      "\u001b[1;31mValueError\u001b[0m: dictionary update sequence element #0 has length 5; 2 is required"
     ]
    }
   ],
   "source": [
    "dict(reversed(dict2))"
   ]
  },
  {
   "cell_type": "code",
   "execution_count": 66,
   "id": "0008d54e-44fe-48eb-9d6f-a356ae43976d",
   "metadata": {},
   "outputs": [
    {
     "data": {
      "text/plain": [
       "['apple', 'Apple']"
      ]
     },
     "execution_count": 66,
     "metadata": {},
     "output_type": "execute_result"
    }
   ],
   "source": [
    "list(reversed(dict2))"
   ]
  },
  {
   "cell_type": "code",
   "execution_count": 60,
   "id": "34369c1a-e3b7-4544-9cf1-4795a42bfd66",
   "metadata": {},
   "outputs": [
    {
     "data": {
      "text/plain": [
       "20"
      ]
     },
     "execution_count": 60,
     "metadata": {},
     "output_type": "execute_result"
    }
   ],
   "source": [
    "dict3 = {20:'Apple',30:'Banana',50:'Cherry'}\n",
    "min(dict3)"
   ]
  },
  {
   "cell_type": "code",
   "execution_count": 61,
   "id": "ea5c325d-c93b-4db5-9fe4-1077e1949a01",
   "metadata": {},
   "outputs": [
    {
     "data": {
      "text/plain": [
       "50"
      ]
     },
     "execution_count": 61,
     "metadata": {},
     "output_type": "execute_result"
    }
   ],
   "source": [
    "max(dict3)"
   ]
  },
  {
   "cell_type": "code",
   "execution_count": 62,
   "id": "480d8f94-4870-4c9c-b54b-56ec928d880f",
   "metadata": {},
   "outputs": [
    {
     "data": {
      "text/plain": [
       "[20, 30, 50]"
      ]
     },
     "execution_count": 62,
     "metadata": {},
     "output_type": "execute_result"
    }
   ],
   "source": [
    "sorted(dict3)"
   ]
  },
  {
   "cell_type": "code",
   "execution_count": 64,
   "id": "2ec17bf8-960b-4bb3-9ecb-96f6864abc85",
   "metadata": {},
   "outputs": [
    {
     "ename": "TypeError",
     "evalue": "cannot convert dictionary update sequence element #0 to a sequence",
     "output_type": "error",
     "traceback": [
      "\u001b[1;31m---------------------------------------------------------------------------\u001b[0m",
      "\u001b[1;31mTypeError\u001b[0m                                 Traceback (most recent call last)",
      "Cell \u001b[1;32mIn[64], line 1\u001b[0m\n\u001b[1;32m----> 1\u001b[0m \u001b[38;5;28;43mdict\u001b[39;49m\u001b[43m(\u001b[49m\u001b[38;5;28;43mreversed\u001b[39;49m\u001b[43m(\u001b[49m\u001b[43mdict3\u001b[49m\u001b[43m)\u001b[49m\u001b[43m)\u001b[49m\n",
      "\u001b[1;31mTypeError\u001b[0m: cannot convert dictionary update sequence element #0 to a sequence"
     ]
    }
   ],
   "source": [
    "dict(reversed(dict3))"
   ]
  },
  {
   "cell_type": "code",
   "execution_count": 65,
   "id": "38a0bd5c-978e-44c5-aaa1-d29fda2edb93",
   "metadata": {},
   "outputs": [
    {
     "data": {
      "text/plain": [
       "[50, 30, 20]"
      ]
     },
     "execution_count": 65,
     "metadata": {},
     "output_type": "execute_result"
    }
   ],
   "source": [
    "list(reversed(dict3))"
   ]
  },
  {
   "cell_type": "code",
   "execution_count": 88,
   "id": "07b1f876-ed48-4fdf-b759-d0c40f2c708b",
   "metadata": {},
   "outputs": [
    {
     "data": {
      "text/plain": [
       "(True, False)"
      ]
     },
     "execution_count": 88,
     "metadata": {},
     "output_type": "execute_result"
    }
   ],
   "source": [
    "\n",
    "dict1 = {'Apple':20,'Banana':30, 'cherry':50}\n",
    "dict2 = {'Apple':20, 'apple':30}\n",
    "dict3 = {20:'Apple',30:'Banana',50:'Cherry'}\n",
    "\n",
    "'Apple' in dict1 ,  20 in dict1"
   ]
  },
  {
   "cell_type": "code",
   "execution_count": 79,
   "id": "120fa886-b073-4e7e-95a6-7ace2e654dc4",
   "metadata": {},
   "outputs": [
    {
     "ename": "SyntaxError",
     "evalue": "illegal target for annotation (1635405859.py, line 1)",
     "output_type": "error",
     "traceback": [
      "\u001b[1;36m  Cell \u001b[1;32mIn[79], line 1\u001b[1;36m\u001b[0m\n\u001b[1;33m    'Apple':20 in dict1\u001b[0m\n\u001b[1;37m    ^\u001b[0m\n\u001b[1;31mSyntaxError\u001b[0m\u001b[1;31m:\u001b[0m illegal target for annotation\n"
     ]
    }
   ],
   "source": [
    "'Apple':20 in dict1"
   ]
  },
  {
   "cell_type": "code",
   "execution_count": 82,
   "id": "cfd092ca-d9b4-4678-8a07-5cd12e100ad2",
   "metadata": {},
   "outputs": [
    {
     "name": "stdout",
     "output_type": "stream",
     "text": [
      "Apple\n",
      "Banana\n",
      "cherry\n"
     ]
    }
   ],
   "source": [
    "for i in dict1:\n",
    "    print(i)"
   ]
  },
  {
   "cell_type": "code",
   "execution_count": 86,
   "id": "a5ddf2d5-e0c3-4a5c-8d04-ba11c2d065f8",
   "metadata": {},
   "outputs": [
    {
     "ename": "KeyError",
     "evalue": "0",
     "output_type": "error",
     "traceback": [
      "\u001b[1;31m---------------------------------------------------------------------------\u001b[0m",
      "\u001b[1;31mKeyError\u001b[0m                                  Traceback (most recent call last)",
      "Cell \u001b[1;32mIn[86], line 2\u001b[0m\n\u001b[0;32m      1\u001b[0m \u001b[38;5;28;01mfor\u001b[39;00m i \u001b[38;5;129;01min\u001b[39;00m \u001b[38;5;28mrange\u001b[39m(\u001b[38;5;28mlen\u001b[39m(dict1)):\n\u001b[1;32m----> 2\u001b[0m     \u001b[38;5;28mprint\u001b[39m(\u001b[43mdict1\u001b[49m\u001b[43m[\u001b[49m\u001b[43mi\u001b[49m\u001b[43m]\u001b[49m)\n",
      "\u001b[1;31mKeyError\u001b[0m: 0"
     ]
    }
   ],
   "source": [
    "for i in range(len(dict1)):\n",
    "    print(dict1[i])"
   ]
  },
  {
   "cell_type": "markdown",
   "id": "c4ad3af2-8e88-43a2-860c-5dca96197e26",
   "metadata": {},
   "source": [
    "## index"
   ]
  },
  {
   "cell_type": "code",
   "execution_count": 90,
   "id": "fe0e4411-6618-43af-95d8-0099431b62dc",
   "metadata": {},
   "outputs": [
    {
     "ename": "KeyError",
     "evalue": "0",
     "output_type": "error",
     "traceback": [
      "\u001b[1;31m---------------------------------------------------------------------------\u001b[0m",
      "\u001b[1;31mKeyError\u001b[0m                                  Traceback (most recent call last)",
      "Cell \u001b[1;32mIn[90], line 2\u001b[0m\n\u001b[0;32m      1\u001b[0m dict1 \u001b[38;5;241m=\u001b[39m {\u001b[38;5;124m'\u001b[39m\u001b[38;5;124mApple\u001b[39m\u001b[38;5;124m'\u001b[39m:\u001b[38;5;241m20\u001b[39m,\u001b[38;5;124m'\u001b[39m\u001b[38;5;124mBanana\u001b[39m\u001b[38;5;124m'\u001b[39m:\u001b[38;5;241m30\u001b[39m, \u001b[38;5;124m'\u001b[39m\u001b[38;5;124mcherry\u001b[39m\u001b[38;5;124m'\u001b[39m:\u001b[38;5;241m50\u001b[39m}\n\u001b[1;32m----> 2\u001b[0m \u001b[43mdict1\u001b[49m\u001b[43m[\u001b[49m\u001b[38;5;241;43m0\u001b[39;49m\u001b[43m]\u001b[49m\n",
      "\u001b[1;31mKeyError\u001b[0m: 0"
     ]
    }
   ],
   "source": [
    "dict1 = {'Apple':20,'Banana':30, 'cherry':50}\n",
    "dict1[0]"
   ]
  },
  {
   "cell_type": "markdown",
   "id": "51c123ba-aa6f-48a8-bcb4-4b262fd7e600",
   "metadata": {},
   "source": [
    "## KeyError"
   ]
  },
  {
   "cell_type": "code",
   "execution_count": null,
   "id": "4074f3fe-db1d-4640-973a-cc3c5744b17f",
   "metadata": {},
   "outputs": [],
   "source": [
    "- How to extract the value in dictionary we have concept key:value pair \n",
    "- key are very very important \n",
    "- in order to get the value we need to take key help\n"
   ]
  },
  {
   "cell_type": "code",
   "execution_count": 95,
   "id": "fa5a81eb-fc19-4d22-ada4-3a1907710def",
   "metadata": {},
   "outputs": [
    {
     "data": {
      "text/plain": [
       "(20, 30, 50)"
      ]
     },
     "execution_count": 95,
     "metadata": {},
     "output_type": "execute_result"
    }
   ],
   "source": [
    "dict1 = {'Apple':20,'Banana':30, 'Cherry':50}\n",
    "\n",
    "dict1['Apple'],dict1['Banana'],dict1['Cherry']"
   ]
  },
  {
   "cell_type": "code",
   "execution_count": 101,
   "id": "70a58ad2-897b-4b9b-b81b-9c22d20199a7",
   "metadata": {},
   "outputs": [
    {
     "name": "stdout",
     "output_type": "stream",
     "text": [
      "Apple 20\n",
      "Banana 30\n",
      "Cherry 50\n"
     ]
    }
   ],
   "source": [
    "for i in dict1:\n",
    "    print(i,dict1[i])"
   ]
  },
  {
   "cell_type": "code",
   "execution_count": 104,
   "id": "b79ef55b-70db-4d3f-bd8c-cf6b394a6a73",
   "metadata": {},
   "outputs": [
    {
     "name": "stdout",
     "output_type": "stream",
     "text": [
      "Ramesh age is 20\n",
      "Suresh age is 25\n",
      "Satish age is 30\n"
     ]
    }
   ],
   "source": [
    "# names = ['Ramesh','Suresh','Satish']\n",
    "# age = [20,25,30]\n",
    "\n",
    "names = {'Ramesh':20,'Suresh':25,'Satish':30}\n",
    "for i in names:    \n",
    "    print(f'{i} age is {names[i]}')\n"
   ]
  },
  {
   "cell_type": "code",
   "execution_count": 105,
   "id": "cf207252-30d5-43d5-bd68-41cc1b933373",
   "metadata": {},
   "outputs": [
    {
     "name": "stdout",
     "output_type": "stream",
     "text": [
      "Ramesh age is 20\n",
      "Suresh age is 25\n",
      "Satish age is 30\n"
     ]
    }
   ],
   "source": [
    "for key in names:\n",
    "    value = names[key]\n",
    "    print(f'{key} age is {value}')\n",
    "    "
   ]
  },
  {
   "cell_type": "code",
   "execution_count": 107,
   "id": "072a3775-a202-47e9-815e-eab306ef00b6",
   "metadata": {},
   "outputs": [
    {
     "data": {
      "text/plain": [
       "'Cherry'"
      ]
     },
     "execution_count": 107,
     "metadata": {},
     "output_type": "execute_result"
    }
   ],
   "source": [
    "d = {'Fruits':['Apple','Banana','Cherry']}   # get Cherry\n",
    "\n",
    "d['Fruits'][2]"
   ]
  },
  {
   "cell_type": "code",
   "execution_count": 110,
   "id": "f8319b28-4c8a-47f5-a691-b8ff1d69ba89",
   "metadata": {},
   "outputs": [
    {
     "data": {
      "text/plain": [
       "'Greeen'"
      ]
     },
     "execution_count": 110,
     "metadata": {},
     "output_type": "execute_result"
    }
   ],
   "source": [
    "d = {'Fruits':{'Apple':['Sweet','Sour','Greeen']}}   #  Green \n",
    "\n",
    "d['Fruits']['Apple'][2]"
   ]
  },
  {
   "cell_type": "code",
   "execution_count": 115,
   "id": "9ea1f26e-59d9-41e2-8a79-4b8a0180330c",
   "metadata": {},
   "outputs": [
    {
     "data": {
      "text/plain": [
       "50"
      ]
     },
     "execution_count": 115,
     "metadata": {},
     "output_type": "execute_result"
    }
   ],
   "source": [
    "d = {'Fruits':[{'Cost':[50]}]}\n",
    "\n",
    "d['Fruits'][0]['Cost'][0]"
   ]
  },
  {
   "cell_type": "code",
   "execution_count": 118,
   "id": "50f3d01a-ebdf-494b-a23e-34687c20b4a5",
   "metadata": {},
   "outputs": [
    {
     "data": {
      "text/plain": [
       "40"
      ]
     },
     "execution_count": 118,
     "metadata": {},
     "output_type": "execute_result"
    }
   ],
   "source": [
    "d = {'Fruits':['Apple'],'Cost':[{'1kg':[20,30,40],'2kg':None}]}\n",
    "\n",
    "d['Cost'][0]['1kg'][2]"
   ]
  },
  {
   "cell_type": "code",
   "execution_count": 119,
   "id": "e65c05e9-2153-4138-86c5-8b7389f3cf24",
   "metadata": {},
   "outputs": [],
   "source": [
    "d = {'Fruits':['Apple'],'Cost':[{'1kg':[20,30,40],'2kg':None}]}\n",
    "\n",
    "d['Cost'][0]['2kg']"
   ]
  },
  {
   "cell_type": "code",
   "execution_count": 138,
   "id": "2e65506c-789c-403e-8386-66a696e332d9",
   "metadata": {},
   "outputs": [
    {
     "data": {
      "text/plain": [
       "{'Sambaji'}"
      ]
     },
     "execution_count": 138,
     "metadata": {},
     "output_type": "execute_result"
    }
   ],
   "source": [
    "d = {'Fruits':{'Orange':{'Nagpur':{'MH':{'King':{'Shivaji':{'Sambaji'}}}}}}}\n",
    "\n",
    "d['Fruits']['Orange']['Nagpur']['MH']['King']['Shivaji']"
   ]
  },
  {
   "cell_type": "markdown",
   "id": "ad79eff7-7f0e-445f-9874-9b0679712b7b",
   "metadata": {},
   "source": [
    "### How to create an empty dictionary \n",
    "- Now onwords focus on creation of empty list , string\n",
    "- we will take empty list will use append operation\n",
    "- we will take empty string will use concatenation\n",
    "- we will take empty dictionary will use **key : value** pair "
   ]
  },
  {
   "cell_type": "code",
   "execution_count": 141,
   "id": "976d1eb6-62b3-4d5e-bc5a-1f290e03ce8a",
   "metadata": {},
   "outputs": [
    {
     "data": {
      "text/plain": [
       "[10, 20]"
      ]
     },
     "execution_count": 141,
     "metadata": {},
     "output_type": "execute_result"
    }
   ],
   "source": [
    "# list\n",
    "l = []\n",
    "l.append(10)\n",
    "l.append(20)\n",
    "l"
   ]
  },
  {
   "cell_type": "code",
   "execution_count": 142,
   "id": "9dea4f12-3147-44bc-a8c5-ec0a90bc9b1d",
   "metadata": {},
   "outputs": [
    {
     "data": {
      "text/plain": [
       "'py'"
      ]
     },
     "execution_count": 142,
     "metadata": {},
     "output_type": "execute_result"
    }
   ],
   "source": [
    "# String\n",
    "\n",
    "s = ''\n",
    "s = s+'p'\n",
    "s = s+'y'\n",
    "s"
   ]
  },
  {
   "cell_type": "code",
   "execution_count": 145,
   "id": "e86a0197-e186-44ca-9390-d81998261d68",
   "metadata": {},
   "outputs": [
    {
     "data": {
      "text/plain": [
       "{'Ramesh': 20, 'Suresh': 30}"
      ]
     },
     "execution_count": 145,
     "metadata": {},
     "output_type": "execute_result"
    }
   ],
   "source": [
    "# Dictionary\n",
    "\n",
    "d = {}\n",
    "d['Ramesh'] = 20\n",
    "d['Suresh'] = 30\n",
    "d"
   ]
  },
  {
   "cell_type": "markdown",
   "id": "7ec525e5-68bf-4921-8b2d-53ea85d0446c",
   "metadata": {},
   "source": [
    "## How to convert list to dictionary"
   ]
  },
  {
   "cell_type": "code",
   "execution_count": 149,
   "id": "30c7de7b-7e07-4a8d-a912-6254ac1b2829",
   "metadata": {},
   "outputs": [
    {
     "data": {
      "text/plain": [
       "{'Ramesh': 20, 'Suresh': 30, 'Satish': 40}"
      ]
     },
     "execution_count": 149,
     "metadata": {},
     "output_type": "execute_result"
    }
   ],
   "source": [
    "names = ['Ramesh','Suresh','Satish']\n",
    "age = [20,30,40]\n",
    "d = {}\n",
    "for i,j in zip(names,age):\n",
    "    d[i] = j\n",
    "d"
   ]
  },
  {
   "cell_type": "markdown",
   "id": "38e0c65c-ae4e-4efc-ad4e-d50bf8131825",
   "metadata": {},
   "source": [
    "## Dictioanry comprehension\n",
    "- for list comprehension we should write everything inside list\n",
    "- for dictionary comprehension we should write everything inside dictionary\n"
   ]
  },
  {
   "cell_type": "code",
   "execution_count": 157,
   "id": "597c9a60-b6d9-42f5-9cea-8669a8065ed1",
   "metadata": {},
   "outputs": [
    {
     "data": {
      "text/plain": [
       "{'Ramesh': 20, 'Suresh': 30, 'Satish': 40}"
      ]
     },
     "execution_count": 157,
     "metadata": {},
     "output_type": "execute_result"
    }
   ],
   "source": [
    "names = ['Ramesh','Suresh','Satish']\n",
    "age = [20,30,40]\n",
    "\n",
    "{i:j  for i,j in zip(names,age)}"
   ]
  },
  {
   "cell_type": "markdown",
   "id": "2cce326e-5716-4b68-b172-f2bc645ab6c0",
   "metadata": {},
   "source": [
    "## mutable - immutable\n",
    "- lists are mutable\n",
    "- dictionary are mutable\n",
    "- string immutable\n",
    "- tuple immutable\n",
    "- in dictionary we can change the value using key "
   ]
  },
  {
   "cell_type": "code",
   "execution_count": 160,
   "id": "ca0a0ff7-cd7a-4c97-896b-b785e29ee791",
   "metadata": {},
   "outputs": [
    {
     "data": {
      "text/plain": [
       "{'Ramesh': 28, 'Suresh': 30, 'Satish': 40}"
      ]
     },
     "execution_count": 160,
     "metadata": {},
     "output_type": "execute_result"
    }
   ],
   "source": [
    "d = {'Ramesh': 20, 'Suresh': 30, 'Satish': 40}\n",
    "d['Ramesh'] = 28\n",
    "d"
   ]
  },
  {
   "cell_type": "markdown",
   "id": "ad2efc87-f1a9-4ef5-a1eb-2cffc5ab44d3",
   "metadata": {},
   "source": [
    "## methods\n",
    "- 'clear',\n",
    "- 'copy',\n",
    "- 'fromkeys',\n",
    "- 'get',\n",
    "- 'items',\n",
    "- 'keys',\n",
    "- 'pop',\n",
    "- 'popitem',\n",
    "- 'setdefault',\n",
    "- 'update',\n",
    "- 'values']\n"
   ]
  },
  {
   "cell_type": "markdown",
   "id": "9c988bbd-6ba7-4384-87f7-bc812d758ebd",
   "metadata": {},
   "source": [
    "### Assignment"
   ]
  },
  {
   "cell_type": "markdown",
   "id": "ee8ed56a-b816-4207-afa6-bb1469cb00fe",
   "metadata": {},
   "source": [
    "- clear\n",
    "- copy\n",
    "- keys\n",
    "- values\n",
    "- items"
   ]
  },
  {
   "cell_type": "code",
   "execution_count": 164,
   "id": "6972657a-0844-4707-9652-c224dee0e6a4",
   "metadata": {},
   "outputs": [
    {
     "data": {
      "text/plain": [
       "{'Ramesh': 20, 'Suresh': 25, 'Satish': 30, 'Mahesh': 28}"
      ]
     },
     "execution_count": 164,
     "metadata": {},
     "output_type": "execute_result"
    }
   ],
   "source": [
    "dict1 = {'Ramesh':20, 'Suresh':25, 'Satish':30, 'Mahesh':28}\n",
    "dict1"
   ]
  },
  {
   "cell_type": "code",
   "execution_count": 168,
   "id": "9424e775-9ce7-402f-8d20-59d2ee717956",
   "metadata": {},
   "outputs": [
    {
     "data": {
      "text/plain": [
       "{'Ramesh': 20, 'Suresh': 25, 'Satish': 30, 'Mahesh': 28}"
      ]
     },
     "execution_count": 168,
     "metadata": {},
     "output_type": "execute_result"
    }
   ],
   "source": [
    "# copy\n",
    "dict1.copy()\n",
    "dict1"
   ]
  },
  {
   "cell_type": "code",
   "execution_count": 170,
   "id": "91552997-9cd9-45f0-bb83-84c635c6bce4",
   "metadata": {},
   "outputs": [
    {
     "data": {
      "text/plain": [
       "{}"
      ]
     },
     "execution_count": 170,
     "metadata": {},
     "output_type": "execute_result"
    }
   ],
   "source": [
    "# Clear\n",
    "dict1.clear()\n",
    "dict1"
   ]
  },
  {
   "cell_type": "code",
   "execution_count": 1,
   "id": "d021f121-e70e-49d0-b441-f91193f9e6fd",
   "metadata": {},
   "outputs": [
    {
     "data": {
      "text/plain": [
       "dict_keys(['Ramesh', 'Suresh', 'Satish', 'Mahesh'])"
      ]
     },
     "execution_count": 1,
     "metadata": {},
     "output_type": "execute_result"
    }
   ],
   "source": [
    "# keys\n",
    "\n",
    "dict1 = {'Ramesh':20, 'Suresh':25,'Satish':30, 'Mahesh':28}\n",
    "dict1.keys()"
   ]
  },
  {
   "cell_type": "code",
   "execution_count": 4,
   "id": "a1c6489b-088b-48bc-b117-4c44920668f3",
   "metadata": {},
   "outputs": [
    {
     "data": {
      "text/plain": [
       "dict_keys"
      ]
     },
     "execution_count": 4,
     "metadata": {},
     "output_type": "execute_result"
    }
   ],
   "source": [
    "key = dict1.keys()\n",
    "type(key)"
   ]
  },
  {
   "cell_type": "code",
   "execution_count": 5,
   "id": "1371a627-04c4-48b5-855e-9e5b0b844ae6",
   "metadata": {},
   "outputs": [
    {
     "ename": "AttributeError",
     "evalue": "'dict_keys' object has no attribute 'count'",
     "output_type": "error",
     "traceback": [
      "\u001b[1;31m---------------------------------------------------------------------------\u001b[0m",
      "\u001b[1;31mAttributeError\u001b[0m                            Traceback (most recent call last)",
      "Cell \u001b[1;32mIn[5], line 1\u001b[0m\n\u001b[1;32m----> 1\u001b[0m \u001b[43mkey\u001b[49m\u001b[38;5;241;43m.\u001b[39;49m\u001b[43mcount\u001b[49m(\u001b[38;5;124m'\u001b[39m\u001b[38;5;124mRamesh\u001b[39m\u001b[38;5;124m'\u001b[39m)\n",
      "\u001b[1;31mAttributeError\u001b[0m: 'dict_keys' object has no attribute 'count'"
     ]
    }
   ],
   "source": [
    "# i got mistaken i am assuming this is list type\n",
    "key.count('Ramesh')"
   ]
  },
  {
   "cell_type": "code",
   "execution_count": null,
   "id": "52ff609c-6818-4049-952f-9b3efe69269d",
   "metadata": {},
   "outputs": [],
   "source": []
  },
  {
   "cell_type": "code",
   "execution_count": 172,
   "id": "34ea2b75-56c0-4f40-a8b9-f9af02876fb4",
   "metadata": {},
   "outputs": [
    {
     "data": {
      "text/plain": [
       "dict_values([20, 25, 30, 28])"
      ]
     },
     "execution_count": 172,
     "metadata": {},
     "output_type": "execute_result"
    }
   ],
   "source": [
    "#values\n",
    "dict1.values()"
   ]
  },
  {
   "cell_type": "code",
   "execution_count": 180,
   "id": "14f9471a-2a3d-4996-9145-bc53002f787d",
   "metadata": {},
   "outputs": [
    {
     "data": {
      "text/plain": [
       "dict_values([20, {25: 80}, 30, 28])"
      ]
     },
     "execution_count": 180,
     "metadata": {},
     "output_type": "execute_result"
    }
   ],
   "source": [
    "dict1 = {'Ramesh':20, 'Suresh':{25:80}, 'Satish':30, 'Mahesh':28}\n",
    "dict1.values()"
   ]
  },
  {
   "cell_type": "code",
   "execution_count": 182,
   "id": "0621a1da-f005-4471-976e-767065165e54",
   "metadata": {},
   "outputs": [
    {
     "data": {
      "text/plain": [
       "dict_items([('Ramesh', 20), ('Suresh', 25), ('Satish', 30), ('Mahesh', 28)])"
      ]
     },
     "execution_count": 182,
     "metadata": {},
     "output_type": "execute_result"
    }
   ],
   "source": [
    "# items\n",
    "\n",
    "dict1 = {'Ramesh':20, 'Suresh':25, 'Satish':30, 'Mahesh':28}\n",
    "dict1.items()"
   ]
  },
  {
   "cell_type": "markdown",
   "id": "f2f04c64-97d2-418f-b33f-f2cfcd2d2f1e",
   "metadata": {},
   "source": [
    "## Convert dictionary to list\n",
    "- in order to convert to list\n",
    "- first we need to seperate keys and value\n",
    "- then apply list **type casting**"
   ]
  },
  {
   "cell_type": "code",
   "execution_count": 7,
   "id": "8b2eb03f-c232-465d-9b74-2447b20a3da4",
   "metadata": {},
   "outputs": [
    {
     "data": {
      "text/plain": [
       "['Ramesh', 'Suresh', 'Satish', 'Mahesh']"
      ]
     },
     "execution_count": 7,
     "metadata": {},
     "output_type": "execute_result"
    }
   ],
   "source": [
    "dict1 = {'Ramesh':20, 'Suresh':25, 'Satish':30, 'Mahesh':28}\n",
    "keys = dict1.keys()\n",
    "keys_list = list(keys)\n",
    "keys_list"
   ]
  },
  {
   "cell_type": "code",
   "execution_count": 11,
   "id": "d46416f8-381e-496f-8d51-6ff0897514b6",
   "metadata": {},
   "outputs": [
    {
     "data": {
      "text/plain": [
       "1"
      ]
     },
     "execution_count": 11,
     "metadata": {},
     "output_type": "execute_result"
    }
   ],
   "source": [
    "keys_list.count('Ramesh')"
   ]
  },
  {
   "cell_type": "code",
   "execution_count": null,
   "id": "4271ee9d-29bf-4a91-8615-c03444a795b5",
   "metadata": {},
   "outputs": [],
   "source": []
  },
  {
   "cell_type": "code",
   "execution_count": null,
   "id": "33eed172-8b96-4e88-bb3b-7b29c1977809",
   "metadata": {},
   "outputs": [],
   "source": [
    "list ======== string     -> using join\n",
    "string ====== list      -> using split\n",
    "list ======== dict    -> using zip\n",
    "dict ======== list   -> using typecasting"
   ]
  },
  {
   "cell_type": "code",
   "execution_count": null,
   "id": "981ba29c-0480-484d-98bc-f2514b86ae76",
   "metadata": {},
   "outputs": [],
   "source": []
  },
  {
   "cell_type": "code",
   "execution_count": 8,
   "id": "817c0a77-78fb-488f-9afa-62d8b24cdb21",
   "metadata": {},
   "outputs": [
    {
     "data": {
      "text/plain": [
       "[20, 25, 30, 28]"
      ]
     },
     "execution_count": 8,
     "metadata": {},
     "output_type": "execute_result"
    }
   ],
   "source": [
    "dict1 = {'Ramesh':20, 'Suresh':25, 'Satish':30, 'Mahesh':28}\n",
    "values = dict1.values()\n",
    "values_list = list(values)\n",
    "values_list"
   ]
  },
  {
   "cell_type": "code",
   "execution_count": 9,
   "id": "d4f449ce-480e-4208-b7cb-4a2217247107",
   "metadata": {},
   "outputs": [
    {
     "data": {
      "text/plain": [
       "[('Ramesh', 20), ('Suresh', 25), ('Satish', 30), ('Mahesh', 28)]"
      ]
     },
     "execution_count": 9,
     "metadata": {},
     "output_type": "execute_result"
    }
   ],
   "source": [
    "dict1 = {'Ramesh':20, 'Suresh':25, 'Satish':30, 'Mahesh':28}\n",
    "items = dict1.items()\n",
    "items_list = list(items)\n",
    "items_list"
   ]
  },
  {
   "cell_type": "code",
   "execution_count": 16,
   "id": "f6f1d435-2bae-4c9f-bcc7-a9c40c5b6090",
   "metadata": {},
   "outputs": [
    {
     "name": "stdout",
     "output_type": "stream",
     "text": [
      "fname = ['virat', 'rohit', 'ms']\n",
      "sname = ['kohli', 'sharma', 'dhoni']\n",
      "cname = ['rcb', 'mi', 'csk']\n"
     ]
    }
   ],
   "source": [
    "# Q8) input='virat.kohli@rcb.com;rohit.sharma@mi.com;ms.dhoni@csk.com'\n",
    "#     fname=['virat','rohit','ms']\n",
    "#     sname=['kohli','sharma','dhoni']\n",
    "#     cname=['rcb','mi','csk']\n",
    "\n",
    "input_str = 'virat.kohli@rcb.com;rohit.sharma@mi.com;ms.dhoni@csk.com'\n",
    "\n",
    "emails = input_str.split(';')\n",
    "\n",
    "fname = []\n",
    "sname = []\n",
    "cname = []\n",
    "\n",
    "for email in emails:\n",
    "    name, domain = email.split('@')  \n",
    "    first, second = name.split('.')  \n",
    "    company = domain.split('.')[0]\n",
    "    \n",
    "    fname.append(first)\n",
    "    sname.append(second)\n",
    "    cname.append(company)\n",
    "\n",
    "print(\"fname =\", fname)\n",
    "print(\"sname =\", sname)\n",
    "print(\"cname =\", cname)\n"
   ]
  },
  {
   "cell_type": "code",
   "execution_count": 28,
   "id": "f392c418-d039-41b9-8f8d-840a17609d1b",
   "metadata": {},
   "outputs": [
    {
     "data": {
      "text/plain": [
       "{'first_name': ['virat', 'rohit', 'ms'],\n",
       " 'second_name': ['kohli', 'sharma', 'dhoni'],\n",
       " 'cname': ['rcb', 'mi', 'csk']}"
      ]
     },
     "execution_count": 28,
     "metadata": {},
     "output_type": "execute_result"
    }
   ],
   "source": [
    "input='virat.kohli@rcb.com;rohit.sharma@mi.com;ms.dhoni@csk.com'\n",
    "\n",
    "# {first_name : ['virat','rohit','ms']\n",
    "# second_name : ['kohli','sharma','dhoni']\n",
    "# cname : ['rcb','mi','csk']}\n",
    "\n",
    "emails = input.split(';')\n",
    "emails\n",
    "\n",
    "first_name = []\n",
    "second_name = []\n",
    "cname = []\n",
    "d = {}\n",
    "for email in emails:\n",
    "    name, domain = email.split('@')  \n",
    "    first, second = name.split('.')  \n",
    "    company = domain.split('.')[0]\n",
    "    \n",
    "    first_name.append(first)\n",
    "    second_name.append(second)\n",
    "    cname.append(company)\n",
    "\n",
    "d['first_name'] = first_name\n",
    "d['second_name'] = second_name\n",
    "d['cname'] = cname\n",
    "d"
   ]
  },
  {
   "cell_type": "code",
   "execution_count": 31,
   "id": "9d0b8215-a40d-4d24-82f2-31fb5ba9fee8",
   "metadata": {},
   "outputs": [
    {
     "data": {
      "text/plain": [
       "{'first_name': ['virat', 'rohit', 'ms'],\n",
       " 'second_name': ['kohli', 'sharma', 'dhoni'],\n",
       " 'cname': ['', '', '']}"
      ]
     },
     "execution_count": 31,
     "metadata": {},
     "output_type": "execute_result"
    }
   ],
   "source": [
    "input='virat.kohli@rcb.com;rohit.sharma@mi.com;ms.dhoni@csk.com'\n",
    "\n",
    "l1 = input.split(';')\n",
    "\n",
    "\n",
    "first_name = []\n",
    "second_name = []\n",
    "cname = []\n",
    "d = {}\n",
    "for i in l1:\n",
    "    first_dot= i.index('.')\n",
    "    second_dot = i.index('.')\n",
    "    at_the_rate = i.index('@')\n",
    "\n",
    "    first_name.append(i[:first_dot])\n",
    "    second_name.append(i[first_dot+1:at_the_rate])\n",
    "    cname.append(i[at_the_rate+1:second_dot])\n",
    "\n",
    "d['first_name'] = first_name\n",
    "d['second_name'] = second_name\n",
    "d['cname'] = cname\n",
    "d\n"
   ]
  },
  {
   "cell_type": "code",
   "execution_count": null,
   "id": "45ccc7fd-6e6a-441f-b4d3-e0414e9e30e3",
   "metadata": {},
   "outputs": [],
   "source": [
    "# today everone in the class\n",
    "# take word document\n",
    "# write classroom questions\n",
    "# and show me tomorrow\n"
   ]
  },
  {
   "cell_type": "code",
   "execution_count": 32,
   "id": "a2453c8d-d650-426a-9331-69253cd68b4d",
   "metadata": {},
   "outputs": [
    {
     "data": {
      "text/plain": [
       "['__class__',\n",
       " '__class_getitem__',\n",
       " '__contains__',\n",
       " '__delattr__',\n",
       " '__delitem__',\n",
       " '__dir__',\n",
       " '__doc__',\n",
       " '__eq__',\n",
       " '__format__',\n",
       " '__ge__',\n",
       " '__getattribute__',\n",
       " '__getitem__',\n",
       " '__getstate__',\n",
       " '__gt__',\n",
       " '__hash__',\n",
       " '__init__',\n",
       " '__init_subclass__',\n",
       " '__ior__',\n",
       " '__iter__',\n",
       " '__le__',\n",
       " '__len__',\n",
       " '__lt__',\n",
       " '__ne__',\n",
       " '__new__',\n",
       " '__or__',\n",
       " '__reduce__',\n",
       " '__reduce_ex__',\n",
       " '__repr__',\n",
       " '__reversed__',\n",
       " '__ror__',\n",
       " '__setattr__',\n",
       " '__setitem__',\n",
       " '__sizeof__',\n",
       " '__str__',\n",
       " '__subclasshook__',\n",
       " 'clear',\n",
       " 'copy',\n",
       " 'fromkeys',\n",
       " 'get',\n",
       " 'items',\n",
       " 'keys',\n",
       " 'pop',\n",
       " 'popitem',\n",
       " 'setdefault',\n",
       " 'update',\n",
       " 'values']"
      ]
     },
     "execution_count": 32,
     "metadata": {},
     "output_type": "execute_result"
    }
   ],
   "source": [
    "dir(dict)"
   ]
  },
  {
   "cell_type": "code",
   "execution_count": null,
   "id": "7c4122ca-8098-4bf8-b07c-12d262b6e00d",
   "metadata": {},
   "outputs": [],
   "source": [
    "'pop',\n",
    " 'popitem'"
   ]
  },
  {
   "cell_type": "markdown",
   "id": "640864dd-074a-433b-b374-1a831dd76efb",
   "metadata": {},
   "source": [
    "## pop\n",
    "- D.pop(k[,d]) -> v, remove specified key and return the corresponding value.\n",
    "- If the key is not found, return the default if given; otherwise, raise a KeyError."
   ]
  },
  {
   "cell_type": "code",
   "execution_count": 38,
   "id": "33558897-f21b-46df-8566-83b089616047",
   "metadata": {},
   "outputs": [
    {
     "data": {
      "text/plain": [
       "20"
      ]
     },
     "execution_count": 38,
     "metadata": {},
     "output_type": "execute_result"
    }
   ],
   "source": [
    "dict1 = {'Ramesh':20, 'Suresh':25, 'Satish':30, 'Mahesh':28}\n",
    "dict1.pop('Ramesh')"
   ]
  },
  {
   "cell_type": "code",
   "execution_count": 39,
   "id": "e6abd35c-706b-4e4a-beb7-b2768f387ac2",
   "metadata": {},
   "outputs": [
    {
     "data": {
      "text/plain": [
       "{'Suresh': 25, 'Satish': 30, 'Mahesh': 28}"
      ]
     },
     "execution_count": 39,
     "metadata": {},
     "output_type": "execute_result"
    }
   ],
   "source": [
    "dict1"
   ]
  },
  {
   "cell_type": "markdown",
   "id": "7c8971a3-4d1e-4945-addc-ce6b6ae8a3e0",
   "metadata": {},
   "source": [
    "## popitem"
   ]
  },
  {
   "cell_type": "code",
   "execution_count": 40,
   "id": "e442fecd-74ca-4ab7-9fb2-74f2545f4f4e",
   "metadata": {},
   "outputs": [
    {
     "data": {
      "text/plain": [
       "('Mahesh', 28)"
      ]
     },
     "execution_count": 40,
     "metadata": {},
     "output_type": "execute_result"
    }
   ],
   "source": [
    "dict1 = {'Ramesh':20, 'Suresh':25, 'Satish':30, 'Mahesh':28}\n",
    "dict1.popitem()"
   ]
  },
  {
   "cell_type": "code",
   "execution_count": 41,
   "id": "7d076ccf-ba31-4bb6-9677-f89bc525217f",
   "metadata": {},
   "outputs": [
    {
     "data": {
      "text/plain": [
       "{'Ramesh': 20, 'Suresh': 25, 'Satish': 30}"
      ]
     },
     "execution_count": 41,
     "metadata": {},
     "output_type": "execute_result"
    }
   ],
   "source": [
    "dict1"
   ]
  },
  {
   "cell_type": "code",
   "execution_count": 47,
   "id": "b45f7415-c770-49c5-897f-55f0a4e94794",
   "metadata": {},
   "outputs": [
    {
     "data": {
      "text/plain": [
       "['Satish', 'rahul']"
      ]
     },
     "execution_count": 47,
     "metadata": {},
     "output_type": "execute_result"
    }
   ],
   "source": [
    "l1 = ['Ramesh','Satish','rahul']\n",
    "l1.remove('Ramesh')\n",
    "l1"
   ]
  },
  {
   "cell_type": "code",
   "execution_count": 49,
   "id": "21954cf9-2e6b-47ee-8238-e04fdf300ebd",
   "metadata": {},
   "outputs": [
    {
     "data": {
      "text/plain": [
       "['Ramesh', 'Satish']"
      ]
     },
     "execution_count": 49,
     "metadata": {},
     "output_type": "execute_result"
    }
   ],
   "source": [
    "l1 = ['Ramesh','Satish','rahul']\n",
    "l1.pop()\n",
    "l1"
   ]
  },
  {
   "cell_type": "markdown",
   "id": "a3e8d1a3-7457-42a8-ba3b-e6ef7880cf87",
   "metadata": {},
   "source": [
    "- ### **pop** in dictionary , similar is **remove** list\n",
    "- ### **popitem** in dictionary , similar is **pop** list"
   ]
  },
  {
   "cell_type": "markdown",
   "id": "1dd25c90-980e-4e41-9312-b81f54343eac",
   "metadata": {},
   "source": [
    "# **get**"
   ]
  },
  {
   "cell_type": "code",
   "execution_count": 51,
   "id": "97753842-aad5-4de6-a138-c36cf68303c0",
   "metadata": {},
   "outputs": [
    {
     "data": {
      "text/plain": [
       "20"
      ]
     },
     "execution_count": 51,
     "metadata": {},
     "output_type": "execute_result"
    }
   ],
   "source": [
    "dict1 = {'Ramesh':20, 'Suresh':25, 'Satish':30, 'Mahesh':28}\n",
    "dict1.get('Ramesh')"
   ]
  },
  {
   "cell_type": "code",
   "execution_count": 52,
   "id": "09580c30-1a4d-453e-b7db-58b253821fa6",
   "metadata": {},
   "outputs": [
    {
     "data": {
      "text/plain": [
       "{'Ramesh': 20, 'Suresh': 25, 'Satish': 30, 'Mahesh': 28}"
      ]
     },
     "execution_count": 52,
     "metadata": {},
     "output_type": "execute_result"
    }
   ],
   "source": [
    "dict1"
   ]
  },
  {
   "cell_type": "code",
   "execution_count": 54,
   "id": "6ae32a93-a8e7-4e98-8edc-9c88c8d95ef8",
   "metadata": {},
   "outputs": [
    {
     "data": {
      "text/plain": [
       "20"
      ]
     },
     "execution_count": 54,
     "metadata": {},
     "output_type": "execute_result"
    }
   ],
   "source": [
    "dict1['Ramesh']    # Keys as a index of dictionary"
   ]
  },
  {
   "cell_type": "markdown",
   "id": "ce65f3ba-c217-48c6-91e7-a7bbac2b29d5",
   "metadata": {},
   "source": [
    "# update\n",
    "- update is similar analogy **list extend**\n",
    "- take two dictionary and update method\n",
    "- **update** in dictioanry is similar analogy list **extend**"
   ]
  },
  {
   "cell_type": "code",
   "execution_count": 56,
   "id": "78356a15-3723-4b07-a5a3-c72571a485fe",
   "metadata": {},
   "outputs": [
    {
     "data": {
      "text/plain": [
       "{'Ramesh': 20,\n",
       " 'Suresh': 25,\n",
       " 'Satish': 30,\n",
       " 'Mahesh': 28,\n",
       " 'Fname': 'Bhupendra',\n",
       " 'Sname': 'Abhi',\n",
       " 'Cname': 'DS'}"
      ]
     },
     "execution_count": 56,
     "metadata": {},
     "output_type": "execute_result"
    }
   ],
   "source": [
    "d1 = {'Ramesh':20, 'Suresh':25, 'Satish':30, 'Mahesh':28}\n",
    "d2 = {'Fname':'Bhupendra','Sname':'Abhi','Cname':'DS'}\n",
    "\n",
    "d1.update(d2)\n",
    "d1"
   ]
  },
  {
   "cell_type": "code",
   "execution_count": 58,
   "id": "5f759dfe-0fa9-4d5e-a917-a67bedf18b4d",
   "metadata": {},
   "outputs": [
    {
     "data": {
      "text/plain": [
       "{'Fname': 'Bhupendra',\n",
       " 'Sname': 'Abhi',\n",
       " 'Cname': 'DS',\n",
       " 'Ramesh': 20,\n",
       " 'Suresh': 25,\n",
       " 'Satish': 30,\n",
       " 'Mahesh': 28}"
      ]
     },
     "execution_count": 58,
     "metadata": {},
     "output_type": "execute_result"
    }
   ],
   "source": [
    "d1 = {'Ramesh':20, 'Suresh':25, 'Satish':30, 'Mahesh':28}\n",
    "d2 = {'Fname':'Bhupendra','Sname':'Abhi','Cname':'DS'}\n",
    "\n",
    "d2.update(d1)\n",
    "d2"
   ]
  },
  {
   "cell_type": "code",
   "execution_count": 59,
   "id": "01e15e79-d39e-4d62-98a1-a643b6c54ee9",
   "metadata": {},
   "outputs": [],
   "source": [
    "l1 = ['Ramesh','Satish','rahul']\n",
    "l2 = ['Bhupendra','Singh',25]\n",
    "l1.extend(l2)"
   ]
  },
  {
   "cell_type": "code",
   "execution_count": 60,
   "id": "cb4ab46b-5c41-453c-8f02-961b96552134",
   "metadata": {},
   "outputs": [
    {
     "data": {
      "text/plain": [
       "['Ramesh', 'Satish', 'rahul', 'Bhupendra', 'Singh', 25]"
      ]
     },
     "execution_count": 60,
     "metadata": {},
     "output_type": "execute_result"
    }
   ],
   "source": [
    "l1"
   ]
  },
  {
   "cell_type": "code",
   "execution_count": 61,
   "id": "97552422-d259-4463-87f3-69d97747ed2a",
   "metadata": {},
   "outputs": [
    {
     "data": {
      "text/plain": [
       "['Bhupendra', 'Singh', 25]"
      ]
     },
     "execution_count": 61,
     "metadata": {},
     "output_type": "execute_result"
    }
   ],
   "source": [
    "l2"
   ]
  },
  {
   "cell_type": "code",
   "execution_count": 64,
   "id": "b7005bfb-bdd9-4f6c-910e-024d20e7f214",
   "metadata": {},
   "outputs": [
    {
     "data": {
      "text/plain": [
       "['Bhupendra', 'Singh', 25, 'Ramesh', 'Satish', 'rahul']"
      ]
     },
     "execution_count": 64,
     "metadata": {},
     "output_type": "execute_result"
    }
   ],
   "source": [
    "l1 = ['Ramesh','Satish','rahul']\n",
    "l2 = ['Bhupendra','Singh',25]\n",
    "l2.extend(l1)\n",
    "l2"
   ]
  },
  {
   "cell_type": "markdown",
   "id": "c9913974-71bc-4d83-8079-a90fbc9eee70",
   "metadata": {},
   "source": [
    "## setdefault\n",
    "- suppose an already existed dictionary avilable\n",
    "- we can update the dictionary  with new **key : value** pair\n",
    "- **setdefault** in dictioanry is similar analogy **list append**\n",
    "- it never involves index operations\n",
    "- we have get method to extract value using key"
   ]
  },
  {
   "cell_type": "code",
   "execution_count": 68,
   "id": "95b47470-9821-4f62-9791-8781f53d665a",
   "metadata": {},
   "outputs": [
    {
     "data": {
      "text/plain": [
       "{'Ramesh': 20, 'Suresh': 25, 'Satish': 30, 'Mahesh': 28, 'Maneesh': None}"
      ]
     },
     "execution_count": 68,
     "metadata": {},
     "output_type": "execute_result"
    }
   ],
   "source": [
    "d1 = {'Ramesh':20, 'Suresh':25, 'Satish':30, 'Mahesh':28}\n",
    "d1.setdefault('Maneesh')\n",
    "d1"
   ]
  },
  {
   "cell_type": "code",
   "execution_count": 72,
   "id": "aaaeb121-d58d-4952-aab7-56a1c9307007",
   "metadata": {},
   "outputs": [
    {
     "data": {
      "text/plain": [
       "{'Ramesh': 20, 'Suresh': 25, 'Satish': 30, 'Mahesh': 28, 'Maneesh': 32}"
      ]
     },
     "execution_count": 72,
     "metadata": {},
     "output_type": "execute_result"
    }
   ],
   "source": [
    "d1 = {'Ramesh':20, 'Suresh':25, 'Satish':30, 'Mahesh':28}\n",
    "d1.setdefault('Maneesh',32)\n",
    "d1"
   ]
  },
  {
   "cell_type": "markdown",
   "id": "1fefd080-9ad1-4081-8051-e4ba2405dee1",
   "metadata": {},
   "source": [
    "## fromkeys\n",
    "- create a dictioanry with different keys but same value\n",
    "- fromkey will take an arguments **iterable**\n",
    "- try to provide an iterator  i.e. string list,tuple"
   ]
  },
  {
   "cell_type": "code",
   "execution_count": 76,
   "id": "4e3e08ba-26b2-485c-b478-0cf845a834c6",
   "metadata": {},
   "outputs": [
    {
     "data": {
      "text/plain": [
       "{'Ramesh': 'NareshIt',\n",
       " 'Suresh': 'NareshIt',\n",
       " 'Satish': 'NareshIt',\n",
       " 'Mahesh': 'NareshIt'}"
      ]
     },
     "execution_count": 76,
     "metadata": {},
     "output_type": "execute_result"
    }
   ],
   "source": [
    "d1 = {'Ramesh':20, 'Suresh':25, 'Satish':30, 'Mahesh':28}\n",
    "d1.fromkeys(d1,'NareshIt')"
   ]
  },
  {
   "cell_type": "code",
   "execution_count": 77,
   "id": "3349a7f9-b916-4c58-a4af-432811754883",
   "metadata": {},
   "outputs": [
    {
     "data": {
      "text/plain": [
       "{'p': None, 'y': None, 't': None, 'h': None, 'o': None, 'n': None}"
      ]
     },
     "execution_count": 77,
     "metadata": {},
     "output_type": "execute_result"
    }
   ],
   "source": [
    "d = {}\n",
    "d.fromkeys('python')"
   ]
  },
  {
   "cell_type": "code",
   "execution_count": 81,
   "id": "de1e86d7-d09a-414b-b573-e52fd0389e7c",
   "metadata": {},
   "outputs": [
    {
     "data": {
      "text/plain": [
       "{'M': (30, 90), 'o': (30, 90), 'h': (30, 90), 'a': (30, 90), 'n': (30, 90)}"
      ]
     },
     "execution_count": 81,
     "metadata": {},
     "output_type": "execute_result"
    }
   ],
   "source": [
    "d = {}\n",
    "d.fromkeys('Mohan',(30,90))"
   ]
  },
  {
   "cell_type": "code",
   "execution_count": 82,
   "id": "2d5c628d-cabd-4bc8-a042-92883ea1895f",
   "metadata": {},
   "outputs": [
    {
     "data": {
      "text/plain": [
       "{'Ramesh': [10, 20, 30],\n",
       " 'Suresh': [10, 20, 30],\n",
       " 'Satish': [10, 20, 30],\n",
       " 'Mahesh': [10, 20, 30]}"
      ]
     },
     "execution_count": 82,
     "metadata": {},
     "output_type": "execute_result"
    }
   ],
   "source": [
    "d1 = {'Ramesh':20, 'Suresh':25, 'Satish':30, 'Mahesh':28}\n",
    "d1.fromkeys(d1,[10,20,30,])"
   ]
  },
  {
   "cell_type": "markdown",
   "id": "e0ecd6ef-0e90-4da6-87ea-96e2bae2d744",
   "metadata": {},
   "source": [
    "- **pop** in dictionary , similar is **remove** list\n",
    "- **popitem** in dictionary , similar is **pop** list\n",
    "- **get** in dictionary ,similar analogy **list index**\n",
    "- **update** in dictionary ,similar analogy **list extend**\n",
    "- **setdefault** in dictionary ,similar analogy **list append**\n",
    "    -  but dictioanry does not have **count**\n",
    "    -  bcz dictioanry does not allow **duplicate**\n"
   ]
  },
  {
   "cell_type": "code",
   "execution_count": null,
   "id": "7a5b4fe0-f8af-40a2-b9a1-72fc5df96609",
   "metadata": {},
   "outputs": [],
   "source": [
    "# take the word documents\n",
    "# basic python\n",
    "# till today dictioanry"
   ]
  },
  {
   "cell_type": "code",
   "execution_count": null,
   "id": "c841d1ae-2b34-4132-8675-baf2e14eda46",
   "metadata": {},
   "outputs": [],
   "source": []
  },
  {
   "cell_type": "code",
   "execution_count": null,
   "id": "243a6664-1981-4db1-9e41-ecf7d86acb70",
   "metadata": {},
   "outputs": [],
   "source": []
  }
 ],
 "metadata": {
  "kernelspec": {
   "display_name": "Python 3 (ipykernel)",
   "language": "python",
   "name": "python3"
  },
  "language_info": {
   "codemirror_mode": {
    "name": "ipython",
    "version": 3
   },
   "file_extension": ".py",
   "mimetype": "text/x-python",
   "name": "python",
   "nbconvert_exporter": "python",
   "pygments_lexer": "ipython3",
   "version": "3.11.4"
  }
 },
 "nbformat": 4,
 "nbformat_minor": 5
}
