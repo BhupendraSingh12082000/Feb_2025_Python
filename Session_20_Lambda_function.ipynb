{
 "cells": [
  {
   "cell_type": "markdown",
   "id": "36985ee2-6797-474c-9f2e-b54f2b980b9a",
   "metadata": {},
   "source": [
    "# Lambda Function\n",
    "- lambda function represents functions in a single line\n",
    "- it is similar anlaogy to list comprehrension\n",
    "- to reduce the time complexity will go for "
   ]
  },
  {
   "cell_type": "markdown",
   "id": "b58691ae-de67-470d-8158-a118afa1912d",
   "metadata": {},
   "source": [
    "### **Pattern-1**: Function with one arguments "
   ]
  },
  {
   "cell_type": "code",
   "execution_count": 1,
   "id": "fd928fe6-0b61-4b52-9831-c5fd7a4b0b67",
   "metadata": {},
   "outputs": [
    {
     "data": {
      "text/plain": [
       "100"
      ]
     },
     "execution_count": 1,
     "metadata": {},
     "output_type": "execute_result"
    }
   ],
   "source": [
    "def mul(a):\n",
    "    return (a*a)\n",
    "ans = mul(10)\n",
    "ans"
   ]
  },
  {
   "cell_type": "code",
   "execution_count": 2,
   "id": "3810ac8f-633b-4da2-9f66-0e9bc69957d2",
   "metadata": {},
   "outputs": [],
   "source": [
    "# Syntax\n",
    " #  function name = lambda <arguments name> : <return output>"
   ]
  },
  {
   "cell_type": "code",
   "execution_count": 8,
   "id": "cc573a88-1988-4d88-8aed-9df087d8a492",
   "metadata": {},
   "outputs": [
    {
     "data": {
      "text/plain": [
       "100"
      ]
     },
     "execution_count": 8,
     "metadata": {},
     "output_type": "execute_result"
    }
   ],
   "source": [
    "mul = lambda a: a*a\n",
    "mul(10)"
   ]
  },
  {
   "cell_type": "code",
   "execution_count": 10,
   "id": "0c956771-d336-42ef-bdf9-bdf961e974a1",
   "metadata": {},
   "outputs": [
    {
     "data": {
      "text/plain": [
       "1000"
      ]
     },
     "execution_count": 10,
     "metadata": {},
     "output_type": "execute_result"
    }
   ],
   "source": [
    "def cube(a):\n",
    "    return (a*a*a)\n",
    "ans = cube(10)\n",
    "ans"
   ]
  },
  {
   "cell_type": "code",
   "execution_count": 11,
   "id": "82ae036c-5af7-488b-b8b3-2ba5a3c191a6",
   "metadata": {},
   "outputs": [
    {
     "data": {
      "text/plain": [
       "1000"
      ]
     },
     "execution_count": 11,
     "metadata": {},
     "output_type": "execute_result"
    }
   ],
   "source": [
    "cube = lambda a: a*a*a\n",
    "cube(10)"
   ]
  },
  {
   "cell_type": "markdown",
   "id": "ea47876e-66d4-4c95-a09c-305d2e76af19",
   "metadata": {},
   "source": [
    "## **Pattern - 2** : function with two arguments"
   ]
  },
  {
   "cell_type": "code",
   "execution_count": 13,
   "id": "eb43f2e5-d1dc-4fce-91e6-73332d9d7362",
   "metadata": {},
   "outputs": [
    {
     "data": {
      "text/plain": [
       "30"
      ]
     },
     "execution_count": 13,
     "metadata": {},
     "output_type": "execute_result"
    }
   ],
   "source": [
    "def add(a,b):\n",
    "    return (a+b)\n",
    "\n",
    "add(10,20)"
   ]
  },
  {
   "cell_type": "code",
   "execution_count": 14,
   "id": "9c1260e0-4ff0-4f21-ac99-d3d1b616cfcb",
   "metadata": {},
   "outputs": [],
   "source": [
    "# Syntax\n",
    " #  function name = lambda <arg_name1, arg_name2> : <return output>"
   ]
  },
  {
   "cell_type": "code",
   "execution_count": 16,
   "id": "c5d477fc-af0a-47ec-a0fa-208c84a24d63",
   "metadata": {},
   "outputs": [
    {
     "data": {
      "text/plain": [
       "30"
      ]
     },
     "execution_count": 16,
     "metadata": {},
     "output_type": "execute_result"
    }
   ],
   "source": [
    "add = lambda a,b: a+b\n",
    "add(10,20)"
   ]
  },
  {
   "cell_type": "markdown",
   "id": "8abd3939-2168-47aa-9330-850f661cb8a7",
   "metadata": {},
   "source": [
    "## **Pattern-3** : three Arguments"
   ]
  },
  {
   "cell_type": "code",
   "execution_count": 20,
   "id": "1268e070-9254-4ded-b5ef-37e8f049e3c8",
   "metadata": {},
   "outputs": [
    {
     "data": {
      "text/plain": [
       "(20.0, 2)"
      ]
     },
     "execution_count": 20,
     "metadata": {},
     "output_type": "execute_result"
    }
   ],
   "source": [
    "def avg(a,b,c):\n",
    "    return(round(a+b+c)/3,2)\n",
    "\n",
    "avg(10,20,30)"
   ]
  },
  {
   "cell_type": "code",
   "execution_count": 22,
   "id": "f9c843eb-908a-4d3c-beb7-fa5238d5dfc6",
   "metadata": {},
   "outputs": [
    {
     "data": {
      "text/plain": [
       "(20.0, 2)"
      ]
     },
     "execution_count": 22,
     "metadata": {},
     "output_type": "execute_result"
    }
   ],
   "source": [
    "average = lambda a,b,c : (round(a+b+c)/3,2)\n",
    "average(10,20,30)"
   ]
  },
  {
   "cell_type": "markdown",
   "id": "a8df748b-f17b-4dca-a9e6-9100fe48b044",
   "metadata": {},
   "source": [
    "## **Pattern-4** : Default Arguments"
   ]
  },
  {
   "cell_type": "code",
   "execution_count": 23,
   "id": "9f417e52-bbfd-4014-8e0f-2109cebd75d9",
   "metadata": {},
   "outputs": [
    {
     "data": {
      "text/plain": [
       "(20.0, 2)"
      ]
     },
     "execution_count": 23,
     "metadata": {},
     "output_type": "execute_result"
    }
   ],
   "source": [
    "def avg(a,b,c):\n",
    "    return(round(a+b+c)/3,2)\n",
    "\n",
    "avg(10,20,c = 30)"
   ]
  },
  {
   "cell_type": "code",
   "execution_count": 24,
   "id": "67510485-f0f7-488f-b733-837806f994f0",
   "metadata": {},
   "outputs": [
    {
     "data": {
      "text/plain": [
       "(20.0, 2)"
      ]
     },
     "execution_count": 24,
     "metadata": {},
     "output_type": "execute_result"
    }
   ],
   "source": [
    "average = lambda a,b,c : (round(a+b+c)/3,2)\n",
    "average(10,20,c = 30)"
   ]
  },
  {
   "cell_type": "code",
   "execution_count": 27,
   "id": "4e3a0471-6bfa-48c0-8632-3c8bc3083e6f",
   "metadata": {},
   "outputs": [
    {
     "data": {
      "text/plain": [
       "(20.0, 2)"
      ]
     },
     "execution_count": 27,
     "metadata": {},
     "output_type": "execute_result"
    }
   ],
   "source": [
    "average = lambda a,b,c = 30 : (round(a+b+c)/3,2)\n",
    "average(10,20)"
   ]
  },
  {
   "cell_type": "code",
   "execution_count": 37,
   "id": "ec103be4-9fba-430b-a36f-a00a552bee0b",
   "metadata": {},
   "outputs": [
    {
     "name": "stdout",
     "output_type": "stream",
     "text": [
      "Pattern-1: 100\n",
      "Pattern-2: 30\n",
      "Pattern-3: (20.0, 2)\n",
      "Pattern-3: (30.0, 2)\n"
     ]
    }
   ],
   "source": [
    "mul = lambda a: a*a\n",
    "print(\"Pattern-1:\",mul(10))\n",
    "\n",
    "add = lambda a,b: a+b\n",
    "add(10,20)\n",
    "print(\"Pattern-2:\",add(10,20))\n",
    "\n",
    "average = lambda a,b,c : (round(a+b+c)/3,2)\n",
    "average(10,20,30)\n",
    "print(\"Pattern-3:\",average(10,20,30))\n",
    "\n",
    "average = lambda a,b,c = 30 : (round(a+b+c)/3,2)\n",
    "print(\"Pattern-3:\",average(20,40))\n"
   ]
  },
  {
   "cell_type": "markdown",
   "id": "0adfe98f-6d38-4ebd-a71f-a607ac56ea91",
   "metadata": {},
   "source": [
    "## **Pattern-5**"
   ]
  },
  {
   "cell_type": "code",
   "execution_count": 45,
   "id": "d3d40db8-2aa0-4986-b199-342bb0ce7175",
   "metadata": {},
   "outputs": [
    {
     "name": "stdout",
     "output_type": "stream",
     "text": [
      "['Hyd', 'Benguru', 'Mumbai', 'Pune']\n"
     ]
    },
    {
     "data": {
      "text/plain": [
       "['Hyd', 'Benguru', 'Mumbai', 'Pune']"
      ]
     },
     "execution_count": 45,
     "metadata": {},
     "output_type": "execute_result"
    }
   ],
   "source": [
    "input = ['hyd','benguru','mumbai','pune']\n",
    "output = []\n",
    "for i in input:\n",
    "    output.append(i.capitalize())\n",
    "\n",
    "print(output)\n",
    "\n",
    "# ================= list comprehension =======\n",
    "\n",
    "output = [i.capitalize() for i in input]\n",
    "output"
   ]
  },
  {
   "cell_type": "markdown",
   "id": "0d73ecf2-fc2a-4514-ab48-274066d59207",
   "metadata": {},
   "source": [
    "- ### Step-1:"
   ]
  },
  {
   "cell_type": "code",
   "execution_count": 58,
   "id": "e5c1ea58-f7a6-40c0-93c7-0cba0a87ba66",
   "metadata": {},
   "outputs": [
    {
     "data": {
      "text/plain": [
       "<function __main__.<lambda>(i)>"
      ]
     },
     "execution_count": 58,
     "metadata": {},
     "output_type": "execute_result"
    }
   ],
   "source": [
    "#   lambda <variable> : <output>\n",
    "\n",
    "input = ['hyd','benguru','mumbai','pune']\n",
    "\n",
    "lambda i : i.capitalize()"
   ]
  },
  {
   "cell_type": "markdown",
   "id": "ecb3a7c4-a41f-4670-b2f8-5288722a16c0",
   "metadata": {},
   "source": [
    "- ### Step-2:"
   ]
  },
  {
   "cell_type": "code",
   "execution_count": 59,
   "id": "450724f9-beac-402b-a897-984248210fc5",
   "metadata": {},
   "outputs": [
    {
     "data": {
      "text/plain": [
       "(<function __main__.<lambda>(i)>, ['hyd', 'benguru', 'mumbai', 'pune'])"
      ]
     },
     "execution_count": 59,
     "metadata": {},
     "output_type": "execute_result"
    }
   ],
   "source": [
    "#   lambda <variable> : <output> , <iterator>\n",
    "\n",
    "lambda i : i.capitalize() , input"
   ]
  },
  {
   "cell_type": "markdown",
   "id": "9318bf51-b76d-421c-8d23-eb8504a53900",
   "metadata": {},
   "source": [
    " - ## step-3: **map**"
   ]
  },
  {
   "cell_type": "code",
   "execution_count": 60,
   "id": "bc1c3ac8-a7a6-4eae-b4d7-a4509a457d3e",
   "metadata": {},
   "outputs": [
    {
     "data": {
      "text/plain": [
       "<map at 0x1f0e842f250>"
      ]
     },
     "execution_count": 60,
     "metadata": {},
     "output_type": "execute_result"
    }
   ],
   "source": [
    "#   map(lambda <variable> : <output> , <iterator>)\n",
    "\n",
    "map(lambda i : i.capitalize() , input)"
   ]
  },
  {
   "cell_type": "markdown",
   "id": "33f37e0c-aec7-470c-9bb7-10d7d033138c",
   "metadata": {},
   "source": [
    "## Step-4: **list(map)**"
   ]
  },
  {
   "cell_type": "code",
   "execution_count": 61,
   "id": "a45c2ed3-04d7-488f-a769-b9a53c892c52",
   "metadata": {},
   "outputs": [
    {
     "data": {
      "text/plain": [
       "['Hyd', 'Benguru', 'Mumbai', 'Pune']"
      ]
     },
     "execution_count": 61,
     "metadata": {},
     "output_type": "execute_result"
    }
   ],
   "source": [
    "#   list(map(lambda <variable> : <output> , <iterator>))\n",
    "\n",
    "input = ['hyd','benguru','mumbai','pune']\n",
    "\n",
    "list(map(lambda i : i.capitalize(),input))"
   ]
  },
  {
   "cell_type": "code",
   "execution_count": null,
   "id": "eb05b5da-8bbc-4a63-8136-77883f5d461c",
   "metadata": {},
   "outputs": [],
   "source": [
    "# Questions"
   ]
  },
  {
   "cell_type": "code",
   "execution_count": 63,
   "id": "29bfaf5a-c69d-43ab-bf2c-29f43097e455",
   "metadata": {},
   "outputs": [
    {
     "data": {
      "text/plain": [
       "['HYD', 'BENGURU', 'MUMBAI', 'PUNE']"
      ]
     },
     "execution_count": 63,
     "metadata": {},
     "output_type": "execute_result"
    }
   ],
   "source": [
    "input = ['hyd','benguru','mumbai','pune']\n",
    "list(map(lambda i : i.upper(),input))"
   ]
  },
  {
   "cell_type": "code",
   "execution_count": 71,
   "id": "bc20ebd0-fa31-4ff9-b4e9-11fedf7e802e",
   "metadata": {},
   "outputs": [
    {
     "data": {
      "text/plain": [
       "[0, 1, 2, 3]"
      ]
     },
     "execution_count": 71,
     "metadata": {},
     "output_type": "execute_result"
    }
   ],
   "source": [
    "input = ['hyd','benguru','mumbai','pune']\n",
    "list(map(lambda i : input.index(i),input))"
   ]
  },
  {
   "cell_type": "code",
   "execution_count": 85,
   "id": "2dbca0f5-b1c9-44b6-9e37-2f6ef15bd9a6",
   "metadata": {},
   "outputs": [
    {
     "data": {
      "text/plain": [
       "['Hello', 'How', 'Are', 'You']"
      ]
     },
     "execution_count": 85,
     "metadata": {},
     "output_type": "execute_result"
    }
   ],
   "source": [
    "input = 'hello how are you'\n",
    "list(map(lambda i : i.capitalize(),input.split()))\n"
   ]
  },
  {
   "cell_type": "code",
   "execution_count": 87,
   "id": "cd1a4ea7-53f0-4eee-81ab-ba0655b9b430",
   "metadata": {},
   "outputs": [
    {
     "data": {
      "text/plain": [
       "[False, True, False, True]"
      ]
     },
     "execution_count": 87,
     "metadata": {},
     "output_type": "execute_result"
    }
   ],
   "source": [
    "input = ['hyd', 'beng#luru','mumbai','pu#ne']\n",
    "\n",
    "list(map(lambda i : '#' in i,input))\n"
   ]
  },
  {
   "cell_type": "code",
   "execution_count": 89,
   "id": "70c53e7d-fb1a-4e71-a5f8-da7e80c99718",
   "metadata": {},
   "outputs": [
    {
     "data": {
      "text/plain": [
       "[False, True, False, True]"
      ]
     },
     "execution_count": 89,
     "metadata": {},
     "output_type": "execute_result"
    }
   ],
   "source": [
    "# lambda arguments : condition, iterator\n",
    "\n",
    "list(map(lambda i : '#' in i , input))"
   ]
  },
  {
   "cell_type": "markdown",
   "id": "c12e68c1-08cd-44db-bcef-62731d8452a7",
   "metadata": {},
   "source": [
    "## filter\n",
    "- filter is applied on lambda function to retrive the true output\n",
    "- map will just map the function and iterator\n",
    "- when we apply condition map will give True False\n",
    "- filter will use instead of map"
   ]
  },
  {
   "cell_type": "code",
   "execution_count": null,
   "id": "f79a4f61-9f25-42f6-b641-51d423b7c240",
   "metadata": {},
   "outputs": [],
   "source": [
    "#   map(lambda <variable> : <cond> , <iterator>)\n"
   ]
  },
  {
   "cell_type": "code",
   "execution_count": 90,
   "id": "c4aecb80-4580-4078-91ee-1480115aa247",
   "metadata": {},
   "outputs": [
    {
     "data": {
      "text/plain": [
       "['beng#luru', 'pu#ne']"
      ]
     },
     "execution_count": 90,
     "metadata": {},
     "output_type": "execute_result"
    }
   ],
   "source": [
    "input = ['hyd', 'beng#luru','mumbai','pu#ne']\n",
    "\n",
    "list(filter(lambda i : '#' in i,input))\n"
   ]
  },
  {
   "cell_type": "code",
   "execution_count": 91,
   "id": "ad5f4d86-8b6c-4b7d-b6de-0313ab5cd68b",
   "metadata": {},
   "outputs": [
    {
     "data": {
      "text/plain": [
       "['hyd', 'mumbai']"
      ]
     },
     "execution_count": 91,
     "metadata": {},
     "output_type": "execute_result"
    }
   ],
   "source": [
    "input = ['hyd', 'beng#luru','mumbai','pu#ne']\n",
    "\n",
    "list(filter(lambda i : '#' not in i,input))\n"
   ]
  },
  {
   "cell_type": "markdown",
   "id": "23a6837c-b05a-429a-852c-57bb2e2db10c",
   "metadata": {},
   "source": [
    "## reduce\n",
    "- reduce will helpful to perform math operations using lambda function\n",
    "- it is method under a package called : **functools**"
   ]
  },
  {
   "cell_type": "code",
   "execution_count": null,
   "id": "ce291798-6040-4fc5-8df1-745a087173e7",
   "metadata": {},
   "outputs": [],
   "source": []
  },
  {
   "cell_type": "code",
   "execution_count": 93,
   "id": "de867a38-5f5c-4766-afcd-460cfc77c55d",
   "metadata": {},
   "outputs": [],
   "source": [
    "import functools"
   ]
  },
  {
   "cell_type": "code",
   "execution_count": 94,
   "id": "59a565eb-730a-45cc-9347-16b7c1562714",
   "metadata": {},
   "outputs": [
    {
     "data": {
      "text/plain": [
       "['GenericAlias',\n",
       " 'RLock',\n",
       " 'WRAPPER_ASSIGNMENTS',\n",
       " 'WRAPPER_UPDATES',\n",
       " '_CacheInfo',\n",
       " '_HashedSeq',\n",
       " '_NOT_FOUND',\n",
       " '__all__',\n",
       " '__builtins__',\n",
       " '__cached__',\n",
       " '__doc__',\n",
       " '__file__',\n",
       " '__loader__',\n",
       " '__name__',\n",
       " '__package__',\n",
       " '__spec__',\n",
       " '_c3_merge',\n",
       " '_c3_mro',\n",
       " '_compose_mro',\n",
       " '_convert',\n",
       " '_find_impl',\n",
       " '_ge_from_gt',\n",
       " '_ge_from_le',\n",
       " '_ge_from_lt',\n",
       " '_gt_from_ge',\n",
       " '_gt_from_le',\n",
       " '_gt_from_lt',\n",
       " '_initial_missing',\n",
       " '_le_from_ge',\n",
       " '_le_from_gt',\n",
       " '_le_from_lt',\n",
       " '_lru_cache_wrapper',\n",
       " '_lt_from_ge',\n",
       " '_lt_from_gt',\n",
       " '_lt_from_le',\n",
       " '_make_key',\n",
       " '_unwrap_partial',\n",
       " 'cache',\n",
       " 'cached_property',\n",
       " 'cmp_to_key',\n",
       " 'get_cache_token',\n",
       " 'lru_cache',\n",
       " 'namedtuple',\n",
       " 'partial',\n",
       " 'partialmethod',\n",
       " 'recursive_repr',\n",
       " 'reduce',\n",
       " 'singledispatch',\n",
       " 'singledispatchmethod',\n",
       " 'total_ordering',\n",
       " 'update_wrapper',\n",
       " 'wraps']"
      ]
     },
     "execution_count": 94,
     "metadata": {},
     "output_type": "execute_result"
    }
   ],
   "source": [
    "dir(functools)"
   ]
  },
  {
   "cell_type": "code",
   "execution_count": 100,
   "id": "e5a29424-58ab-4c4a-9157-cfc78b6b2355",
   "metadata": {},
   "outputs": [
    {
     "data": {
      "text/plain": [
       "15"
      ]
     },
     "execution_count": 100,
     "metadata": {},
     "output_type": "execute_result"
    }
   ],
   "source": [
    "from functools import reduce\n",
    "\n",
    "list1 = [1,2,3,4,5]\n",
    "reduce(lambda summ,i : summ+i, list1)"
   ]
  },
  {
   "cell_type": "code",
   "execution_count": 103,
   "id": "f5cb225d-cfa3-4567-89ac-d463e44e8537",
   "metadata": {},
   "outputs": [
    {
     "data": {
      "text/plain": [
       "215"
      ]
     },
     "execution_count": 103,
     "metadata": {},
     "output_type": "execute_result"
    }
   ],
   "source": [
    "# by default summ = 0,  i want summ = 200\n",
    "\n",
    "from functools import reduce\n",
    "\n",
    "list1 = [1,2,3,4,5]\n",
    "\n",
    "lambda summ,i : summ+i\n",
    "\n",
    "lambda summ,i : summ+i, list1\n",
    "\n",
    "lambda summ,i : summ+i, list1, 200\n",
    "\n",
    "\n",
    "reduce(lambda summ,i : summ+i, list1, 200)"
   ]
  },
  {
   "cell_type": "code",
   "execution_count": 106,
   "id": "850f6db5-c79b-4c83-aa92-5a3708ae1fe9",
   "metadata": {},
   "outputs": [
    {
     "data": {
      "text/plain": [
       "215"
      ]
     },
     "execution_count": 106,
     "metadata": {},
     "output_type": "execute_result"
    }
   ],
   "source": [
    "from functools import reduce\n",
    "\n",
    "list1 = [1,2,3,4,5]\n",
    "\n",
    "reduce(lambda summ,i : summ+i, list1, 200)\n"
   ]
  },
  {
   "cell_type": "code",
   "execution_count": null,
   "id": "91e20c0e-a5e5-4044-8b03-3fb40477ee92",
   "metadata": {},
   "outputs": [],
   "source": []
  }
 ],
 "metadata": {
  "kernelspec": {
   "display_name": "Python 3 (ipykernel)",
   "language": "python",
   "name": "python3"
  },
  "language_info": {
   "codemirror_mode": {
    "name": "ipython",
    "version": 3
   },
   "file_extension": ".py",
   "mimetype": "text/x-python",
   "name": "python",
   "nbconvert_exporter": "python",
   "pygments_lexer": "ipython3",
   "version": "3.11.4"
  }
 },
 "nbformat": 4,
 "nbformat_minor": 5
}
