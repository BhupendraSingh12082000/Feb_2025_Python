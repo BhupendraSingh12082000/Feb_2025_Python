{
 "cells": [
  {
   "cell_type": "markdown",
   "id": "abf153e1-79f0-452f-9dda-01c35eb1fb79",
   "metadata": {},
   "source": [
    "# List Comprehension"
   ]
  },
  {
   "cell_type": "markdown",
   "id": "198ff133-23f3-4b79-9b16-c3f635ead15c",
   "metadata": {},
   "source": [
    "- list comprehension a way to write a list operations  in a single line\n",
    "- when we apply for loop and if-else coditional statements then the code compilation become slow\n",
    "-  which means it takes much time\n",
    "-  in oreder to avoid the time complexity we will use list comprehension\n",
    "-  list comporehension is single line code"
   ]
  },
  {
   "cell_type": "markdown",
   "id": "81200546-55bd-48a7-ae08-ea08cfdf8ed7",
   "metadata": {},
   "source": [
    "## Case-1: only **for loop**"
   ]
  },
  {
   "cell_type": "code",
   "execution_count": 1,
   "id": "1634f285-d787-4105-80b7-03afe08c9537",
   "metadata": {},
   "outputs": [
    {
     "data": {
      "text/plain": [
       "[0, 1, 2, 3, 4, 5, 6, 7, 8, 9]"
      ]
     },
     "execution_count": 1,
     "metadata": {},
     "output_type": "execute_result"
    }
   ],
   "source": [
    "list1 = []\n",
    "for i in range(10):\n",
    "    list1.append(i)\n",
    "\n",
    "list1"
   ]
  },
  {
   "cell_type": "code",
   "execution_count": 5,
   "id": "dfa91053-4ca8-4ebe-81b6-61ce2af60cb1",
   "metadata": {},
   "outputs": [
    {
     "data": {
      "text/plain": [
       "[0, 1, 2, 3, 4, 5, 6, 7, 8, 9]"
      ]
     },
     "execution_count": 5,
     "metadata": {},
     "output_type": "execute_result"
    }
   ],
   "source": [
    "#list1 = [<code should write here> ]\n",
    "# inside code No need of append\n",
    "#list1 = [ <output var>   < for loop> ]\n",
    "\n",
    "list1 = [i for i in range(10)]\n",
    "list1"
   ]
  },
  {
   "cell_type": "code",
   "execution_count": 6,
   "id": "9547c287-3b25-47c6-9f71-926ad48b04ce",
   "metadata": {},
   "outputs": [],
   "source": [
    "# Q1) input = ['hyd', 'bengaluru', 'pune', 'mumbai']\n",
    "#     output = ['HYD', 'BENGALURU', 'PUNE', 'MUMBAI']\n",
    "\n",
    "# Q2) input = ['hyd', 'bengaluru', 'pune', 'mumbai']\n",
    "#     output = ['HYD', 'BENGALURU', 'PUNE', 'MUMBAI']"
   ]
  },
  {
   "cell_type": "code",
   "execution_count": 21,
   "id": "8bcc9374-3263-4714-8b9a-45d74ddda8bb",
   "metadata": {},
   "outputs": [
    {
     "data": {
      "text/plain": [
       "['Hyd', 'Bengaluru', 'Pune', 'Mumbai']"
      ]
     },
     "execution_count": 21,
     "metadata": {},
     "output_type": "execute_result"
    }
   ],
   "source": [
    "# Q1) input = ['hyd', 'bengaluru', 'pune', 'mumbai']\n",
    "#     output = ['HYD', 'BENGALURU', 'PUNE', 'MUMBAI']\n",
    "\n",
    "input = ['hyd', 'bengaluru', 'pune', 'mumbai']\n",
    "\n",
    "output = [i.capitalize() for i in input]\n",
    "output\n"
   ]
  },
  {
   "cell_type": "code",
   "execution_count": 22,
   "id": "9af08906-a801-4067-8cb9-e9bddffaebf3",
   "metadata": {},
   "outputs": [
    {
     "data": {
      "text/plain": [
       "['HYD', 'BENGALURU', 'PUNE', 'MUMBAI']"
      ]
     },
     "execution_count": 22,
     "metadata": {},
     "output_type": "execute_result"
    }
   ],
   "source": [
    "# Q2) input = ['hyd', 'bengaluru', 'pune', 'mumbai']\n",
    "#     output = ['HYD', 'BENGALURU', 'PUNE', 'MUMBAI']\n",
    "\n",
    "input = ['hyd', 'bengaluru', 'pune', 'mumbai']\n",
    "\n",
    "output = [i.upper() for i in input]\n",
    "output"
   ]
  },
  {
   "cell_type": "code",
   "execution_count": 26,
   "id": "e6e1de9a-c866-443e-8171-241f5c05fe5b",
   "metadata": {},
   "outputs": [
    {
     "name": "stdout",
     "output_type": "stream",
     "text": [
      "0\n",
      "10\n",
      "20\n",
      "30\n"
     ]
    }
   ],
   "source": [
    "# Q3) input = ['hyd', 'bengaluru', 'pune', 'mumbai']\n",
    "# multiply the index with 10\n",
    "\n",
    "# idea: get the indexes list first\n",
    "#   then multiply with 10\n",
    "\n",
    "input = ['hyd', 'bengaluru', 'pune', 'mumbai']\n",
    "\n",
    "for i in input:\n",
    "    print(input.index(i)*10)"
   ]
  },
  {
   "cell_type": "code",
   "execution_count": 29,
   "id": "9660d2f9-ba4d-4978-b028-450cbdd51560",
   "metadata": {},
   "outputs": [
    {
     "data": {
      "text/plain": [
       "[0, 10, 20, 30]"
      ]
     },
     "execution_count": 29,
     "metadata": {},
     "output_type": "execute_result"
    }
   ],
   "source": [
    "\n",
    "input = ['hyd', 'bengaluru', 'pune', 'mumbai']\n",
    "[input.index(i)*10  for i in input]\n"
   ]
  },
  {
   "cell_type": "code",
   "execution_count": 30,
   "id": "cd373d94-ad5d-4cb9-bb71-9d4fb1d7236f",
   "metadata": {},
   "outputs": [
    {
     "data": {
      "text/plain": [
       "60"
      ]
     },
     "execution_count": 30,
     "metadata": {},
     "output_type": "execute_result"
    }
   ],
   "source": [
    "# Q4) input = ['hyd', 'bengaluru', 'pune', 'mumbai']\n",
    "# calculate the sum of index\n",
    "\n",
    "input = ['hyd', 'bengaluru', 'pune', 'mumbai']\n",
    "\n",
    "input = ['hyd', 'bengaluru', 'pune', 'mumbai']\n",
    "output = [input.index(i)  for i in input]\n",
    "sum(ouput)"
   ]
  },
  {
   "cell_type": "markdown",
   "id": "25b1239a-08a9-4115-8ae8-87b550ff92d1",
   "metadata": {},
   "source": [
    "## walrus operator"
   ]
  },
  {
   "cell_type": "code",
   "execution_count": 32,
   "id": "2ad504fe-ec16-4577-a280-84785509b9b9",
   "metadata": {},
   "outputs": [
    {
     "ename": "SyntaxError",
     "evalue": "invalid syntax. Maybe you meant '==' or ':=' instead of '='? (3661996471.py, line 2)",
     "output_type": "error",
     "traceback": [
      "\u001b[1;36m  Cell \u001b[1;32mIn[32], line 2\u001b[1;36m\u001b[0m\n\u001b[1;33m    [summ = summ+i  for i in range(1,11)]\u001b[0m\n\u001b[1;37m     ^\u001b[0m\n\u001b[1;31mSyntaxError\u001b[0m\u001b[1;31m:\u001b[0m invalid syntax. Maybe you meant '==' or ':=' instead of '='?\n"
     ]
    }
   ],
   "source": [
    "summ = 0\n",
    "[summ = summ+i  for i in range(1,11)]"
   ]
  },
  {
   "cell_type": "code",
   "execution_count": 34,
   "id": "509216b1-8a8f-4cb7-8b9f-eabdee3fd4d7",
   "metadata": {},
   "outputs": [
    {
     "data": {
      "text/plain": [
       "55"
      ]
     },
     "execution_count": 34,
     "metadata": {},
     "output_type": "execute_result"
    }
   ],
   "source": [
    "summ = 0\n",
    "[summ := summ+i  for i in range(1,11)]     # ':=' instead of '='\n",
    "summ"
   ]
  },
  {
   "cell_type": "markdown",
   "id": "a2de74a2-61a1-4685-8345-672cecc34ac3",
   "metadata": {},
   "source": [
    "## Case-2: **for loop**  **if-else** condition"
   ]
  },
  {
   "cell_type": "code",
   "execution_count": 39,
   "id": "7a15d3c8-115f-4f2b-a98c-7598c418911f",
   "metadata": {},
   "outputs": [
    {
     "data": {
      "text/plain": [
       "['even :2', 'even :4', 'even :6', 'even :8', 'even :10']"
      ]
     },
     "execution_count": 39,
     "metadata": {},
     "output_type": "execute_result"
    }
   ],
   "source": [
    "# Even number\n",
    "even_list = []\n",
    "for i in range(1,11):\n",
    "    if i%2==0:\n",
    "       even_list.append(f\"even :{i}\")\n",
    "\n",
    "even_list   "
   ]
  },
  {
   "cell_type": "code",
   "execution_count": 40,
   "id": "3d256545-244e-4d78-843b-0d70e472cebb",
   "metadata": {},
   "outputs": [
    {
     "data": {
      "text/plain": [
       "['even :2', 'even :4', 'even :6', 'even :8', 'even :10']"
      ]
     },
     "execution_count": 40,
     "metadata": {},
     "output_type": "execute_result"
    }
   ],
   "source": [
    "[(f\"even :{i}\") for i in range(1,11)  if i%2==0 ]"
   ]
  },
  {
   "cell_type": "code",
   "execution_count": 44,
   "id": "7aac64ac-a191-41dc-a310-f88cc090f719",
   "metadata": {},
   "outputs": [
    {
     "data": {
      "text/plain": [
       "['ben#galuru', 'mu#mbai']"
      ]
     },
     "execution_count": 44,
     "metadata": {},
     "output_type": "execute_result"
    }
   ],
   "source": [
    "# Q5) input=['hyd','ben#galuru','pune','mu#mbai']\n",
    "#     output=[ben#galuru',mu#mbai']\n",
    "\n",
    "input=['hyd','ben#galuru','pune','mu#mbai']\n",
    "list1 = []\n",
    "[list1.append(i)  for i in input  if '#' in i]\n",
    "list1"
   ]
  },
  {
   "cell_type": "code",
   "execution_count": 47,
   "id": "61e9316b-7518-4c38-8240-5eba298c17e7",
   "metadata": {},
   "outputs": [
    {
     "data": {
      "text/plain": [
       "[0, 1, 2, 3]"
      ]
     },
     "execution_count": 47,
     "metadata": {},
     "output_type": "execute_result"
    }
   ],
   "source": [
    "input=['hyd','ben#galuru','pune','mu#mbai']\n",
    "\n",
    "ouput = [i for i in input  if '#' in i]\n",
    "output"
   ]
  },
  {
   "cell_type": "code",
   "execution_count": 45,
   "id": "0ea56f36-75c5-43a9-abb6-f8c3a0d4adc4",
   "metadata": {},
   "outputs": [
    {
     "data": {
      "text/plain": [
       "['hyd', 'pune']"
      ]
     },
     "execution_count": 45,
     "metadata": {},
     "output_type": "execute_result"
    }
   ],
   "source": [
    "# Q6) input=['hyd','ben#galuru','pune','mu#mbai']\n",
    "#     output=[hyd,pune]\n",
    "\n",
    "input=['hyd','ben#galuru','pune','mu#mbai']\n",
    "list1 = []\n",
    "[list1.append(i)  for i in input  if '#' not in i]\n",
    "list1\n"
   ]
  },
  {
   "cell_type": "markdown",
   "id": "3c8b01c5-0433-4fdb-abdf-c2f55c2b2f1b",
   "metadata": {},
   "source": [
    "## Case-3: for-if-else:\n"
   ]
  },
  {
   "cell_type": "code",
   "execution_count": null,
   "id": "ce26e149-fa4e-4402-a996-64248faf6076",
   "metadata": {},
   "outputs": [],
   "source": [
    "[<if out> <if cond> else <else cond> <for loop>]"
   ]
  },
  {
   "cell_type": "code",
   "execution_count": 51,
   "id": "e3b3466a-fbc4-435f-b26a-8f166187e7f1",
   "metadata": {},
   "outputs": [
    {
     "data": {
      "text/plain": [
       "['odd:1',\n",
       " 'even :2',\n",
       " 'odd:3',\n",
       " 'even :4',\n",
       " 'odd:5',\n",
       " 'even :6',\n",
       " 'odd:7',\n",
       " 'even :8',\n",
       " 'odd:9',\n",
       " 'even :10']"
      ]
     },
     "execution_count": 51,
     "metadata": {},
     "output_type": "execute_result"
    }
   ],
   "source": [
    "# Even number\n",
    "list1 = []\n",
    "for i in range(1,11):\n",
    "    if i%2==0:\n",
    "       list1.append(f\"even :{i}\")\n",
    "\n",
    "    else:\n",
    "        list1.append(f\"odd:{i}\")\n",
    "\n",
    "list1   "
   ]
  },
  {
   "cell_type": "code",
   "execution_count": 52,
   "id": "98aefb2f-b1c3-4474-8ab6-f6feec227a1e",
   "metadata": {},
   "outputs": [
    {
     "data": {
      "text/plain": [
       "['odd:1',\n",
       " 'even :2',\n",
       " 'odd:3',\n",
       " 'even :4',\n",
       " 'odd:5',\n",
       " 'even :6',\n",
       " 'odd:7',\n",
       " 'even :8',\n",
       " 'odd:9',\n",
       " 'even :10']"
      ]
     },
     "execution_count": 52,
     "metadata": {},
     "output_type": "execute_result"
    }
   ],
   "source": [
    "[f\"even :{i}\" if i%2==0 else f'odd:{i}'for i in range(1,11) ]"
   ]
  },
  {
   "cell_type": "markdown",
   "id": "73a1a3e3-c395-4a7d-884a-bee773248cd5",
   "metadata": {},
   "source": [
    "## Case-4: for-if-elif-else\n",
    "- in list comprehension we don't have elif representation\n",
    "- elif also represents as else + if\n",
    "- in elif we have **elif condition** and **elif output**\n",
    "- else elif_output elif condition"
   ]
  },
  {
   "cell_type": "code",
   "execution_count": null,
   "id": "c54ac219-f65c-4797-ae86-cca7c7dcf61d",
   "metadata": {},
   "outputs": [],
   "source": [
    "[<if out> <if cond>      else  <elif out> <elif cond>      else <else cond>       <for loop>]"
   ]
  },
  {
   "cell_type": "code",
   "execution_count": null,
   "id": "be8c20b8-4b9e-46e1-9be4-7789ef864db4",
   "metadata": {},
   "outputs": [],
   "source": []
  },
  {
   "cell_type": "code",
   "execution_count": 53,
   "id": "fe7e2907-11a4-46c5-9b37-275c746130fa",
   "metadata": {},
   "outputs": [
    {
     "name": "stdout",
     "output_type": "stream",
     "text": [
      "45:C grade\n",
      "55:C grade\n",
      "65:B grade\n",
      "75:B grade\n",
      "85:B grade\n",
      "95:A grade\n"
     ]
    }
   ],
   "source": [
    "# >85 A grade  60-85 B grade    leass than 60 C grade\n",
    "\n",
    "l = [45,55,65,75,85,95]\n",
    "for i in l:\n",
    "    if i>85:\n",
    "        print(f'{i}:A grade')\n",
    "\n",
    "    elif i>60:\n",
    "        print(f'{i}:B grade')\n",
    "\n",
    "    else:\n",
    "        print(f'{i}:C grade')"
   ]
  },
  {
   "cell_type": "code",
   "execution_count": 56,
   "id": "4d60f173-0cc8-4a92-90a5-fa6a7f3f29b7",
   "metadata": {},
   "outputs": [
    {
     "data": {
      "text/plain": [
       "['45:C grade',\n",
       " '55:C grade',\n",
       " '65:B grade',\n",
       " '75:B grade',\n",
       " '85:B grade',\n",
       " '95:A grade']"
      ]
     },
     "execution_count": 56,
     "metadata": {},
     "output_type": "execute_result"
    }
   ],
   "source": [
    "l = [45,55,65,75,85,95]\n",
    "\n",
    "[ f\"{i}:A grade\" if i>85  else f\"{i}:B grade\"if i>60  else f'{i}:C grade'  for i in l  ]"
   ]
  },
  {
   "cell_type": "code",
   "execution_count": null,
   "id": "19436eb3-59cc-41b4-a562-122a8729749b",
   "metadata": {},
   "outputs": [],
   "source": []
  }
 ],
 "metadata": {
  "kernelspec": {
   "display_name": "Python 3 (ipykernel)",
   "language": "python",
   "name": "python3"
  },
  "language_info": {
   "codemirror_mode": {
    "name": "ipython",
    "version": 3
   },
   "file_extension": ".py",
   "mimetype": "text/x-python",
   "name": "python",
   "nbconvert_exporter": "python",
   "pygments_lexer": "ipython3",
   "version": "3.11.4"
  }
 },
 "nbformat": 4,
 "nbformat_minor": 5
}
